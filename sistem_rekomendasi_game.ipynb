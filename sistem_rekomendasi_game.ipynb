{
  "nbformat": 4,
  "nbformat_minor": 0,
  "metadata": {
    "colab": {
      "provenance": []
    },
    "kernelspec": {
      "name": "python3",
      "display_name": "Python 3"
    },
    "language_info": {
      "name": "python"
    }
  },
  "cells": [
    {
      "cell_type": "markdown",
      "source": [
        "# Sistem Rekomendasi Game mengunakan metode Content Base Filtering"
      ],
      "metadata": {
        "id": "ZCUFA0bAGgO-"
      }
    },
    {
      "cell_type": "markdown",
      "source": [
        "# Pertanyaan Bisnis\n",
        "1. Bagaimana merekomendasikan game kepada pengguna berdasarkan kesukaan genre yang sama\n",
        "2. Bagaimana menghitung akurasi berbasis evaluasi, berdasarkan sistem rekomendasi games berdasarkan genre\n",
        "\n",
        "#Link dataset\n",
        "kaagle : https://www.kaggle.com/datasets/uuratl/metacritic-games-12-23-2024"
      ],
      "metadata": {
        "id": "4YOQGdC0GtSi"
      }
    },
    {
      "cell_type": "markdown",
      "source": [
        "# Persiapan Library"
      ],
      "metadata": {
        "id": "E9Ej7ED5Kucd"
      }
    },
    {
      "cell_type": "code",
      "source": [
        "import pandas as pd\n",
        "import numpy as np\n",
        "import kagglehub\n",
        "import re\n",
        "from kagglehub import KaggleDatasetAdapter\n",
        "from sklearn.metrics.pairwise import cosine_similarity\n",
        "from sklearn.feature_extraction.text import TfidfVectorizer"
      ],
      "metadata": {
        "id": "6YTAWd1oK4gl"
      },
      "execution_count": null,
      "outputs": []
    },
    {
      "cell_type": "markdown",
      "source": [
        "# Data Understanding"
      ],
      "metadata": {
        "id": "XShe0qz9KAh7"
      }
    },
    {
      "cell_type": "code",
      "source": [
        "# Set the path to the file you'd like to load\n",
        "file_path = \"12_23_2024_detailed_data.csv\"\n",
        "\n",
        "df = kagglehub.load_dataset(\n",
        "  KaggleDatasetAdapter.PANDAS,\n",
        "  \"uuratl/metacritic-games-12-23-2024\",\n",
        "  file_path,\n",
        ")\n",
        "df.head()"
      ],
      "metadata": {
        "colab": {
          "base_uri": "https://localhost:8080/",
          "height": 504
        },
        "id": "gkp_pFAAOJhp",
        "outputId": "132798e7-0c2b-4c5d-cc33-f29d3307a9a3"
      },
      "execution_count": null,
      "outputs": [
        {
          "output_type": "stream",
          "name": "stderr",
          "text": [
            "<ipython-input-3-b317389649f5>:4: DeprecationWarning: load_dataset is deprecated and will be removed in a future version.\n",
            "  df = kagglehub.load_dataset(\n"
          ]
        },
        {
          "output_type": "execute_result",
          "data": {
            "text/plain": [
              "   Unnamed: 0                                  name  \\\n",
              "0           0  The Legend of Zelda: Ocarina of Time   \n",
              "1           1                           SoulCalibur   \n",
              "2           2                   Grand Theft Auto IV   \n",
              "3           3                    Super Mario Galaxy   \n",
              "4           4                  Super Mario Galaxy 2   \n",
              "\n",
              "      metacritic_review_count metacritic_review_score  \\\n",
              "0  Based on 22 Critic Reviews                      99   \n",
              "1  Based on 24 Critic Reviews                      98   \n",
              "2  Based on 86 Critic Reviews                      98   \n",
              "3  Based on 73 Critic Reviews                      97   \n",
              "4  Based on 87 Critic Reviews                      97   \n",
              "\n",
              "              user_review_count user_review_score  \\\n",
              "0  Based on 10,273 User Ratings               9.1   \n",
              "1     Based on 574 User Ratings               7.8   \n",
              "2   Based on 4,462 User Ratings               8.3   \n",
              "3   Based on 4,027 User Ratings               9.1   \n",
              "4   Based on 2,857 User Ratings               9.0   \n",
              "\n",
              "                                 developer                  publisher  \\\n",
              "0            Developer:           Nintendo        Publisher: Nintendo   \n",
              "1               Developer:           Namco           Publisher: Namco   \n",
              "2      Developer:           Rockstar North  Publisher: Rockstar Games   \n",
              "3            Developer:           Nintendo        Publisher: Nintendo   \n",
              "4  Developer:           Nintendo EAD Tokyo        Publisher: Nintendo   \n",
              "\n",
              "                                        platforms                 genres  \\\n",
              "0                                 ['Nintendo 64']  ['Open-World Action']   \n",
              "1  ['Dreamcast', 'iOS (iPhone/iPad)', 'Xbox 360']        ['3D Fighting']   \n",
              "2             ['PlayStation 3', 'Xbox 360', 'PC']  ['Open-World Action']   \n",
              "3                                         ['Wii']      ['3D Platformer']   \n",
              "4                                         ['Wii']      ['3D Platformer']   \n",
              "\n",
              "                                             esrb  must_play  \n",
              "0  Rated E                           for Everyone          1  \n",
              "1      Rated T                           for Teen          1  \n",
              "2    Rated M                           for Mature          1  \n",
              "3  Rated E                           for Everyone          1  \n",
              "4  Rated E                           for Everyone          1  "
            ],
            "text/html": [
              "\n",
              "  <div id=\"df-26e30289-c977-4de1-84fd-141d45170974\" class=\"colab-df-container\">\n",
              "    <div>\n",
              "<style scoped>\n",
              "    .dataframe tbody tr th:only-of-type {\n",
              "        vertical-align: middle;\n",
              "    }\n",
              "\n",
              "    .dataframe tbody tr th {\n",
              "        vertical-align: top;\n",
              "    }\n",
              "\n",
              "    .dataframe thead th {\n",
              "        text-align: right;\n",
              "    }\n",
              "</style>\n",
              "<table border=\"1\" class=\"dataframe\">\n",
              "  <thead>\n",
              "    <tr style=\"text-align: right;\">\n",
              "      <th></th>\n",
              "      <th>Unnamed: 0</th>\n",
              "      <th>name</th>\n",
              "      <th>metacritic_review_count</th>\n",
              "      <th>metacritic_review_score</th>\n",
              "      <th>user_review_count</th>\n",
              "      <th>user_review_score</th>\n",
              "      <th>developer</th>\n",
              "      <th>publisher</th>\n",
              "      <th>platforms</th>\n",
              "      <th>genres</th>\n",
              "      <th>esrb</th>\n",
              "      <th>must_play</th>\n",
              "    </tr>\n",
              "  </thead>\n",
              "  <tbody>\n",
              "    <tr>\n",
              "      <th>0</th>\n",
              "      <td>0</td>\n",
              "      <td>The Legend of Zelda: Ocarina of Time</td>\n",
              "      <td>Based on 22 Critic Reviews</td>\n",
              "      <td>99</td>\n",
              "      <td>Based on 10,273 User Ratings</td>\n",
              "      <td>9.1</td>\n",
              "      <td>Developer:           Nintendo</td>\n",
              "      <td>Publisher: Nintendo</td>\n",
              "      <td>['Nintendo 64']</td>\n",
              "      <td>['Open-World Action']</td>\n",
              "      <td>Rated E                           for Everyone</td>\n",
              "      <td>1</td>\n",
              "    </tr>\n",
              "    <tr>\n",
              "      <th>1</th>\n",
              "      <td>1</td>\n",
              "      <td>SoulCalibur</td>\n",
              "      <td>Based on 24 Critic Reviews</td>\n",
              "      <td>98</td>\n",
              "      <td>Based on 574 User Ratings</td>\n",
              "      <td>7.8</td>\n",
              "      <td>Developer:           Namco</td>\n",
              "      <td>Publisher: Namco</td>\n",
              "      <td>['Dreamcast', 'iOS (iPhone/iPad)', 'Xbox 360']</td>\n",
              "      <td>['3D Fighting']</td>\n",
              "      <td>Rated T                           for Teen</td>\n",
              "      <td>1</td>\n",
              "    </tr>\n",
              "    <tr>\n",
              "      <th>2</th>\n",
              "      <td>2</td>\n",
              "      <td>Grand Theft Auto IV</td>\n",
              "      <td>Based on 86 Critic Reviews</td>\n",
              "      <td>98</td>\n",
              "      <td>Based on 4,462 User Ratings</td>\n",
              "      <td>8.3</td>\n",
              "      <td>Developer:           Rockstar North</td>\n",
              "      <td>Publisher: Rockstar Games</td>\n",
              "      <td>['PlayStation 3', 'Xbox 360', 'PC']</td>\n",
              "      <td>['Open-World Action']</td>\n",
              "      <td>Rated M                           for Mature</td>\n",
              "      <td>1</td>\n",
              "    </tr>\n",
              "    <tr>\n",
              "      <th>3</th>\n",
              "      <td>3</td>\n",
              "      <td>Super Mario Galaxy</td>\n",
              "      <td>Based on 73 Critic Reviews</td>\n",
              "      <td>97</td>\n",
              "      <td>Based on 4,027 User Ratings</td>\n",
              "      <td>9.1</td>\n",
              "      <td>Developer:           Nintendo</td>\n",
              "      <td>Publisher: Nintendo</td>\n",
              "      <td>['Wii']</td>\n",
              "      <td>['3D Platformer']</td>\n",
              "      <td>Rated E                           for Everyone</td>\n",
              "      <td>1</td>\n",
              "    </tr>\n",
              "    <tr>\n",
              "      <th>4</th>\n",
              "      <td>4</td>\n",
              "      <td>Super Mario Galaxy 2</td>\n",
              "      <td>Based on 87 Critic Reviews</td>\n",
              "      <td>97</td>\n",
              "      <td>Based on 2,857 User Ratings</td>\n",
              "      <td>9.0</td>\n",
              "      <td>Developer:           Nintendo EAD Tokyo</td>\n",
              "      <td>Publisher: Nintendo</td>\n",
              "      <td>['Wii']</td>\n",
              "      <td>['3D Platformer']</td>\n",
              "      <td>Rated E                           for Everyone</td>\n",
              "      <td>1</td>\n",
              "    </tr>\n",
              "  </tbody>\n",
              "</table>\n",
              "</div>\n",
              "    <div class=\"colab-df-buttons\">\n",
              "\n",
              "  <div class=\"colab-df-container\">\n",
              "    <button class=\"colab-df-convert\" onclick=\"convertToInteractive('df-26e30289-c977-4de1-84fd-141d45170974')\"\n",
              "            title=\"Convert this dataframe to an interactive table.\"\n",
              "            style=\"display:none;\">\n",
              "\n",
              "  <svg xmlns=\"http://www.w3.org/2000/svg\" height=\"24px\" viewBox=\"0 -960 960 960\">\n",
              "    <path d=\"M120-120v-720h720v720H120Zm60-500h600v-160H180v160Zm220 220h160v-160H400v160Zm0 220h160v-160H400v160ZM180-400h160v-160H180v160Zm440 0h160v-160H620v160ZM180-180h160v-160H180v160Zm440 0h160v-160H620v160Z\"/>\n",
              "  </svg>\n",
              "    </button>\n",
              "\n",
              "  <style>\n",
              "    .colab-df-container {\n",
              "      display:flex;\n",
              "      gap: 12px;\n",
              "    }\n",
              "\n",
              "    .colab-df-convert {\n",
              "      background-color: #E8F0FE;\n",
              "      border: none;\n",
              "      border-radius: 50%;\n",
              "      cursor: pointer;\n",
              "      display: none;\n",
              "      fill: #1967D2;\n",
              "      height: 32px;\n",
              "      padding: 0 0 0 0;\n",
              "      width: 32px;\n",
              "    }\n",
              "\n",
              "    .colab-df-convert:hover {\n",
              "      background-color: #E2EBFA;\n",
              "      box-shadow: 0px 1px 2px rgba(60, 64, 67, 0.3), 0px 1px 3px 1px rgba(60, 64, 67, 0.15);\n",
              "      fill: #174EA6;\n",
              "    }\n",
              "\n",
              "    .colab-df-buttons div {\n",
              "      margin-bottom: 4px;\n",
              "    }\n",
              "\n",
              "    [theme=dark] .colab-df-convert {\n",
              "      background-color: #3B4455;\n",
              "      fill: #D2E3FC;\n",
              "    }\n",
              "\n",
              "    [theme=dark] .colab-df-convert:hover {\n",
              "      background-color: #434B5C;\n",
              "      box-shadow: 0px 1px 3px 1px rgba(0, 0, 0, 0.15);\n",
              "      filter: drop-shadow(0px 1px 2px rgba(0, 0, 0, 0.3));\n",
              "      fill: #FFFFFF;\n",
              "    }\n",
              "  </style>\n",
              "\n",
              "    <script>\n",
              "      const buttonEl =\n",
              "        document.querySelector('#df-26e30289-c977-4de1-84fd-141d45170974 button.colab-df-convert');\n",
              "      buttonEl.style.display =\n",
              "        google.colab.kernel.accessAllowed ? 'block' : 'none';\n",
              "\n",
              "      async function convertToInteractive(key) {\n",
              "        const element = document.querySelector('#df-26e30289-c977-4de1-84fd-141d45170974');\n",
              "        const dataTable =\n",
              "          await google.colab.kernel.invokeFunction('convertToInteractive',\n",
              "                                                    [key], {});\n",
              "        if (!dataTable) return;\n",
              "\n",
              "        const docLinkHtml = 'Like what you see? Visit the ' +\n",
              "          '<a target=\"_blank\" href=https://colab.research.google.com/notebooks/data_table.ipynb>data table notebook</a>'\n",
              "          + ' to learn more about interactive tables.';\n",
              "        element.innerHTML = '';\n",
              "        dataTable['output_type'] = 'display_data';\n",
              "        await google.colab.output.renderOutput(dataTable, element);\n",
              "        const docLink = document.createElement('div');\n",
              "        docLink.innerHTML = docLinkHtml;\n",
              "        element.appendChild(docLink);\n",
              "      }\n",
              "    </script>\n",
              "  </div>\n",
              "\n",
              "\n",
              "    <div id=\"df-36259365-e1a4-4881-bcca-ec2540c0f6ce\">\n",
              "      <button class=\"colab-df-quickchart\" onclick=\"quickchart('df-36259365-e1a4-4881-bcca-ec2540c0f6ce')\"\n",
              "                title=\"Suggest charts\"\n",
              "                style=\"display:none;\">\n",
              "\n",
              "<svg xmlns=\"http://www.w3.org/2000/svg\" height=\"24px\"viewBox=\"0 0 24 24\"\n",
              "     width=\"24px\">\n",
              "    <g>\n",
              "        <path d=\"M19 3H5c-1.1 0-2 .9-2 2v14c0 1.1.9 2 2 2h14c1.1 0 2-.9 2-2V5c0-1.1-.9-2-2-2zM9 17H7v-7h2v7zm4 0h-2V7h2v10zm4 0h-2v-4h2v4z\"/>\n",
              "    </g>\n",
              "</svg>\n",
              "      </button>\n",
              "\n",
              "<style>\n",
              "  .colab-df-quickchart {\n",
              "      --bg-color: #E8F0FE;\n",
              "      --fill-color: #1967D2;\n",
              "      --hover-bg-color: #E2EBFA;\n",
              "      --hover-fill-color: #174EA6;\n",
              "      --disabled-fill-color: #AAA;\n",
              "      --disabled-bg-color: #DDD;\n",
              "  }\n",
              "\n",
              "  [theme=dark] .colab-df-quickchart {\n",
              "      --bg-color: #3B4455;\n",
              "      --fill-color: #D2E3FC;\n",
              "      --hover-bg-color: #434B5C;\n",
              "      --hover-fill-color: #FFFFFF;\n",
              "      --disabled-bg-color: #3B4455;\n",
              "      --disabled-fill-color: #666;\n",
              "  }\n",
              "\n",
              "  .colab-df-quickchart {\n",
              "    background-color: var(--bg-color);\n",
              "    border: none;\n",
              "    border-radius: 50%;\n",
              "    cursor: pointer;\n",
              "    display: none;\n",
              "    fill: var(--fill-color);\n",
              "    height: 32px;\n",
              "    padding: 0;\n",
              "    width: 32px;\n",
              "  }\n",
              "\n",
              "  .colab-df-quickchart:hover {\n",
              "    background-color: var(--hover-bg-color);\n",
              "    box-shadow: 0 1px 2px rgba(60, 64, 67, 0.3), 0 1px 3px 1px rgba(60, 64, 67, 0.15);\n",
              "    fill: var(--button-hover-fill-color);\n",
              "  }\n",
              "\n",
              "  .colab-df-quickchart-complete:disabled,\n",
              "  .colab-df-quickchart-complete:disabled:hover {\n",
              "    background-color: var(--disabled-bg-color);\n",
              "    fill: var(--disabled-fill-color);\n",
              "    box-shadow: none;\n",
              "  }\n",
              "\n",
              "  .colab-df-spinner {\n",
              "    border: 2px solid var(--fill-color);\n",
              "    border-color: transparent;\n",
              "    border-bottom-color: var(--fill-color);\n",
              "    animation:\n",
              "      spin 1s steps(1) infinite;\n",
              "  }\n",
              "\n",
              "  @keyframes spin {\n",
              "    0% {\n",
              "      border-color: transparent;\n",
              "      border-bottom-color: var(--fill-color);\n",
              "      border-left-color: var(--fill-color);\n",
              "    }\n",
              "    20% {\n",
              "      border-color: transparent;\n",
              "      border-left-color: var(--fill-color);\n",
              "      border-top-color: var(--fill-color);\n",
              "    }\n",
              "    30% {\n",
              "      border-color: transparent;\n",
              "      border-left-color: var(--fill-color);\n",
              "      border-top-color: var(--fill-color);\n",
              "      border-right-color: var(--fill-color);\n",
              "    }\n",
              "    40% {\n",
              "      border-color: transparent;\n",
              "      border-right-color: var(--fill-color);\n",
              "      border-top-color: var(--fill-color);\n",
              "    }\n",
              "    60% {\n",
              "      border-color: transparent;\n",
              "      border-right-color: var(--fill-color);\n",
              "    }\n",
              "    80% {\n",
              "      border-color: transparent;\n",
              "      border-right-color: var(--fill-color);\n",
              "      border-bottom-color: var(--fill-color);\n",
              "    }\n",
              "    90% {\n",
              "      border-color: transparent;\n",
              "      border-bottom-color: var(--fill-color);\n",
              "    }\n",
              "  }\n",
              "</style>\n",
              "\n",
              "      <script>\n",
              "        async function quickchart(key) {\n",
              "          const quickchartButtonEl =\n",
              "            document.querySelector('#' + key + ' button');\n",
              "          quickchartButtonEl.disabled = true;  // To prevent multiple clicks.\n",
              "          quickchartButtonEl.classList.add('colab-df-spinner');\n",
              "          try {\n",
              "            const charts = await google.colab.kernel.invokeFunction(\n",
              "                'suggestCharts', [key], {});\n",
              "          } catch (error) {\n",
              "            console.error('Error during call to suggestCharts:', error);\n",
              "          }\n",
              "          quickchartButtonEl.classList.remove('colab-df-spinner');\n",
              "          quickchartButtonEl.classList.add('colab-df-quickchart-complete');\n",
              "        }\n",
              "        (() => {\n",
              "          let quickchartButtonEl =\n",
              "            document.querySelector('#df-36259365-e1a4-4881-bcca-ec2540c0f6ce button');\n",
              "          quickchartButtonEl.style.display =\n",
              "            google.colab.kernel.accessAllowed ? 'block' : 'none';\n",
              "        })();\n",
              "      </script>\n",
              "    </div>\n",
              "\n",
              "    </div>\n",
              "  </div>\n"
            ],
            "application/vnd.google.colaboratory.intrinsic+json": {
              "type": "dataframe",
              "variable_name": "df",
              "summary": "{\n  \"name\": \"df\",\n  \"rows\": 13390,\n  \"fields\": [\n    {\n      \"column\": \"Unnamed: 0\",\n      \"properties\": {\n        \"dtype\": \"number\",\n        \"std\": 3865,\n        \"min\": 0,\n        \"max\": 13389,\n        \"num_unique_values\": 13390,\n        \"samples\": [\n          11009,\n          5493,\n          4015\n        ],\n        \"semantic_type\": \"\",\n        \"description\": \"\"\n      }\n    },\n    {\n      \"column\": \"name\",\n      \"properties\": {\n        \"dtype\": \"string\",\n        \"num_unique_values\": 13390,\n        \"samples\": [\n          \"Farming Simulator 20\",\n          \"Sly Cooper: Thieves in Time\",\n          \"Mega Man Zero Collection\"\n        ],\n        \"semantic_type\": \"\",\n        \"description\": \"\"\n      }\n    },\n    {\n      \"column\": \"metacritic_review_count\",\n      \"properties\": {\n        \"dtype\": \"category\",\n        \"num_unique_values\": 135,\n        \"samples\": [\n          \"Based on 47 Critic Reviews\",\n          \"Based on 77 Critic Reviews\",\n          \"Based on 63 Critic Reviews\"\n        ],\n        \"semantic_type\": \"\",\n        \"description\": \"\"\n      }\n    },\n    {\n      \"column\": \"metacritic_review_score\",\n      \"properties\": {\n        \"dtype\": \"category\",\n        \"num_unique_values\": 85,\n        \"samples\": [\n          \"22\",\n          \"99\",\n          \"32\"\n        ],\n        \"semantic_type\": \"\",\n        \"description\": \"\"\n      }\n    },\n    {\n      \"column\": \"user_review_count\",\n      \"properties\": {\n        \"dtype\": \"category\",\n        \"num_unique_values\": 1289,\n        \"samples\": [\n          \"Based on 1,458 User Ratings\",\n          \"Based on 648 User Ratings\",\n          \"Based on 3,394 User Ratings\"\n        ],\n        \"semantic_type\": \"\",\n        \"description\": \"\"\n      }\n    },\n    {\n      \"column\": \"user_review_score\",\n      \"properties\": {\n        \"dtype\": \"category\",\n        \"num_unique_values\": 94,\n        \"samples\": [\n          \"tbd\",\n          \"7.4\",\n          \"4.3\"\n        ],\n        \"semantic_type\": \"\",\n        \"description\": \"\"\n      }\n    },\n    {\n      \"column\": \"developer\",\n      \"properties\": {\n        \"dtype\": \"category\",\n        \"num_unique_values\": 4515,\n        \"samples\": [\n          \"Developer:           Skunkape Games\",\n          \"Developer:           8bit Games\",\n          \"Developer:           Probe Entertainment Limited\"\n        ],\n        \"semantic_type\": \"\",\n        \"description\": \"\"\n      }\n    },\n    {\n      \"column\": \"publisher\",\n      \"properties\": {\n        \"dtype\": \"category\",\n        \"num_unique_values\": 2033,\n        \"samples\": [\n          \"Publisher: Fabled Game\",\n          \"Publisher: Powerhoof\",\n          \"Publisher: Global Star Software\"\n        ],\n        \"semantic_type\": \"\",\n        \"description\": \"\"\n      }\n    },\n    {\n      \"column\": \"platforms\",\n      \"properties\": {\n        \"dtype\": \"category\",\n        \"num_unique_values\": 2758,\n        \"samples\": [\n          \"['PC', 'PlayStation 5']\",\n          \"['PC', 'PlayStation 4', 'PlayStation 3', 'Xbox One', 'Xbox 360', 'iOS (iPhone/iPad)', 'PlayStation Vita']\",\n          \"['Nintendo Switch', 'PlayStation 4', 'Xbox One', 'PC', 'iOS (iPhone/iPad)']\"\n        ],\n        \"semantic_type\": \"\",\n        \"description\": \"\"\n      }\n    },\n    {\n      \"column\": \"genres\",\n      \"properties\": {\n        \"dtype\": \"category\",\n        \"num_unique_values\": 119,\n        \"samples\": [\n          \"['Action']\",\n          \"['Football']\",\n          \"['FPS']\"\n        ],\n        \"semantic_type\": \"\",\n        \"description\": \"\"\n      }\n    },\n    {\n      \"column\": \"esrb\",\n      \"properties\": {\n        \"dtype\": \"category\",\n        \"num_unique_values\": 6,\n        \"samples\": [\n          \"Rated E                           for Everyone\",\n          \"Rated T                           for Teen\",\n          \"Rated AO                           for Adults Only\"\n        ],\n        \"semantic_type\": \"\",\n        \"description\": \"\"\n      }\n    },\n    {\n      \"column\": \"must_play\",\n      \"properties\": {\n        \"dtype\": \"number\",\n        \"std\": 0,\n        \"min\": 0,\n        \"max\": 1,\n        \"num_unique_values\": 2,\n        \"samples\": [\n          0,\n          1\n        ],\n        \"semantic_type\": \"\",\n        \"description\": \"\"\n      }\n    }\n  ]\n}"
            }
          },
          "metadata": {},
          "execution_count": 3
        }
      ]
    },
    {
      "cell_type": "markdown",
      "source": [
        "Mengambil dataset menggunakan library bawaan kaagle, agar projek bisa di running tanpa perlu input dataset\n",
        "\n",
        "\n",
        "---\n",
        "KaggleDatasetAdapter.PANDAS akan memanggil fungsi pandas\n",
        "file_path, mengambil nama file dari link dataset\n"
      ],
      "metadata": {
        "id": "Q8D9Lk6sg_er"
      }
    },
    {
      "cell_type": "markdown",
      "source": [
        "# Univariate Exploratory Data Analysis"
      ],
      "metadata": {
        "id": "QqeYDc-RKF30"
      }
    },
    {
      "cell_type": "markdown",
      "source": [
        "## melihat dimensi data"
      ],
      "metadata": {
        "id": "GrHh2mYVRJ64"
      }
    },
    {
      "cell_type": "code",
      "source": [
        "df.shape"
      ],
      "metadata": {
        "colab": {
          "base_uri": "https://localhost:8080/"
        },
        "id": "TBe2x_CHRSfN",
        "outputId": "34473ef2-50ad-454e-c8ea-192a2b1ac526"
      },
      "execution_count": null,
      "outputs": [
        {
          "output_type": "execute_result",
          "data": {
            "text/plain": [
              "(13390, 12)"
            ]
          },
          "metadata": {},
          "execution_count": 4
        }
      ]
    },
    {
      "cell_type": "markdown",
      "source": [
        "Melihat baris dan kolom yang dimiliki dataset"
      ],
      "metadata": {
        "id": "A1eJInQghTL4"
      }
    },
    {
      "cell_type": "markdown",
      "source": [
        "## Melihat informasi dataset"
      ],
      "metadata": {
        "id": "9HbMnIFpRctR"
      }
    },
    {
      "cell_type": "code",
      "source": [
        "df.info()"
      ],
      "metadata": {
        "colab": {
          "base_uri": "https://localhost:8080/"
        },
        "id": "Ru93jENvRgaE",
        "outputId": "63f448dc-819c-4859-8107-4a3f027aef33"
      },
      "execution_count": null,
      "outputs": [
        {
          "output_type": "stream",
          "name": "stdout",
          "text": [
            "<class 'pandas.core.frame.DataFrame'>\n",
            "RangeIndex: 13390 entries, 0 to 13389\n",
            "Data columns (total 12 columns):\n",
            " #   Column                   Non-Null Count  Dtype \n",
            "---  ------                   --------------  ----- \n",
            " 0   Unnamed: 0               13390 non-null  int64 \n",
            " 1   name                     13390 non-null  object\n",
            " 2   metacritic_review_count  13384 non-null  object\n",
            " 3   metacritic_review_score  13390 non-null  object\n",
            " 4   user_review_count        11833 non-null  object\n",
            " 5   user_review_score        13390 non-null  object\n",
            " 6   developer                13380 non-null  object\n",
            " 7   publisher                13380 non-null  object\n",
            " 8   platforms                13390 non-null  object\n",
            " 9   genres                   13390 non-null  object\n",
            " 10  esrb                     11287 non-null  object\n",
            " 11  must_play                13390 non-null  int64 \n",
            "dtypes: int64(2), object(10)\n",
            "memory usage: 1.2+ MB\n"
          ]
        }
      ]
    },
    {
      "cell_type": "markdown",
      "source": [
        "Dataset mentah memiliki total 13390 baris, kebanyakan bertype object, dan dua kolom bertype int64"
      ],
      "metadata": {
        "id": "ifn979tDhilg"
      }
    },
    {
      "cell_type": "markdown",
      "source": [
        "### Mengecek Duplikasi"
      ],
      "metadata": {
        "id": "pSiiP5xqeMST"
      }
    },
    {
      "cell_type": "code",
      "source": [
        "df.duplicated().sum()"
      ],
      "metadata": {
        "colab": {
          "base_uri": "https://localhost:8080/"
        },
        "id": "pfXF64UfeYeJ",
        "outputId": "1222f86c-9ed9-4b96-aeb8-c2078f6e0c75"
      },
      "execution_count": null,
      "outputs": [
        {
          "output_type": "execute_result",
          "data": {
            "text/plain": [
              "np.int64(0)"
            ]
          },
          "metadata": {},
          "execution_count": 21
        }
      ]
    },
    {
      "cell_type": "markdown",
      "source": [
        "tidak terdapat baris dengan nilai yang sama\n",
        "\n",
        "---\n",
        "\n",
        "fungsi duplicated mengambil baris yang memiliki duplikasi, dan sum menghitung jumlah duplikasi yang ada"
      ],
      "metadata": {
        "id": "-fIaAJqrej0h"
      }
    },
    {
      "cell_type": "markdown",
      "source": [
        "### Mengecek nilai unik Kolom Genres"
      ],
      "metadata": {
        "id": "yU8gQZYBeUMJ"
      }
    },
    {
      "cell_type": "code",
      "source": [
        "df['genres'].unique()"
      ],
      "metadata": {
        "colab": {
          "base_uri": "https://localhost:8080/"
        },
        "id": "ab-dJ7pievsx",
        "outputId": "db92b6c5-ffff-4ff5-db1f-aea7db95ed7c"
      },
      "execution_count": null,
      "outputs": [
        {
          "output_type": "execute_result",
          "data": {
            "text/plain": [
              "array([\"['Open-World Action']\", \"['3D Fighting']\", \"['3D Platformer']\",\n",
              "       \"['Skating']\", \"['FPS']\", \"['Football Sim']\",\n",
              "       \"['Linear Action Adventure']\", \"['Survival']\", \"['Western RPG']\",\n",
              "       \"['Compilation']\", \"['Visual Novel']\", \"['Action RPG']\",\n",
              "       \"['Auto Racing Sim']\", \"['Action Adventure']\", \"['2D Platformer']\",\n",
              "       \"['JRPG']\", \"['Third Person Shooter']\", \"['4X Strategy']\",\n",
              "       \"['Auto Racing']\", \"['2D Fighting']\", \"['Real-Time Strategy']\",\n",
              "       \"['Arcade']\", \"['Management']\", \"['Command RTS']\", \"['Skiing']\",\n",
              "       \"['Sandbox']\", \"['Soccer Sim']\", \"['Rhythm']\",\n",
              "       '[\"2D Beat-\\'Em-Up\"]', \"['Basketball Sim']\", \"['Roguelike']\",\n",
              "       \"['Future Racing']\", \"['MMORPG']\", \"['Application']\",\n",
              "       \"['Hockey Sim']\", \"['Virtual Life']\", \"['Turn-Based Tactics']\",\n",
              "       \"['Tactical FPS']\", \"['Tennis']\", \"['Arcade Racing']\",\n",
              "       \"['Baseball Sim']\", \"['Metroidvania']\", \"['Party']\",\n",
              "       \"['Aircraft Sim']\", \"['Card Battle']\", \"['Space Combat Sim']\",\n",
              "       \"['Aircraft Combat Sim']\", \"['Vehicle Combat Sim']\",\n",
              "       \"['Adventure']\", \"['Point-and-Click']\", \"['Golf']\",\n",
              "       \"['Action Puzzle']\", \"['Tycoon']\", \"['Basketball']\", \"['Dancing']\",\n",
              "       \"['Rail Shooter']\", \"['Action']\", \"['Wrestling']\",\n",
              "       \"['Marine Combat Sim']\", '[\"Top-Down Shoot-\\'Em-Up\"]',\n",
              "       \"['First-Person Adventure']\", \"['MOBA']\",\n",
              "       \"['Turn-Based Strategy']\", \"['Golf Sim']\", \"['Soccer Management']\",\n",
              "       \"['RPG']\", \"['Stacking Puzzle']\", \"['Exercise']\",\n",
              "       '[\"Horizontal Shoot-\\'Em-Up\"]', \"['Matching Puzzle']\",\n",
              "       \"['Pinball']\", \"['Combat Sport']\", \"['Space Sim']\",\n",
              "       \"['Trainer RPG']\", \"['Text Adventure']\", \"['Strategy']\",\n",
              "       \"['Puzzle']\", \"['Defense']\", \"['Tactical Third Person Shooter']\",\n",
              "       \"['Third-Person Adventure']\", \"['Board']\",\n",
              "       '[\"Vertical Shoot-\\'Em-Up\"]', \"['Miscellaneous']\",\n",
              "       \"['Real-Time Tactics']\", \"['Logic Puzzle']\", \"['Soccer']\",\n",
              "       \"['Light Gun']\", \"['Baseball']\", '[\"3D Beat-\\'Em-Up\"]',\n",
              "       \"['Football']\", \"['Biking']\", \"['Train Sim']\", \"['Simulation']\",\n",
              "       \"['Virtual Pet']\", \"['Virtual Career']\", \"['Future Sport']\",\n",
              "       \"['Trivia']\", \"['Sports']\", \"['Edutainment']\", \"['Billiards']\",\n",
              "       \"['Hidden Object']\", \"['Hockey']\", \"['Individual Sports']\",\n",
              "       \"['Vehicle Sim']\", \"['Athletics']\", \"['Surfing']\", \"['Artillery']\",\n",
              "       \"['Team Sports']\", \"['Fishing']\", \"['Racing Sim']\", \"['Gambling']\",\n",
              "       \"['Marine Sim']\", \"['Volleyball']\", \"['Rugby']\", \"['Cricket']\",\n",
              "       \"['Racing']\", \"['Horse Racing']\", \"['Bowling']\", \"['Hunting']\"],\n",
              "      dtype=object)"
            ]
          },
          "metadata": {},
          "execution_count": 23
        }
      ]
    },
    {
      "cell_type": "markdown",
      "source": [
        "Menjabarkan nilai unique dari genres, sebagai pertimbangan masukan untuk fungsi rekomendasi nanti"
      ],
      "metadata": {
        "id": "_ZUWPL8ye-H_"
      }
    },
    {
      "cell_type": "markdown",
      "source": [
        "# Data Preparation"
      ],
      "metadata": {
        "id": "Yiw_xHcEKYPd"
      }
    },
    {
      "cell_type": "markdown",
      "source": [
        "## Mengatasi missing value"
      ],
      "metadata": {
        "id": "hFzku_ujqkTx"
      }
    },
    {
      "cell_type": "code",
      "source": [
        "df.isnull().sum()"
      ],
      "metadata": {
        "colab": {
          "base_uri": "https://localhost:8080/",
          "height": 460
        },
        "id": "5iEU1XRtqqNi",
        "outputId": "b82b8daf-76f0-4215-9fdc-39bc42e06ac6"
      },
      "execution_count": null,
      "outputs": [
        {
          "output_type": "execute_result",
          "data": {
            "text/plain": [
              "Unnamed: 0                    0\n",
              "name                          0\n",
              "metacritic_review_count       6\n",
              "metacritic_review_score       0\n",
              "user_review_count          1557\n",
              "user_review_score             0\n",
              "developer                    10\n",
              "publisher                    10\n",
              "platforms                     0\n",
              "genres                        0\n",
              "esrb                       2103\n",
              "must_play                     0\n",
              "dtype: int64"
            ],
            "text/html": [
              "<div>\n",
              "<style scoped>\n",
              "    .dataframe tbody tr th:only-of-type {\n",
              "        vertical-align: middle;\n",
              "    }\n",
              "\n",
              "    .dataframe tbody tr th {\n",
              "        vertical-align: top;\n",
              "    }\n",
              "\n",
              "    .dataframe thead th {\n",
              "        text-align: right;\n",
              "    }\n",
              "</style>\n",
              "<table border=\"1\" class=\"dataframe\">\n",
              "  <thead>\n",
              "    <tr style=\"text-align: right;\">\n",
              "      <th></th>\n",
              "      <th>0</th>\n",
              "    </tr>\n",
              "  </thead>\n",
              "  <tbody>\n",
              "    <tr>\n",
              "      <th>Unnamed: 0</th>\n",
              "      <td>0</td>\n",
              "    </tr>\n",
              "    <tr>\n",
              "      <th>name</th>\n",
              "      <td>0</td>\n",
              "    </tr>\n",
              "    <tr>\n",
              "      <th>metacritic_review_count</th>\n",
              "      <td>6</td>\n",
              "    </tr>\n",
              "    <tr>\n",
              "      <th>metacritic_review_score</th>\n",
              "      <td>0</td>\n",
              "    </tr>\n",
              "    <tr>\n",
              "      <th>user_review_count</th>\n",
              "      <td>1557</td>\n",
              "    </tr>\n",
              "    <tr>\n",
              "      <th>user_review_score</th>\n",
              "      <td>0</td>\n",
              "    </tr>\n",
              "    <tr>\n",
              "      <th>developer</th>\n",
              "      <td>10</td>\n",
              "    </tr>\n",
              "    <tr>\n",
              "      <th>publisher</th>\n",
              "      <td>10</td>\n",
              "    </tr>\n",
              "    <tr>\n",
              "      <th>platforms</th>\n",
              "      <td>0</td>\n",
              "    </tr>\n",
              "    <tr>\n",
              "      <th>genres</th>\n",
              "      <td>0</td>\n",
              "    </tr>\n",
              "    <tr>\n",
              "      <th>esrb</th>\n",
              "      <td>2103</td>\n",
              "    </tr>\n",
              "    <tr>\n",
              "      <th>must_play</th>\n",
              "      <td>0</td>\n",
              "    </tr>\n",
              "  </tbody>\n",
              "</table>\n",
              "</div><br><label><b>dtype:</b> int64</label>"
            ]
          },
          "metadata": {},
          "execution_count": 6
        }
      ]
    },
    {
      "cell_type": "markdown",
      "source": [
        "Terdapat 5 kolom yang memiliki missing value, yaitu metacritic_review_count, user_review_count, developer, publisher, dan esrb.\n",
        "\n",
        "\n",
        "---\n",
        "mengunakan perintah isnull untuk mengetahui kolom yang memiliki nilai null, dan sum() untuk menjumlahkan nilai null dalam satu kolom\n"
      ],
      "metadata": {
        "id": "3c4r36gWh2_X"
      }
    },
    {
      "cell_type": "code",
      "source": [
        "df_clean = df.dropna()\n",
        "df_clean"
      ],
      "metadata": {
        "colab": {
          "base_uri": "https://localhost:8080/",
          "height": 894
        },
        "id": "P_vZ_umsrANc",
        "outputId": "ff89e0c7-5430-4458-ca6e-e8da61899e8f"
      },
      "execution_count": null,
      "outputs": [
        {
          "output_type": "execute_result",
          "data": {
            "text/plain": [
              "       Unnamed: 0                                     name  \\\n",
              "0               0     The Legend of Zelda: Ocarina of Time   \n",
              "1               1                              SoulCalibur   \n",
              "2               2                      Grand Theft Auto IV   \n",
              "3               3                       Super Mario Galaxy   \n",
              "4               4                     Super Mario Galaxy 2   \n",
              "...           ...                                      ...   \n",
              "13384       13384                Ride to Hell: Retribution   \n",
              "13385       13385                             SPOGS Racing   \n",
              "13386       13386  Double Dragon II: Wander of the Dragons   \n",
              "13387       13387                   Vroom in the Night Sky   \n",
              "13388       13388                                    Yaris   \n",
              "\n",
              "          metacritic_review_count metacritic_review_score  \\\n",
              "0      Based on 22 Critic Reviews                      99   \n",
              "1      Based on 24 Critic Reviews                      98   \n",
              "2      Based on 86 Critic Reviews                      98   \n",
              "3      Based on 73 Critic Reviews                      97   \n",
              "4      Based on 87 Critic Reviews                      97   \n",
              "...                           ...                     ...   \n",
              "13384  Based on 14 Critic Reviews                      19   \n",
              "13385   Based on 7 Critic Reviews                      18   \n",
              "13386  Based on 19 Critic Reviews                      17   \n",
              "13387  Based on 15 Critic Reviews                      17   \n",
              "13388   Based on 7 Critic Reviews                      17   \n",
              "\n",
              "                  user_review_count user_review_score  \\\n",
              "0      Based on 10,273 User Ratings               9.1   \n",
              "1         Based on 574 User Ratings               7.8   \n",
              "2       Based on 4,462 User Ratings               8.3   \n",
              "3       Based on 4,027 User Ratings               9.1   \n",
              "4       Based on 2,857 User Ratings               9.0   \n",
              "...                             ...               ...   \n",
              "13384     Based on 468 User Ratings               1.4   \n",
              "13385      Based on 10 User Ratings               6.1   \n",
              "13386      Based on 65 User Ratings               1.6   \n",
              "13387     Based on 122 User Ratings               3.2   \n",
              "13388      Based on 60 User Ratings               5.0   \n",
              "\n",
              "                                         developer  \\\n",
              "0                    Developer:           Nintendo   \n",
              "1                       Developer:           Namco   \n",
              "2              Developer:           Rockstar North   \n",
              "3                    Developer:           Nintendo   \n",
              "4          Developer:           Nintendo EAD Tokyo   \n",
              "...                                            ...   \n",
              "13384               Developer:           Eutechnyx   \n",
              "13385            Developer:           Pronto Games   \n",
              "13386                 Developer:           Gravity   \n",
              "13387                 Developer:           Poisoft   \n",
              "13388  Developer:           Backbone Entertainment   \n",
              "\n",
              "                               publisher  \\\n",
              "0                    Publisher: Nintendo   \n",
              "1                       Publisher: Namco   \n",
              "2              Publisher: Rockstar Games   \n",
              "3                    Publisher: Nintendo   \n",
              "4                    Publisher: Nintendo   \n",
              "...                                  ...   \n",
              "13384             Publisher: Deep Silver   \n",
              "13385               Publisher: D2C Games   \n",
              "13386                     Publisher: CFK   \n",
              "13387                 Publisher: Poisoft   \n",
              "13388  Publisher: Backbone Entertainment   \n",
              "\n",
              "                                            platforms                 genres  \\\n",
              "0                                     ['Nintendo 64']  ['Open-World Action']   \n",
              "1      ['Dreamcast', 'iOS (iPhone/iPad)', 'Xbox 360']        ['3D Fighting']   \n",
              "2                 ['PlayStation 3', 'Xbox 360', 'PC']  ['Open-World Action']   \n",
              "3                                             ['Wii']      ['3D Platformer']   \n",
              "4                                             ['Wii']      ['3D Platformer']   \n",
              "...                                               ...                    ...   \n",
              "13384             ['PlayStation 3', 'PC', 'Xbox 360']   ['Action Adventure']   \n",
              "13385                                   ['Wii', 'PC']        ['Auto Racing']   \n",
              "13386                                    ['Xbox 360']     [\"2D Beat-'Em-Up\"]   \n",
              "13387                             ['Nintendo Switch']             ['Biking']   \n",
              "13388                                    ['Xbox 360']        ['Auto Racing']   \n",
              "\n",
              "                                                    esrb  must_play  \n",
              "0         Rated E                           for Everyone          1  \n",
              "1             Rated T                           for Teen          1  \n",
              "2           Rated M                           for Mature          1  \n",
              "3         Rated E                           for Everyone          1  \n",
              "4         Rated E                           for Everyone          1  \n",
              "...                                                  ...        ...  \n",
              "13384       Rated M                           for Mature          0  \n",
              "13385     Rated E                           for Everyone          0  \n",
              "13386         Rated T                           for Teen          0  \n",
              "13387     Rated E                           for Everyone          0  \n",
              "13388  Rated E +10                           for Ever...          0  \n",
              "\n",
              "[9902 rows x 12 columns]"
            ],
            "text/html": [
              "\n",
              "  <div id=\"df-61600d06-d3ef-49b7-8a07-aaa8c24a0b00\" class=\"colab-df-container\">\n",
              "    <div>\n",
              "<style scoped>\n",
              "    .dataframe tbody tr th:only-of-type {\n",
              "        vertical-align: middle;\n",
              "    }\n",
              "\n",
              "    .dataframe tbody tr th {\n",
              "        vertical-align: top;\n",
              "    }\n",
              "\n",
              "    .dataframe thead th {\n",
              "        text-align: right;\n",
              "    }\n",
              "</style>\n",
              "<table border=\"1\" class=\"dataframe\">\n",
              "  <thead>\n",
              "    <tr style=\"text-align: right;\">\n",
              "      <th></th>\n",
              "      <th>Unnamed: 0</th>\n",
              "      <th>name</th>\n",
              "      <th>metacritic_review_count</th>\n",
              "      <th>metacritic_review_score</th>\n",
              "      <th>user_review_count</th>\n",
              "      <th>user_review_score</th>\n",
              "      <th>developer</th>\n",
              "      <th>publisher</th>\n",
              "      <th>platforms</th>\n",
              "      <th>genres</th>\n",
              "      <th>esrb</th>\n",
              "      <th>must_play</th>\n",
              "    </tr>\n",
              "  </thead>\n",
              "  <tbody>\n",
              "    <tr>\n",
              "      <th>0</th>\n",
              "      <td>0</td>\n",
              "      <td>The Legend of Zelda: Ocarina of Time</td>\n",
              "      <td>Based on 22 Critic Reviews</td>\n",
              "      <td>99</td>\n",
              "      <td>Based on 10,273 User Ratings</td>\n",
              "      <td>9.1</td>\n",
              "      <td>Developer:           Nintendo</td>\n",
              "      <td>Publisher: Nintendo</td>\n",
              "      <td>['Nintendo 64']</td>\n",
              "      <td>['Open-World Action']</td>\n",
              "      <td>Rated E                           for Everyone</td>\n",
              "      <td>1</td>\n",
              "    </tr>\n",
              "    <tr>\n",
              "      <th>1</th>\n",
              "      <td>1</td>\n",
              "      <td>SoulCalibur</td>\n",
              "      <td>Based on 24 Critic Reviews</td>\n",
              "      <td>98</td>\n",
              "      <td>Based on 574 User Ratings</td>\n",
              "      <td>7.8</td>\n",
              "      <td>Developer:           Namco</td>\n",
              "      <td>Publisher: Namco</td>\n",
              "      <td>['Dreamcast', 'iOS (iPhone/iPad)', 'Xbox 360']</td>\n",
              "      <td>['3D Fighting']</td>\n",
              "      <td>Rated T                           for Teen</td>\n",
              "      <td>1</td>\n",
              "    </tr>\n",
              "    <tr>\n",
              "      <th>2</th>\n",
              "      <td>2</td>\n",
              "      <td>Grand Theft Auto IV</td>\n",
              "      <td>Based on 86 Critic Reviews</td>\n",
              "      <td>98</td>\n",
              "      <td>Based on 4,462 User Ratings</td>\n",
              "      <td>8.3</td>\n",
              "      <td>Developer:           Rockstar North</td>\n",
              "      <td>Publisher: Rockstar Games</td>\n",
              "      <td>['PlayStation 3', 'Xbox 360', 'PC']</td>\n",
              "      <td>['Open-World Action']</td>\n",
              "      <td>Rated M                           for Mature</td>\n",
              "      <td>1</td>\n",
              "    </tr>\n",
              "    <tr>\n",
              "      <th>3</th>\n",
              "      <td>3</td>\n",
              "      <td>Super Mario Galaxy</td>\n",
              "      <td>Based on 73 Critic Reviews</td>\n",
              "      <td>97</td>\n",
              "      <td>Based on 4,027 User Ratings</td>\n",
              "      <td>9.1</td>\n",
              "      <td>Developer:           Nintendo</td>\n",
              "      <td>Publisher: Nintendo</td>\n",
              "      <td>['Wii']</td>\n",
              "      <td>['3D Platformer']</td>\n",
              "      <td>Rated E                           for Everyone</td>\n",
              "      <td>1</td>\n",
              "    </tr>\n",
              "    <tr>\n",
              "      <th>4</th>\n",
              "      <td>4</td>\n",
              "      <td>Super Mario Galaxy 2</td>\n",
              "      <td>Based on 87 Critic Reviews</td>\n",
              "      <td>97</td>\n",
              "      <td>Based on 2,857 User Ratings</td>\n",
              "      <td>9.0</td>\n",
              "      <td>Developer:           Nintendo EAD Tokyo</td>\n",
              "      <td>Publisher: Nintendo</td>\n",
              "      <td>['Wii']</td>\n",
              "      <td>['3D Platformer']</td>\n",
              "      <td>Rated E                           for Everyone</td>\n",
              "      <td>1</td>\n",
              "    </tr>\n",
              "    <tr>\n",
              "      <th>...</th>\n",
              "      <td>...</td>\n",
              "      <td>...</td>\n",
              "      <td>...</td>\n",
              "      <td>...</td>\n",
              "      <td>...</td>\n",
              "      <td>...</td>\n",
              "      <td>...</td>\n",
              "      <td>...</td>\n",
              "      <td>...</td>\n",
              "      <td>...</td>\n",
              "      <td>...</td>\n",
              "      <td>...</td>\n",
              "    </tr>\n",
              "    <tr>\n",
              "      <th>13384</th>\n",
              "      <td>13384</td>\n",
              "      <td>Ride to Hell: Retribution</td>\n",
              "      <td>Based on 14 Critic Reviews</td>\n",
              "      <td>19</td>\n",
              "      <td>Based on 468 User Ratings</td>\n",
              "      <td>1.4</td>\n",
              "      <td>Developer:           Eutechnyx</td>\n",
              "      <td>Publisher: Deep Silver</td>\n",
              "      <td>['PlayStation 3', 'PC', 'Xbox 360']</td>\n",
              "      <td>['Action Adventure']</td>\n",
              "      <td>Rated M                           for Mature</td>\n",
              "      <td>0</td>\n",
              "    </tr>\n",
              "    <tr>\n",
              "      <th>13385</th>\n",
              "      <td>13385</td>\n",
              "      <td>SPOGS Racing</td>\n",
              "      <td>Based on 7 Critic Reviews</td>\n",
              "      <td>18</td>\n",
              "      <td>Based on 10 User Ratings</td>\n",
              "      <td>6.1</td>\n",
              "      <td>Developer:           Pronto Games</td>\n",
              "      <td>Publisher: D2C Games</td>\n",
              "      <td>['Wii', 'PC']</td>\n",
              "      <td>['Auto Racing']</td>\n",
              "      <td>Rated E                           for Everyone</td>\n",
              "      <td>0</td>\n",
              "    </tr>\n",
              "    <tr>\n",
              "      <th>13386</th>\n",
              "      <td>13386</td>\n",
              "      <td>Double Dragon II: Wander of the Dragons</td>\n",
              "      <td>Based on 19 Critic Reviews</td>\n",
              "      <td>17</td>\n",
              "      <td>Based on 65 User Ratings</td>\n",
              "      <td>1.6</td>\n",
              "      <td>Developer:           Gravity</td>\n",
              "      <td>Publisher: CFK</td>\n",
              "      <td>['Xbox 360']</td>\n",
              "      <td>[\"2D Beat-'Em-Up\"]</td>\n",
              "      <td>Rated T                           for Teen</td>\n",
              "      <td>0</td>\n",
              "    </tr>\n",
              "    <tr>\n",
              "      <th>13387</th>\n",
              "      <td>13387</td>\n",
              "      <td>Vroom in the Night Sky</td>\n",
              "      <td>Based on 15 Critic Reviews</td>\n",
              "      <td>17</td>\n",
              "      <td>Based on 122 User Ratings</td>\n",
              "      <td>3.2</td>\n",
              "      <td>Developer:           Poisoft</td>\n",
              "      <td>Publisher: Poisoft</td>\n",
              "      <td>['Nintendo Switch']</td>\n",
              "      <td>['Biking']</td>\n",
              "      <td>Rated E                           for Everyone</td>\n",
              "      <td>0</td>\n",
              "    </tr>\n",
              "    <tr>\n",
              "      <th>13388</th>\n",
              "      <td>13388</td>\n",
              "      <td>Yaris</td>\n",
              "      <td>Based on 7 Critic Reviews</td>\n",
              "      <td>17</td>\n",
              "      <td>Based on 60 User Ratings</td>\n",
              "      <td>5.0</td>\n",
              "      <td>Developer:           Backbone Entertainment</td>\n",
              "      <td>Publisher: Backbone Entertainment</td>\n",
              "      <td>['Xbox 360']</td>\n",
              "      <td>['Auto Racing']</td>\n",
              "      <td>Rated E +10                           for Ever...</td>\n",
              "      <td>0</td>\n",
              "    </tr>\n",
              "  </tbody>\n",
              "</table>\n",
              "<p>9902 rows × 12 columns</p>\n",
              "</div>\n",
              "    <div class=\"colab-df-buttons\">\n",
              "\n",
              "  <div class=\"colab-df-container\">\n",
              "    <button class=\"colab-df-convert\" onclick=\"convertToInteractive('df-61600d06-d3ef-49b7-8a07-aaa8c24a0b00')\"\n",
              "            title=\"Convert this dataframe to an interactive table.\"\n",
              "            style=\"display:none;\">\n",
              "\n",
              "  <svg xmlns=\"http://www.w3.org/2000/svg\" height=\"24px\" viewBox=\"0 -960 960 960\">\n",
              "    <path d=\"M120-120v-720h720v720H120Zm60-500h600v-160H180v160Zm220 220h160v-160H400v160Zm0 220h160v-160H400v160ZM180-400h160v-160H180v160Zm440 0h160v-160H620v160ZM180-180h160v-160H180v160Zm440 0h160v-160H620v160Z\"/>\n",
              "  </svg>\n",
              "    </button>\n",
              "\n",
              "  <style>\n",
              "    .colab-df-container {\n",
              "      display:flex;\n",
              "      gap: 12px;\n",
              "    }\n",
              "\n",
              "    .colab-df-convert {\n",
              "      background-color: #E8F0FE;\n",
              "      border: none;\n",
              "      border-radius: 50%;\n",
              "      cursor: pointer;\n",
              "      display: none;\n",
              "      fill: #1967D2;\n",
              "      height: 32px;\n",
              "      padding: 0 0 0 0;\n",
              "      width: 32px;\n",
              "    }\n",
              "\n",
              "    .colab-df-convert:hover {\n",
              "      background-color: #E2EBFA;\n",
              "      box-shadow: 0px 1px 2px rgba(60, 64, 67, 0.3), 0px 1px 3px 1px rgba(60, 64, 67, 0.15);\n",
              "      fill: #174EA6;\n",
              "    }\n",
              "\n",
              "    .colab-df-buttons div {\n",
              "      margin-bottom: 4px;\n",
              "    }\n",
              "\n",
              "    [theme=dark] .colab-df-convert {\n",
              "      background-color: #3B4455;\n",
              "      fill: #D2E3FC;\n",
              "    }\n",
              "\n",
              "    [theme=dark] .colab-df-convert:hover {\n",
              "      background-color: #434B5C;\n",
              "      box-shadow: 0px 1px 3px 1px rgba(0, 0, 0, 0.15);\n",
              "      filter: drop-shadow(0px 1px 2px rgba(0, 0, 0, 0.3));\n",
              "      fill: #FFFFFF;\n",
              "    }\n",
              "  </style>\n",
              "\n",
              "    <script>\n",
              "      const buttonEl =\n",
              "        document.querySelector('#df-61600d06-d3ef-49b7-8a07-aaa8c24a0b00 button.colab-df-convert');\n",
              "      buttonEl.style.display =\n",
              "        google.colab.kernel.accessAllowed ? 'block' : 'none';\n",
              "\n",
              "      async function convertToInteractive(key) {\n",
              "        const element = document.querySelector('#df-61600d06-d3ef-49b7-8a07-aaa8c24a0b00');\n",
              "        const dataTable =\n",
              "          await google.colab.kernel.invokeFunction('convertToInteractive',\n",
              "                                                    [key], {});\n",
              "        if (!dataTable) return;\n",
              "\n",
              "        const docLinkHtml = 'Like what you see? Visit the ' +\n",
              "          '<a target=\"_blank\" href=https://colab.research.google.com/notebooks/data_table.ipynb>data table notebook</a>'\n",
              "          + ' to learn more about interactive tables.';\n",
              "        element.innerHTML = '';\n",
              "        dataTable['output_type'] = 'display_data';\n",
              "        await google.colab.output.renderOutput(dataTable, element);\n",
              "        const docLink = document.createElement('div');\n",
              "        docLink.innerHTML = docLinkHtml;\n",
              "        element.appendChild(docLink);\n",
              "      }\n",
              "    </script>\n",
              "  </div>\n",
              "\n",
              "\n",
              "    <div id=\"df-5328be2b-fcd3-4de0-88a7-331ac6c9a3ea\">\n",
              "      <button class=\"colab-df-quickchart\" onclick=\"quickchart('df-5328be2b-fcd3-4de0-88a7-331ac6c9a3ea')\"\n",
              "                title=\"Suggest charts\"\n",
              "                style=\"display:none;\">\n",
              "\n",
              "<svg xmlns=\"http://www.w3.org/2000/svg\" height=\"24px\"viewBox=\"0 0 24 24\"\n",
              "     width=\"24px\">\n",
              "    <g>\n",
              "        <path d=\"M19 3H5c-1.1 0-2 .9-2 2v14c0 1.1.9 2 2 2h14c1.1 0 2-.9 2-2V5c0-1.1-.9-2-2-2zM9 17H7v-7h2v7zm4 0h-2V7h2v10zm4 0h-2v-4h2v4z\"/>\n",
              "    </g>\n",
              "</svg>\n",
              "      </button>\n",
              "\n",
              "<style>\n",
              "  .colab-df-quickchart {\n",
              "      --bg-color: #E8F0FE;\n",
              "      --fill-color: #1967D2;\n",
              "      --hover-bg-color: #E2EBFA;\n",
              "      --hover-fill-color: #174EA6;\n",
              "      --disabled-fill-color: #AAA;\n",
              "      --disabled-bg-color: #DDD;\n",
              "  }\n",
              "\n",
              "  [theme=dark] .colab-df-quickchart {\n",
              "      --bg-color: #3B4455;\n",
              "      --fill-color: #D2E3FC;\n",
              "      --hover-bg-color: #434B5C;\n",
              "      --hover-fill-color: #FFFFFF;\n",
              "      --disabled-bg-color: #3B4455;\n",
              "      --disabled-fill-color: #666;\n",
              "  }\n",
              "\n",
              "  .colab-df-quickchart {\n",
              "    background-color: var(--bg-color);\n",
              "    border: none;\n",
              "    border-radius: 50%;\n",
              "    cursor: pointer;\n",
              "    display: none;\n",
              "    fill: var(--fill-color);\n",
              "    height: 32px;\n",
              "    padding: 0;\n",
              "    width: 32px;\n",
              "  }\n",
              "\n",
              "  .colab-df-quickchart:hover {\n",
              "    background-color: var(--hover-bg-color);\n",
              "    box-shadow: 0 1px 2px rgba(60, 64, 67, 0.3), 0 1px 3px 1px rgba(60, 64, 67, 0.15);\n",
              "    fill: var(--button-hover-fill-color);\n",
              "  }\n",
              "\n",
              "  .colab-df-quickchart-complete:disabled,\n",
              "  .colab-df-quickchart-complete:disabled:hover {\n",
              "    background-color: var(--disabled-bg-color);\n",
              "    fill: var(--disabled-fill-color);\n",
              "    box-shadow: none;\n",
              "  }\n",
              "\n",
              "  .colab-df-spinner {\n",
              "    border: 2px solid var(--fill-color);\n",
              "    border-color: transparent;\n",
              "    border-bottom-color: var(--fill-color);\n",
              "    animation:\n",
              "      spin 1s steps(1) infinite;\n",
              "  }\n",
              "\n",
              "  @keyframes spin {\n",
              "    0% {\n",
              "      border-color: transparent;\n",
              "      border-bottom-color: var(--fill-color);\n",
              "      border-left-color: var(--fill-color);\n",
              "    }\n",
              "    20% {\n",
              "      border-color: transparent;\n",
              "      border-left-color: var(--fill-color);\n",
              "      border-top-color: var(--fill-color);\n",
              "    }\n",
              "    30% {\n",
              "      border-color: transparent;\n",
              "      border-left-color: var(--fill-color);\n",
              "      border-top-color: var(--fill-color);\n",
              "      border-right-color: var(--fill-color);\n",
              "    }\n",
              "    40% {\n",
              "      border-color: transparent;\n",
              "      border-right-color: var(--fill-color);\n",
              "      border-top-color: var(--fill-color);\n",
              "    }\n",
              "    60% {\n",
              "      border-color: transparent;\n",
              "      border-right-color: var(--fill-color);\n",
              "    }\n",
              "    80% {\n",
              "      border-color: transparent;\n",
              "      border-right-color: var(--fill-color);\n",
              "      border-bottom-color: var(--fill-color);\n",
              "    }\n",
              "    90% {\n",
              "      border-color: transparent;\n",
              "      border-bottom-color: var(--fill-color);\n",
              "    }\n",
              "  }\n",
              "</style>\n",
              "\n",
              "      <script>\n",
              "        async function quickchart(key) {\n",
              "          const quickchartButtonEl =\n",
              "            document.querySelector('#' + key + ' button');\n",
              "          quickchartButtonEl.disabled = true;  // To prevent multiple clicks.\n",
              "          quickchartButtonEl.classList.add('colab-df-spinner');\n",
              "          try {\n",
              "            const charts = await google.colab.kernel.invokeFunction(\n",
              "                'suggestCharts', [key], {});\n",
              "          } catch (error) {\n",
              "            console.error('Error during call to suggestCharts:', error);\n",
              "          }\n",
              "          quickchartButtonEl.classList.remove('colab-df-spinner');\n",
              "          quickchartButtonEl.classList.add('colab-df-quickchart-complete');\n",
              "        }\n",
              "        (() => {\n",
              "          let quickchartButtonEl =\n",
              "            document.querySelector('#df-5328be2b-fcd3-4de0-88a7-331ac6c9a3ea button');\n",
              "          quickchartButtonEl.style.display =\n",
              "            google.colab.kernel.accessAllowed ? 'block' : 'none';\n",
              "        })();\n",
              "      </script>\n",
              "    </div>\n",
              "\n",
              "  <div id=\"id_94320b99-9301-4f43-a8c9-0dfcf324b280\">\n",
              "    <style>\n",
              "      .colab-df-generate {\n",
              "        background-color: #E8F0FE;\n",
              "        border: none;\n",
              "        border-radius: 50%;\n",
              "        cursor: pointer;\n",
              "        display: none;\n",
              "        fill: #1967D2;\n",
              "        height: 32px;\n",
              "        padding: 0 0 0 0;\n",
              "        width: 32px;\n",
              "      }\n",
              "\n",
              "      .colab-df-generate:hover {\n",
              "        background-color: #E2EBFA;\n",
              "        box-shadow: 0px 1px 2px rgba(60, 64, 67, 0.3), 0px 1px 3px 1px rgba(60, 64, 67, 0.15);\n",
              "        fill: #174EA6;\n",
              "      }\n",
              "\n",
              "      [theme=dark] .colab-df-generate {\n",
              "        background-color: #3B4455;\n",
              "        fill: #D2E3FC;\n",
              "      }\n",
              "\n",
              "      [theme=dark] .colab-df-generate:hover {\n",
              "        background-color: #434B5C;\n",
              "        box-shadow: 0px 1px 3px 1px rgba(0, 0, 0, 0.15);\n",
              "        filter: drop-shadow(0px 1px 2px rgba(0, 0, 0, 0.3));\n",
              "        fill: #FFFFFF;\n",
              "      }\n",
              "    </style>\n",
              "    <button class=\"colab-df-generate\" onclick=\"generateWithVariable('df_clean')\"\n",
              "            title=\"Generate code using this dataframe.\"\n",
              "            style=\"display:none;\">\n",
              "\n",
              "  <svg xmlns=\"http://www.w3.org/2000/svg\" height=\"24px\"viewBox=\"0 0 24 24\"\n",
              "       width=\"24px\">\n",
              "    <path d=\"M7,19H8.4L18.45,9,17,7.55,7,17.6ZM5,21V16.75L18.45,3.32a2,2,0,0,1,2.83,0l1.4,1.43a1.91,1.91,0,0,1,.58,1.4,1.91,1.91,0,0,1-.58,1.4L9.25,21ZM18.45,9,17,7.55Zm-12,3A5.31,5.31,0,0,0,4.9,8.1,5.31,5.31,0,0,0,1,6.5,5.31,5.31,0,0,0,4.9,4.9,5.31,5.31,0,0,0,6.5,1,5.31,5.31,0,0,0,8.1,4.9,5.31,5.31,0,0,0,12,6.5,5.46,5.46,0,0,0,6.5,12Z\"/>\n",
              "  </svg>\n",
              "    </button>\n",
              "    <script>\n",
              "      (() => {\n",
              "      const buttonEl =\n",
              "        document.querySelector('#id_94320b99-9301-4f43-a8c9-0dfcf324b280 button.colab-df-generate');\n",
              "      buttonEl.style.display =\n",
              "        google.colab.kernel.accessAllowed ? 'block' : 'none';\n",
              "\n",
              "      buttonEl.onclick = () => {\n",
              "        google.colab.notebook.generateWithVariable('df_clean');\n",
              "      }\n",
              "      })();\n",
              "    </script>\n",
              "  </div>\n",
              "\n",
              "    </div>\n",
              "  </div>\n"
            ],
            "application/vnd.google.colaboratory.intrinsic+json": {
              "type": "dataframe",
              "variable_name": "df_clean",
              "summary": "{\n  \"name\": \"df_clean\",\n  \"rows\": 9902,\n  \"fields\": [\n    {\n      \"column\": \"Unnamed: 0\",\n      \"properties\": {\n        \"dtype\": \"number\",\n        \"std\": 3909,\n        \"min\": 0,\n        \"max\": 13388,\n        \"num_unique_values\": 9902,\n        \"samples\": [\n          3730,\n          10897,\n          1755\n        ],\n        \"semantic_type\": \"\",\n        \"description\": \"\"\n      }\n    },\n    {\n      \"column\": \"name\",\n      \"properties\": {\n        \"dtype\": \"string\",\n        \"num_unique_values\": 9902,\n        \"samples\": [\n          \"Shadow of Destiny\",\n          \"Ninja Assault\",\n          \"Lumines: Electronic Symphony\"\n        ],\n        \"semantic_type\": \"\",\n        \"description\": \"\"\n      }\n    },\n    {\n      \"column\": \"metacritic_review_count\",\n      \"properties\": {\n        \"dtype\": \"category\",\n        \"num_unique_values\": 135,\n        \"samples\": [\n          \"Based on 51 Critic Reviews\",\n          \"Based on 106 Critic Reviews\",\n          \"Based on 63 Critic Reviews\"\n        ],\n        \"semantic_type\": \"\",\n        \"description\": \"\"\n      }\n    },\n    {\n      \"column\": \"metacritic_review_score\",\n      \"properties\": {\n        \"dtype\": \"category\",\n        \"num_unique_values\": 83,\n        \"samples\": [\n          \"70\",\n          \"99\",\n          \"78\"\n        ],\n        \"semantic_type\": \"\",\n        \"description\": \"\"\n      }\n    },\n    {\n      \"column\": \"user_review_count\",\n      \"properties\": {\n        \"dtype\": \"category\",\n        \"num_unique_values\": 1240,\n        \"samples\": [\n          \"Based on 4,631 User Ratings\",\n          \"Based on 397 User Ratings\",\n          \"Based on 942 User Ratings\"\n        ],\n        \"semantic_type\": \"\",\n        \"description\": \"\"\n      }\n    },\n    {\n      \"column\": \"user_review_score\",\n      \"properties\": {\n        \"dtype\": \"category\",\n        \"num_unique_values\": 91,\n        \"samples\": [\n          \"5.5\",\n          \"7.4\",\n          \"5.3\"\n        ],\n        \"semantic_type\": \"\",\n        \"description\": \"\"\n      }\n    },\n    {\n      \"column\": \"developer\",\n      \"properties\": {\n        \"dtype\": \"category\",\n        \"num_unique_values\": 3053,\n        \"samples\": [\n          \"Developer:           TimeGate Studios\",\n          \"Developer:           Stainless Games\",\n          \"Developer:           Secret Location\"\n        ],\n        \"semantic_type\": \"\",\n        \"description\": \"\"\n      }\n    },\n    {\n      \"column\": \"publisher\",\n      \"properties\": {\n        \"dtype\": \"category\",\n        \"num_unique_values\": 1271,\n        \"samples\": [\n          \"Publisher: Spiral Game Studios\",\n          \"Publisher: RedBedlam\",\n          \"Publisher: Blizzard Classic Arcade\"\n        ],\n        \"semantic_type\": \"\",\n        \"description\": \"\"\n      }\n    },\n    {\n      \"column\": \"platforms\",\n      \"properties\": {\n        \"dtype\": \"category\",\n        \"num_unique_values\": 2384,\n        \"samples\": [\n          \"['PC', 'Wii U', 'Xbox One', 'PlayStation 4', 'PlayStation Vita', 'Nintendo Switch']\",\n          \"['PC', 'iOS (iPhone/iPad)', 'Nintendo Switch', 'PlayStation 5', 'Xbox Series X']\",\n          \"['PSP', 'Xbox 360', 'PlayStation 2', 'Xbox', 'Wii']\"\n        ],\n        \"semantic_type\": \"\",\n        \"description\": \"\"\n      }\n    },\n    {\n      \"column\": \"genres\",\n      \"properties\": {\n        \"dtype\": \"category\",\n        \"num_unique_values\": 118,\n        \"samples\": [\n          \"['Card Battle']\",\n          \"['Simulation']\",\n          \"['FPS']\"\n        ],\n        \"semantic_type\": \"\",\n        \"description\": \"\"\n      }\n    },\n    {\n      \"column\": \"esrb\",\n      \"properties\": {\n        \"dtype\": \"category\",\n        \"num_unique_values\": 6,\n        \"samples\": [\n          \"Rated E                           for Everyone\",\n          \"Rated T                           for Teen\",\n          \"Rated AO                           for Adults Only\"\n        ],\n        \"semantic_type\": \"\",\n        \"description\": \"\"\n      }\n    },\n    {\n      \"column\": \"must_play\",\n      \"properties\": {\n        \"dtype\": \"number\",\n        \"std\": 0,\n        \"min\": 0,\n        \"max\": 1,\n        \"num_unique_values\": 2,\n        \"samples\": [\n          0,\n          1\n        ],\n        \"semantic_type\": \"\",\n        \"description\": \"\"\n      }\n    }\n  ]\n}"
            }
          },
          "metadata": {},
          "execution_count": 7
        }
      ]
    },
    {
      "cell_type": "markdown",
      "source": [
        "baris yang memiliki nilai nan saya hapus untuk meningkatkan performa model\n",
        "\n",
        "\n",
        "---\n",
        "fungsi dropna mengambil baris mana yang memiliki nilai nan, kemudian menghapusnya\n"
      ],
      "metadata": {
        "id": "qtHqzqqdiJwi"
      }
    },
    {
      "cell_type": "code",
      "source": [
        "df_clean.isnull().sum()"
      ],
      "metadata": {
        "colab": {
          "base_uri": "https://localhost:8080/",
          "height": 460
        },
        "id": "Fy_XZDdfre2W",
        "outputId": "3f4a9db4-dccf-415d-bf4c-09997cfbded5"
      },
      "execution_count": null,
      "outputs": [
        {
          "output_type": "execute_result",
          "data": {
            "text/plain": [
              "Unnamed: 0                 0\n",
              "name                       0\n",
              "metacritic_review_count    0\n",
              "metacritic_review_score    0\n",
              "user_review_count          0\n",
              "user_review_score          0\n",
              "developer                  0\n",
              "publisher                  0\n",
              "platforms                  0\n",
              "genres                     0\n",
              "esrb                       0\n",
              "must_play                  0\n",
              "dtype: int64"
            ],
            "text/html": [
              "<div>\n",
              "<style scoped>\n",
              "    .dataframe tbody tr th:only-of-type {\n",
              "        vertical-align: middle;\n",
              "    }\n",
              "\n",
              "    .dataframe tbody tr th {\n",
              "        vertical-align: top;\n",
              "    }\n",
              "\n",
              "    .dataframe thead th {\n",
              "        text-align: right;\n",
              "    }\n",
              "</style>\n",
              "<table border=\"1\" class=\"dataframe\">\n",
              "  <thead>\n",
              "    <tr style=\"text-align: right;\">\n",
              "      <th></th>\n",
              "      <th>0</th>\n",
              "    </tr>\n",
              "  </thead>\n",
              "  <tbody>\n",
              "    <tr>\n",
              "      <th>Unnamed: 0</th>\n",
              "      <td>0</td>\n",
              "    </tr>\n",
              "    <tr>\n",
              "      <th>name</th>\n",
              "      <td>0</td>\n",
              "    </tr>\n",
              "    <tr>\n",
              "      <th>metacritic_review_count</th>\n",
              "      <td>0</td>\n",
              "    </tr>\n",
              "    <tr>\n",
              "      <th>metacritic_review_score</th>\n",
              "      <td>0</td>\n",
              "    </tr>\n",
              "    <tr>\n",
              "      <th>user_review_count</th>\n",
              "      <td>0</td>\n",
              "    </tr>\n",
              "    <tr>\n",
              "      <th>user_review_score</th>\n",
              "      <td>0</td>\n",
              "    </tr>\n",
              "    <tr>\n",
              "      <th>developer</th>\n",
              "      <td>0</td>\n",
              "    </tr>\n",
              "    <tr>\n",
              "      <th>publisher</th>\n",
              "      <td>0</td>\n",
              "    </tr>\n",
              "    <tr>\n",
              "      <th>platforms</th>\n",
              "      <td>0</td>\n",
              "    </tr>\n",
              "    <tr>\n",
              "      <th>genres</th>\n",
              "      <td>0</td>\n",
              "    </tr>\n",
              "    <tr>\n",
              "      <th>esrb</th>\n",
              "      <td>0</td>\n",
              "    </tr>\n",
              "    <tr>\n",
              "      <th>must_play</th>\n",
              "      <td>0</td>\n",
              "    </tr>\n",
              "  </tbody>\n",
              "</table>\n",
              "</div><br><label><b>dtype:</b> int64</label>"
            ]
          },
          "metadata": {},
          "execution_count": 8
        }
      ]
    },
    {
      "cell_type": "markdown",
      "source": [
        "Terlihat tidak adanya lagi missing value disetiap kolom"
      ],
      "metadata": {
        "id": "ualQ8LjLiZgF"
      }
    },
    {
      "cell_type": "markdown",
      "source": [
        "## Menghapus kolom"
      ],
      "metadata": {
        "id": "GjTvOVFnskmU"
      }
    },
    {
      "cell_type": "code",
      "source": [
        "df_clean = df_clean.drop('Unnamed: 0', axis=1)"
      ],
      "metadata": {
        "id": "9vGgbV8LsnVd"
      },
      "execution_count": null,
      "outputs": []
    },
    {
      "cell_type": "markdown",
      "source": [
        "saya menghapus kolom Unnamed:0 yang tidak sengaja terbuat ketika memanggil file csv\n",
        "\n",
        "---\n",
        "fungsi drop akan langsung menghapus nama kolom dalam argumen, dalam hal ini 'Unnamed: 0'\n"
      ],
      "metadata": {
        "id": "jmVQYqnhirwh"
      }
    },
    {
      "cell_type": "markdown",
      "source": [
        "## Mengurutkan berdasarkan Genre Games"
      ],
      "metadata": {
        "id": "dxUCeYAgu9Ci"
      }
    },
    {
      "cell_type": "code",
      "source": [
        "df_clean.sort_values(by='genres', inplace=True)"
      ],
      "metadata": {
        "id": "UdNkg5MXvCZy"
      },
      "execution_count": null,
      "outputs": []
    },
    {
      "cell_type": "markdown",
      "source": [
        "Mengurutkan berdasarkan genre, untuk mempermudah menemukan game dengan genre yang sama\n",
        "\n",
        "---\n",
        "fungsi sort.values akan mengurutkan values berdasarkan kolom yang dipilih, dalam hal ini genres\n"
      ],
      "metadata": {
        "id": "9WNzL8rqjOtR"
      }
    },
    {
      "cell_type": "markdown",
      "source": [
        "## Menormalisasi Data"
      ],
      "metadata": {
        "id": "j-XooDUftmP5"
      }
    },
    {
      "cell_type": "code",
      "source": [
        "# Menormalisasi kolom metacritic_review_count\n",
        "df_clean['metacritic_review_count'] = df_clean['metacritic_review_count'].str.replace('Based on', '')\n",
        "df_clean['metacritic_review_count'] = df_clean['metacritic_review_count'].str.replace('Critic Reviews', '')\n",
        "\n",
        "# Menormalisasi kolom user_review_count\n",
        "df_clean['user_review_count'] = df_clean['user_review_count'].str.replace('Based on', '')\n",
        "df_clean['user_review_count'] = df_clean['user_review_count'].str.replace('User Ratings', '')\n",
        "\n",
        "#Menormalisasi kolom Developer\n",
        "df_clean['developer'] = df_clean['developer'].str.replace('Developer: ', '')\n",
        "\n",
        "# Menormalisasi kolom publiser\n",
        "df_clean['publisher'] = df_clean['publisher'].str.replace('Publisher: ', '')\n",
        "\n",
        "# Menormalisasi Kolom esrb\n",
        "df_clean['esrb'] = df_clean['esrb'].str.replace('Rated', '')"
      ],
      "metadata": {
        "id": "2H6D2D3DuAJv"
      },
      "execution_count": null,
      "outputs": []
    },
    {
      "cell_type": "markdown",
      "source": [
        "Membersihkan kolom dari string, berfungsi agar kolom hanya memiliki nilai numeric, untuk mempersiapkan analysis. Jikalau kolom tersebut akan dipakai nantinya\n",
        "\n",
        "---\n",
        "fungsi str.replace menganti value strin menjadi value yang lain. dalam hal ini menganti kata dengan nilai kosong\n"
      ],
      "metadata": {
        "id": "uf8_0dlrkCJy"
      }
    },
    {
      "cell_type": "markdown",
      "source": [
        "## Merubah Type Data"
      ],
      "metadata": {
        "id": "pmExr4_JyJgX"
      }
    },
    {
      "cell_type": "code",
      "source": [
        "# Merubah type data metacritic_review_count\n",
        "df_clean['metacritic_review_count']=df_clean['metacritic_review_count'].astype(int)\n",
        "\n",
        "# merubah type data metacritic_review_score\n",
        "df_clean['metacritic_review_score']=df_clean['metacritic_review_score'].astype(int)\n",
        "\n",
        "# merubah type data user_review_count\n",
        "df_clean['user_review_count'] = df_clean['user_review_count'].str.replace(',', '').astype(float)\n",
        "\n",
        "# merubah type data user_review_score\n",
        "df_clean['user_review_score']=df_clean['user_review_score'].astype(float)"
      ],
      "metadata": {
        "id": "ZIf1OKllvPoF"
      },
      "execution_count": null,
      "outputs": []
    },
    {
      "cell_type": "markdown",
      "source": [
        "Mengubah type data kolom menjadi int dan float, agar lebih sesuai dengan isi kolom sekarang\n",
        "\n",
        "---\n",
        "fungsi astype menganti type kolom menjadi type yang kita inginkan\n"
      ],
      "metadata": {
        "id": "z5y8DtPNkXow"
      }
    },
    {
      "cell_type": "code",
      "source": [
        "df_clean.info()"
      ],
      "metadata": {
        "colab": {
          "base_uri": "https://localhost:8080/"
        },
        "id": "nB4x4YmOzZod",
        "outputId": "6a2c5f59-159a-4298-c9cb-02162d989858"
      },
      "execution_count": null,
      "outputs": [
        {
          "output_type": "stream",
          "name": "stdout",
          "text": [
            "<class 'pandas.core.frame.DataFrame'>\n",
            "Index: 9902 entries, 7265 to 8704\n",
            "Data columns (total 11 columns):\n",
            " #   Column                   Non-Null Count  Dtype  \n",
            "---  ------                   --------------  -----  \n",
            " 0   name                     9902 non-null   object \n",
            " 1   metacritic_review_count  9902 non-null   int64  \n",
            " 2   metacritic_review_score  9902 non-null   int64  \n",
            " 3   user_review_count        9902 non-null   float64\n",
            " 4   user_review_score        9902 non-null   float64\n",
            " 5   developer                9902 non-null   object \n",
            " 6   publisher                9902 non-null   object \n",
            " 7   platforms                9902 non-null   object \n",
            " 8   genres                   9902 non-null   object \n",
            " 9   esrb                     9902 non-null   object \n",
            " 10  must_play                9902 non-null   int64  \n",
            "dtypes: float64(2), int64(3), object(6)\n",
            "memory usage: 928.3+ KB\n"
          ]
        }
      ]
    },
    {
      "cell_type": "markdown",
      "source": [
        "Menampilkan informasi dataset yang sudah dibersihkan, terlihat kalau dataset hanya memiliki 9902 baris yang tersisa.\n",
        "metacritic_review_count dan metacritic_review_score sudah berubah menjadi int.\n",
        "user_review_count dan user_review_score sudah berubah menjadi float"
      ],
      "metadata": {
        "id": "5ec6zS5aklug"
      }
    },
    {
      "cell_type": "markdown",
      "source": [
        "## Membuat kolom Combinasi\n"
      ],
      "metadata": {
        "id": "ZYlvuiT82tu8"
      }
    },
    {
      "cell_type": "code",
      "source": [
        "df_clean['combined_features']= df_clean['name'].fillna('') + '' + df_clean['developer'].fillna('') + '' + df_clean['publisher'].fillna('') + '' + df_clean['genres'].fillna('') + '' + df_clean['esrb'].fillna('')"
      ],
      "metadata": {
        "id": "pV5nAek6NBxB"
      },
      "execution_count": null,
      "outputs": []
    },
    {
      "cell_type": "markdown",
      "source": [
        "kolom kombinasi berguna untuk menghitung nilai cosine_similarity nantinya.\n",
        "\n",
        "---\n",
        "kolom combined_features akan berisi value kombinasi dari kolom yang dipilih, setiap value akan dipisahkan dengan '' melalui fungsi fillna\n"
      ],
      "metadata": {
        "id": "hSZWKHowlN8d"
      }
    },
    {
      "cell_type": "markdown",
      "source": [
        "## menormalisasi kolom kombinasi"
      ],
      "metadata": {
        "id": "1lGPEkGoNVm7"
      }
    },
    {
      "cell_type": "code",
      "source": [
        "def clean_text(text):\n",
        "    text = text.lower()\n",
        "    text = re.sub(r'[^\\w\\s]', '', text)  # hapus tanda baca\n",
        "    text = re.sub(r'\\d+', '', text)      # hapus angka\n",
        "    return text\n",
        "\n",
        "df_clean['combined_features']=df_clean['combined_features'].apply(clean_text)"
      ],
      "metadata": {
        "id": "Z8lZ6UPoNFut"
      },
      "execution_count": null,
      "outputs": []
    },
    {
      "cell_type": "markdown",
      "source": [
        "Melakukan normalisasi terhadap kolom combined_features, dengan mengubah menjadi lower case, membersihkan tanda baca, dan angka untuk mempersiapkan untuk digunakan dalam tf idf nantinya.\n",
        "\n",
        "---\n",
        "\n",
        "fungsi text.lower mengubah setiap text menjadi lower case.\n",
        "fungsi re.sub menghapus tanda baca dan angka untuk setiap text"
      ],
      "metadata": {
        "id": "4N_1Tm4olZ4w"
      }
    },
    {
      "cell_type": "markdown",
      "source": [
        "## TF-IDF Vectorizer"
      ],
      "metadata": {
        "id": "nJi0ghCw4lGJ"
      }
    },
    {
      "cell_type": "code",
      "source": [
        "tfidf = TfidfVectorizer(stop_words='english')\n",
        "tfidf_matrix = tfidf.fit_transform(df_clean['combined_features'])"
      ],
      "metadata": {
        "id": "myIEaq9z4tNc"
      },
      "execution_count": null,
      "outputs": []
    },
    {
      "cell_type": "markdown",
      "source": [
        "Mempersiapkan agar kolom bisa digunakan dalam sistem rekomendasi menggunakan tf-idf\n",
        "\n",
        "\n",
        "---\n",
        "\n",
        "**TfidfVectorizer(stop_words='english'**) memanggil object tf-idf dari library sklearn. **TF-IDF** berguna untuk mengetahui seberapa penting suatu kata dalam setiap dokumen, **stop_words=english** membuat model mengabaikan stop words umum dalam bahasa inggriss\n",
        "fungsi **fit** belajar mengenail vocabulary dari kolom combined_features, untuk mengetahui nilai unique dan distribusi didalam kolom\n",
        "fungsi **transform**, untuk mengubah teks menjadi bentuk numeric"
      ],
      "metadata": {
        "id": "4CGamU-i4ufh"
      }
    },
    {
      "cell_type": "markdown",
      "source": [
        "# Model Development dengan Content Based Filtering"
      ],
      "metadata": {
        "id": "8PrZb2GiKciv"
      }
    },
    {
      "cell_type": "markdown",
      "source": [
        "## Menghitung cosine similarity"
      ],
      "metadata": {
        "id": "6qC3Hu_2frIY"
      }
    },
    {
      "cell_type": "code",
      "source": [
        "cosine_sim = cosine_similarity(tfidf_matrix, tfidf_matrix)\n",
        "print('Ukuran matriks cosine similarity:', cosine_sim.shape)"
      ],
      "metadata": {
        "colab": {
          "base_uri": "https://localhost:8080/"
        },
        "id": "O1sHL7UffvUv",
        "outputId": "1253cea6-3555-409e-f483-500113fb14d3"
      },
      "execution_count": null,
      "outputs": [
        {
          "output_type": "stream",
          "name": "stdout",
          "text": [
            "Ukuran matriks cosine similarity: (9902, 9902)\n"
          ]
        }
      ]
    },
    {
      "cell_type": "markdown",
      "source": [
        "cosine_sim, berfungsi untuk menghitung similarity antara 2 arrays, dalam hal ini, saya menghitung cosine similarity dalam setiap permainan.\n",
        "fungsi **shape** mencetak ukuran dari matriks dalam hal ini kesamaan antara setiap game dengan game yang lain, karena tfidf_matrix dipanggil 2 kali.\n",
        "nilai 9902 mewakili baris dan kolom, juga dapat berarti jumlah game dalam dataset yang sudah dibersihkan"
      ],
      "metadata": {
        "id": "tWjtic4cf2m9"
      }
    },
    {
      "cell_type": "markdown",
      "source": [
        "## Membuat fungsi rekomendasi berdasarkan genre"
      ],
      "metadata": {
        "id": "gtyVTp_XQG08"
      }
    },
    {
      "cell_type": "code",
      "source": [
        "def recommend_games_by_genre(genre, top_n=5):\n",
        "    # Filter the dataframe by the specified genre\n",
        "    genre_games = df_clean[df_clean['genres'].str.lower().str.contains(genre.lower(), na=False)]\n",
        "\n",
        "    if genre_games.empty:\n",
        "        print(f\"No games found for genre: {genre}\")\n",
        "        return pd.DataFrame(columns=['genres', 'name'])\n",
        "\n",
        "    # Sort the games by metacritic_review_score in descending order\n",
        "    recommended_games = genre_games.sort_values(by='metacritic_review_score', ascending=False).head(top_n)\n",
        "\n",
        "    return recommended_games[['genres', 'name']]"
      ],
      "metadata": {
        "id": "tfWqEMRMQN3E"
      },
      "execution_count": null,
      "outputs": []
    },
    {
      "cell_type": "markdown",
      "source": [
        "fungsi rekomendasi menggunakan 2 parameter, variabel yang akan digunakan untuk menampung inputan, dan top_n=5 akan menampilkan 5 data teratas dari inputan.\n",
        "fungsi **str.lower** mengubah value dari kolom genres menjadi huruf kecil.\n",
        "fungsi **str.lower** mengecek apakah string yang dimasukkan tersedia di kolom genres. yang juga sudah diubah ke huruf kecil.\n",
        "fungsi na=False akan mengangap valued nan sebagai tidak ada\n",
        "**if genre_games.empty** mengecek apakah data yang dimasukkan tidak ada didalam kolom\n",
        "**recommended_games** mengurutkan variabel genre_games berdasrkan kolom metacritic_review_score secara Menurun\n",
        "**fungsi return** akan mengembalikan nilai value, dalam hal ini genres dan name"
      ],
      "metadata": {
        "id": "EPysneSePtoq"
      }
    },
    {
      "cell_type": "markdown",
      "source": [
        "### Membuat daftar preferensi pengguna"
      ],
      "metadata": {
        "id": "Io9UuJ_XfQxY"
      }
    },
    {
      "cell_type": "code",
      "source": [
        "user_preferences = {\n",
        "    \"Open-World Action\": [\"The Legend of Zelda: Ocarina of Time\", \"Grand Theft Auto IV\"],\n",
        "    \"3D Platformer\": [\"Super Mario Galaxy\"],\n",
        "    \"JRPG\": [\"Persona 5 Royal\"],\n",
        "    \"Action RPG\": [\"Diablo III\"],\n",
        "    \"MOBA\":[\"Dota 2\"],\n",
        "    \"Soccer\":[\"FIFA 21\"],\n",
        "    \"MMORPG\":[\"World of Warcraft\"],\n",
        "    \"Turn-Based Strategy\":[\"Total War: Shogun 2\"],\n",
        "    \"Virtual Life\":[\"The Sims\"]\n",
        "}"
      ],
      "metadata": {
        "id": "FucBZh76fUvl"
      },
      "execution_count": null,
      "outputs": []
    },
    {
      "cell_type": "markdown",
      "source": [
        "user_preferences berfungsi menampung preferensi games pilihan pengguna, berdasarkan 10 genre teratas"
      ],
      "metadata": {
        "id": "bbvrhzqnfhJH"
      }
    },
    {
      "cell_type": "code",
      "source": [
        "recommended_games_by_genre = {}\n",
        "\n",
        "for genre, games in user_preferences.items():\n",
        "    recommended_games_by_genre[genre] = recommend_games_by_genre(genre, top_n=5)\n",
        "\n",
        "display(recommended_games_by_genre)"
      ],
      "metadata": {
        "colab": {
          "base_uri": "https://localhost:8080/",
          "height": 987
        },
        "id": "MU-G8oNq3VV8",
        "outputId": "3dde1197-a80a-4ede-c43b-3164c8fc016e"
      },
      "execution_count": null,
      "outputs": [
        {
          "output_type": "display_data",
          "data": {
            "text/plain": [
              "{'Open-World Action':                   genres                                     name\n",
              " 0  ['Open-World Action']     The Legend of Zelda: Ocarina of Time\n",
              " 2  ['Open-World Action']                      Grand Theft Auto IV\n",
              " 9  ['Open-World Action']                       Grand Theft Auto V\n",
              " 8  ['Open-World Action']                    Red Dead Redemption 2\n",
              " 5  ['Open-World Action']  The Legend of Zelda: Breath of the Wild,\n",
              " '3D Platformer':                genres                  name\n",
              " 4   ['3D Platformer']  Super Mario Galaxy 2\n",
              " 12  ['3D Platformer']   Super Mario Odyssey\n",
              " 3   ['3D Platformer']    Super Mario Galaxy\n",
              " 54  ['3D Platformer']             Astro Bot\n",
              " 98  ['3D Platformer']  Super Mario 3D World,\n",
              " 'JRPG':        genres                  name\n",
              " 46   ['JRPG']       Persona 5 Royal\n",
              " 60   ['JRPG']          Chrono Cross\n",
              " 50   ['JRPG']      Final Fantasy IX\n",
              " 63   ['JRPG']  Metaphor: ReFantazio\n",
              " 104  ['JRPG']             Persona 5,\n",
              " 'Action RPG':              genres                               name\n",
              " 25   ['Action RPG']                         Elden Ring\n",
              " 77   ['Action RPG']                             Diablo\n",
              " 52   ['Action RPG']  Elden Ring: Shadow of the Erdtree\n",
              " 114  ['Action RPG']                      Mass Effect 3\n",
              " 139  ['Action RPG']          Final Fantasy VII Rebirth,\n",
              " 'MOBA':         genres                 name\n",
              " 1022  ['MOBA']  Heroes of the Storm\n",
              " 3223  ['MOBA']                SMITE\n",
              " 3817  ['MOBA']    League of Legends\n",
              " 4605  ['MOBA']         Awesomenauts\n",
              " 5070  ['MOBA']              Demigod,\n",
              " 'Soccer':              genres                                         name\n",
              " 112  ['Soccer Sim']                       Pro Evolution Soccer 2\n",
              " 131  ['Soccer Sim']  World Soccer Winning Eleven 7 International\n",
              " 259  ['Soccer Sim']  World Soccer Winning Eleven 8 International\n",
              " 291  ['Soccer Sim']                               FIFA Soccer 12\n",
              " 351  ['Soccer Sim']                               FIFA Soccer 13,\n",
              " 'MMORPG':          genres                                       name\n",
              " 129  ['MMORPG']                          World of Warcraft\n",
              " 182  ['MMORPG']               Final Fantasy XIV: Endwalker\n",
              " 204  ['MMORPG']  World of Warcraft: Wrath of the Lich King\n",
              " 231  ['MMORPG']     World of Warcraft: The Burning Crusade\n",
              " 277  ['MMORPG']               World of Warcraft: Cataclysm,\n",
              " 'Turn-Based Strategy':                       genres                                       name\n",
              " 357  ['Turn-Based Strategy']                        Total War: Shogun 2\n",
              " 764  ['Turn-Based Strategy']          Shogun: Total War Warlord Edition\n",
              " 976  ['Turn-Based Strategy']     Age of Wonders II: The Wizard's Throne\n",
              " 848  ['Turn-Based Strategy']  Total War: Shogun 2 - Fall of the Samurai\n",
              " 874  ['Turn-Based Strategy']                       Total War: WARHAMMER,\n",
              " 'Virtual Life':                genres                           name\n",
              " 148  ['Virtual Life']                       The Sims\n",
              " 274  ['Virtual Life']  Animal Crossing: New Horizons\n",
              " 275  ['Virtual Life']                     The Sims 2\n",
              " 649  ['Virtual Life']      Animal Crossing: New Leaf\n",
              " 752  ['Virtual Life']                Animal Crossing}"
            ]
          },
          "metadata": {}
        }
      ]
    },
    {
      "cell_type": "markdown",
      "source": [
        "sistem rekomendasi ini terdiri dari 3 langkah\n",
        "1. memanggil fungsi rekomendasi\n",
        "2. membuat perulangan untuk mendapatkan key dan items dari user_preferences. Dimana key adalah nama genre dan items adalah nama game. nama game ini akan dimasukkan kedalam fungsi di pembangunan model untuk dicarikan rekomendasinya\n",
        "3. 5 Rekomendasi games teratas dari setiap genre akan ditampilkan"
      ],
      "metadata": {
        "id": "iOTfK33i_NNk"
      }
    },
    {
      "cell_type": "markdown",
      "metadata": {
        "id": "9dfcaa59"
      },
      "source": [
        "# Evaluasi"
      ]
    },
    {
      "cell_type": "code",
      "metadata": {
        "colab": {
          "base_uri": "https://localhost:8080/"
        },
        "id": "b9d44e89",
        "outputId": "4e23d953-5c05-4ea1-9430-94e551213e2e"
      },
      "source": [
        "precision_at_n_scores = []\n",
        "recall_at_n_scores = []\n",
        "f1_scores = []\n",
        "\n",
        "for genre, recommended_df in recommended_games_by_genre.items():\n",
        "    recommended_game_names = recommended_df['name'].tolist()\n",
        "    liked_games = user_preferences.get(genre, [])\n",
        "\n",
        "    relevant_recommendations = len(set(recommended_game_names) & set(liked_games))\n",
        "    n = len(recommended_game_names)\n",
        "    total_relevant_items = len(liked_games)\n",
        "\n",
        "    precision_at_n = relevant_recommendations / n if n > 0 else 0\n",
        "    precision_at_n_scores.append(precision_at_n)\n",
        "\n",
        "    recall_at_n = relevant_recommendations / total_relevant_items if total_relevant_items > 0 else 0\n",
        "    recall_at_n_scores.append(recall_at_n)\n",
        "\n",
        "    f1_score = (2 * precision_at_n * recall_at_n) / (precision_at_n + recall_at_n) if (precision_at_n + recall_at_n) > 0 else 0\n",
        "    f1_scores.append(f1_score)\n",
        "\n",
        "    print(f\"Genre '{genre}':\")\n",
        "    print(f\"  Precision@{n}: {precision_at_n:.4f}\")\n",
        "    print(f\"  Recall@{n}: {recall_at_n:.4f}\")\n",
        "    print(f\"  F1-score@{n}: {f1_score:.4f}\") # Display F1-score\n",
        "    print(\"-\" * 20)\n",
        "\n",
        "\n",
        "average_precision_at_n = sum(precision_at_n_scores) / len(precision_at_n_scores) if precision_at_n_scores else 0\n",
        "average_recall_at_n = sum(recall_at_n_scores) / len(recall_at_n_scores) if recall_at_n_scores else 0\n",
        "average_f1_score = sum(f1_scores) / len(f1_scores) if f1_scores else 0\n",
        "\n",
        "print(f\"\\nAverage Precision at N across all genres: {average_precision_at_n:.4f}\")\n",
        "print(f\"Average Recall at N across all genres: {average_recall_at_n:.4f}\")\n",
        "print(f\"Average F1-score at N across all genres: {average_f1_score:.4f}\")"
      ],
      "execution_count": null,
      "outputs": [
        {
          "output_type": "stream",
          "name": "stdout",
          "text": [
            "Genre 'Open-World Action':\n",
            "  Precision@5: 0.4000\n",
            "  Recall@5: 1.0000\n",
            "  F1-score@5: 0.5714\n",
            "--------------------\n",
            "Genre '3D Platformer':\n",
            "  Precision@5: 0.2000\n",
            "  Recall@5: 1.0000\n",
            "  F1-score@5: 0.3333\n",
            "--------------------\n",
            "Genre 'JRPG':\n",
            "  Precision@5: 0.2000\n",
            "  Recall@5: 1.0000\n",
            "  F1-score@5: 0.3333\n",
            "--------------------\n",
            "Genre 'Action RPG':\n",
            "  Precision@5: 0.0000\n",
            "  Recall@5: 0.0000\n",
            "  F1-score@5: 0.0000\n",
            "--------------------\n",
            "Genre 'MOBA':\n",
            "  Precision@5: 0.0000\n",
            "  Recall@5: 0.0000\n",
            "  F1-score@5: 0.0000\n",
            "--------------------\n",
            "Genre 'Soccer':\n",
            "  Precision@5: 0.0000\n",
            "  Recall@5: 0.0000\n",
            "  F1-score@5: 0.0000\n",
            "--------------------\n",
            "Genre 'MMORPG':\n",
            "  Precision@5: 0.2000\n",
            "  Recall@5: 1.0000\n",
            "  F1-score@5: 0.3333\n",
            "--------------------\n",
            "Genre 'Turn-Based Strategy':\n",
            "  Precision@5: 0.2000\n",
            "  Recall@5: 1.0000\n",
            "  F1-score@5: 0.3333\n",
            "--------------------\n",
            "Genre 'Virtual Life':\n",
            "  Precision@5: 0.2000\n",
            "  Recall@5: 1.0000\n",
            "  F1-score@5: 0.3333\n",
            "--------------------\n",
            "\n",
            "Average Precision at N across all genres: 0.1556\n",
            "Average Recall at N across all genres: 0.6667\n",
            "Average F1-score at N across all genres: 0.2487\n"
          ]
        }
      ]
    },
    {
      "cell_type": "markdown",
      "source": [
        "pertama 3 list untuk menampung precision, recall, dan f1_score dibuat.\n",
        "\n",
        "Lalu fungsi rekomendasi akan dipanggil kembali dengan menggunakan data dari user_preferences\n",
        "\n",
        "Selanjutnya dihitung precision, recall, dan f1_score nya\n",
        "\n",
        "hasil akhir dari precision, recall, f1_score dari setiap genre akan ditampilkan.\n",
        "\n",
        "rata-rata dari precision, recall, dan f1_score akan dihitung dan ditampilkan"
      ],
      "metadata": {
        "id": "oNjOCqSWJlDg"
      }
    }
  ]
}