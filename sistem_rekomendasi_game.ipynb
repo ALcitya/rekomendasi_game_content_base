{
  "nbformat": 4,
  "nbformat_minor": 0,
  "metadata": {
    "colab": {
      "provenance": []
    },
    "kernelspec": {
      "name": "python3",
      "display_name": "Python 3"
    },
    "language_info": {
      "name": "python"
    }
  },
  "cells": [
    {
      "cell_type": "markdown",
      "source": [
        "# Sistem Rekomendasi Game mengunakan metode Content Base Filtering"
      ],
      "metadata": {
        "id": "ZCUFA0bAGgO-"
      }
    },
    {
      "cell_type": "markdown",
      "source": [
        "# Pertanyaan Bisnis\n",
        "1. Bagaimana merekomendasikan game kepada pengguna berdasarkan kesukaan genre yang sama\n",
        "2. Bagaimana merekomendasikan publisher game yang sama kepada pengguna\n",
        "\n",
        "#Link dataset\n",
        "kaagle : https://www.kaggle.com/datasets/uuratl/metacritic-games-12-23-2024"
      ],
      "metadata": {
        "id": "4YOQGdC0GtSi"
      }
    },
    {
      "cell_type": "markdown",
      "source": [
        "# Persiapan Library"
      ],
      "metadata": {
        "id": "E9Ej7ED5Kucd"
      }
    },
    {
      "cell_type": "code",
      "source": [
        "import pandas as pd\n",
        "import numpy as np\n",
        "import kagglehub\n",
        "import re\n",
        "from kagglehub import KaggleDatasetAdapter\n",
        "from sklearn.metrics.pairwise import cosine_similarity\n",
        "from sklearn.feature_extraction.text import TfidfVectorizer"
      ],
      "metadata": {
        "id": "6YTAWd1oK4gl"
      },
      "execution_count": 3,
      "outputs": []
    },
    {
      "cell_type": "markdown",
      "source": [
        "# Data Understanding"
      ],
      "metadata": {
        "id": "XShe0qz9KAh7"
      }
    },
    {
      "cell_type": "code",
      "source": [
        "# Set the path to the file you'd like to load\n",
        "file_path = \"12_23_2024_detailed_data.csv\"\n",
        "\n",
        "df = kagglehub.load_dataset(\n",
        "  KaggleDatasetAdapter.PANDAS,\n",
        "  \"uuratl/metacritic-games-12-23-2024\",\n",
        "  file_path,\n",
        ")\n",
        "df.head()"
      ],
      "metadata": {
        "colab": {
          "base_uri": "https://localhost:8080/",
          "height": 540
        },
        "id": "gkp_pFAAOJhp",
        "outputId": "e4236b21-ced2-48a3-f0c2-23014638e48a"
      },
      "execution_count": 4,
      "outputs": [
        {
          "output_type": "stream",
          "name": "stderr",
          "text": [
            "<ipython-input-4-b317389649f5>:4: DeprecationWarning: load_dataset is deprecated and will be removed in a future version.\n",
            "  df = kagglehub.load_dataset(\n"
          ]
        },
        {
          "output_type": "stream",
          "name": "stdout",
          "text": [
            "Downloading from https://www.kaggle.com/api/v1/datasets/download/uuratl/metacritic-games-12-23-2024?dataset_version_number=1&file_name=12_23_2024_detailed_data.csv...\n"
          ]
        },
        {
          "output_type": "stream",
          "name": "stderr",
          "text": [
            "100%|██████████| 3.04M/3.04M [00:00<00:00, 108MB/s]\n"
          ]
        },
        {
          "output_type": "execute_result",
          "data": {
            "text/plain": [
              "   Unnamed: 0                                  name  \\\n",
              "0           0  The Legend of Zelda: Ocarina of Time   \n",
              "1           1                           SoulCalibur   \n",
              "2           2                   Grand Theft Auto IV   \n",
              "3           3                    Super Mario Galaxy   \n",
              "4           4                  Super Mario Galaxy 2   \n",
              "\n",
              "      metacritic_review_count metacritic_review_score  \\\n",
              "0  Based on 22 Critic Reviews                      99   \n",
              "1  Based on 24 Critic Reviews                      98   \n",
              "2  Based on 86 Critic Reviews                      98   \n",
              "3  Based on 73 Critic Reviews                      97   \n",
              "4  Based on 87 Critic Reviews                      97   \n",
              "\n",
              "              user_review_count user_review_score  \\\n",
              "0  Based on 10,273 User Ratings               9.1   \n",
              "1     Based on 574 User Ratings               7.8   \n",
              "2   Based on 4,462 User Ratings               8.3   \n",
              "3   Based on 4,027 User Ratings               9.1   \n",
              "4   Based on 2,857 User Ratings               9.0   \n",
              "\n",
              "                                 developer                  publisher  \\\n",
              "0            Developer:           Nintendo        Publisher: Nintendo   \n",
              "1               Developer:           Namco           Publisher: Namco   \n",
              "2      Developer:           Rockstar North  Publisher: Rockstar Games   \n",
              "3            Developer:           Nintendo        Publisher: Nintendo   \n",
              "4  Developer:           Nintendo EAD Tokyo        Publisher: Nintendo   \n",
              "\n",
              "                                        platforms                 genres  \\\n",
              "0                                 ['Nintendo 64']  ['Open-World Action']   \n",
              "1  ['Dreamcast', 'iOS (iPhone/iPad)', 'Xbox 360']        ['3D Fighting']   \n",
              "2             ['PlayStation 3', 'Xbox 360', 'PC']  ['Open-World Action']   \n",
              "3                                         ['Wii']      ['3D Platformer']   \n",
              "4                                         ['Wii']      ['3D Platformer']   \n",
              "\n",
              "                                             esrb  must_play  \n",
              "0  Rated E                           for Everyone          1  \n",
              "1      Rated T                           for Teen          1  \n",
              "2    Rated M                           for Mature          1  \n",
              "3  Rated E                           for Everyone          1  \n",
              "4  Rated E                           for Everyone          1  "
            ],
            "text/html": [
              "\n",
              "  <div id=\"df-85303f3e-240e-4b0c-afc2-26ea9f0f5b0f\" class=\"colab-df-container\">\n",
              "    <div>\n",
              "<style scoped>\n",
              "    .dataframe tbody tr th:only-of-type {\n",
              "        vertical-align: middle;\n",
              "    }\n",
              "\n",
              "    .dataframe tbody tr th {\n",
              "        vertical-align: top;\n",
              "    }\n",
              "\n",
              "    .dataframe thead th {\n",
              "        text-align: right;\n",
              "    }\n",
              "</style>\n",
              "<table border=\"1\" class=\"dataframe\">\n",
              "  <thead>\n",
              "    <tr style=\"text-align: right;\">\n",
              "      <th></th>\n",
              "      <th>Unnamed: 0</th>\n",
              "      <th>name</th>\n",
              "      <th>metacritic_review_count</th>\n",
              "      <th>metacritic_review_score</th>\n",
              "      <th>user_review_count</th>\n",
              "      <th>user_review_score</th>\n",
              "      <th>developer</th>\n",
              "      <th>publisher</th>\n",
              "      <th>platforms</th>\n",
              "      <th>genres</th>\n",
              "      <th>esrb</th>\n",
              "      <th>must_play</th>\n",
              "    </tr>\n",
              "  </thead>\n",
              "  <tbody>\n",
              "    <tr>\n",
              "      <th>0</th>\n",
              "      <td>0</td>\n",
              "      <td>The Legend of Zelda: Ocarina of Time</td>\n",
              "      <td>Based on 22 Critic Reviews</td>\n",
              "      <td>99</td>\n",
              "      <td>Based on 10,273 User Ratings</td>\n",
              "      <td>9.1</td>\n",
              "      <td>Developer:           Nintendo</td>\n",
              "      <td>Publisher: Nintendo</td>\n",
              "      <td>['Nintendo 64']</td>\n",
              "      <td>['Open-World Action']</td>\n",
              "      <td>Rated E                           for Everyone</td>\n",
              "      <td>1</td>\n",
              "    </tr>\n",
              "    <tr>\n",
              "      <th>1</th>\n",
              "      <td>1</td>\n",
              "      <td>SoulCalibur</td>\n",
              "      <td>Based on 24 Critic Reviews</td>\n",
              "      <td>98</td>\n",
              "      <td>Based on 574 User Ratings</td>\n",
              "      <td>7.8</td>\n",
              "      <td>Developer:           Namco</td>\n",
              "      <td>Publisher: Namco</td>\n",
              "      <td>['Dreamcast', 'iOS (iPhone/iPad)', 'Xbox 360']</td>\n",
              "      <td>['3D Fighting']</td>\n",
              "      <td>Rated T                           for Teen</td>\n",
              "      <td>1</td>\n",
              "    </tr>\n",
              "    <tr>\n",
              "      <th>2</th>\n",
              "      <td>2</td>\n",
              "      <td>Grand Theft Auto IV</td>\n",
              "      <td>Based on 86 Critic Reviews</td>\n",
              "      <td>98</td>\n",
              "      <td>Based on 4,462 User Ratings</td>\n",
              "      <td>8.3</td>\n",
              "      <td>Developer:           Rockstar North</td>\n",
              "      <td>Publisher: Rockstar Games</td>\n",
              "      <td>['PlayStation 3', 'Xbox 360', 'PC']</td>\n",
              "      <td>['Open-World Action']</td>\n",
              "      <td>Rated M                           for Mature</td>\n",
              "      <td>1</td>\n",
              "    </tr>\n",
              "    <tr>\n",
              "      <th>3</th>\n",
              "      <td>3</td>\n",
              "      <td>Super Mario Galaxy</td>\n",
              "      <td>Based on 73 Critic Reviews</td>\n",
              "      <td>97</td>\n",
              "      <td>Based on 4,027 User Ratings</td>\n",
              "      <td>9.1</td>\n",
              "      <td>Developer:           Nintendo</td>\n",
              "      <td>Publisher: Nintendo</td>\n",
              "      <td>['Wii']</td>\n",
              "      <td>['3D Platformer']</td>\n",
              "      <td>Rated E                           for Everyone</td>\n",
              "      <td>1</td>\n",
              "    </tr>\n",
              "    <tr>\n",
              "      <th>4</th>\n",
              "      <td>4</td>\n",
              "      <td>Super Mario Galaxy 2</td>\n",
              "      <td>Based on 87 Critic Reviews</td>\n",
              "      <td>97</td>\n",
              "      <td>Based on 2,857 User Ratings</td>\n",
              "      <td>9.0</td>\n",
              "      <td>Developer:           Nintendo EAD Tokyo</td>\n",
              "      <td>Publisher: Nintendo</td>\n",
              "      <td>['Wii']</td>\n",
              "      <td>['3D Platformer']</td>\n",
              "      <td>Rated E                           for Everyone</td>\n",
              "      <td>1</td>\n",
              "    </tr>\n",
              "  </tbody>\n",
              "</table>\n",
              "</div>\n",
              "    <div class=\"colab-df-buttons\">\n",
              "\n",
              "  <div class=\"colab-df-container\">\n",
              "    <button class=\"colab-df-convert\" onclick=\"convertToInteractive('df-85303f3e-240e-4b0c-afc2-26ea9f0f5b0f')\"\n",
              "            title=\"Convert this dataframe to an interactive table.\"\n",
              "            style=\"display:none;\">\n",
              "\n",
              "  <svg xmlns=\"http://www.w3.org/2000/svg\" height=\"24px\" viewBox=\"0 -960 960 960\">\n",
              "    <path d=\"M120-120v-720h720v720H120Zm60-500h600v-160H180v160Zm220 220h160v-160H400v160Zm0 220h160v-160H400v160ZM180-400h160v-160H180v160Zm440 0h160v-160H620v160ZM180-180h160v-160H180v160Zm440 0h160v-160H620v160Z\"/>\n",
              "  </svg>\n",
              "    </button>\n",
              "\n",
              "  <style>\n",
              "    .colab-df-container {\n",
              "      display:flex;\n",
              "      gap: 12px;\n",
              "    }\n",
              "\n",
              "    .colab-df-convert {\n",
              "      background-color: #E8F0FE;\n",
              "      border: none;\n",
              "      border-radius: 50%;\n",
              "      cursor: pointer;\n",
              "      display: none;\n",
              "      fill: #1967D2;\n",
              "      height: 32px;\n",
              "      padding: 0 0 0 0;\n",
              "      width: 32px;\n",
              "    }\n",
              "\n",
              "    .colab-df-convert:hover {\n",
              "      background-color: #E2EBFA;\n",
              "      box-shadow: 0px 1px 2px rgba(60, 64, 67, 0.3), 0px 1px 3px 1px rgba(60, 64, 67, 0.15);\n",
              "      fill: #174EA6;\n",
              "    }\n",
              "\n",
              "    .colab-df-buttons div {\n",
              "      margin-bottom: 4px;\n",
              "    }\n",
              "\n",
              "    [theme=dark] .colab-df-convert {\n",
              "      background-color: #3B4455;\n",
              "      fill: #D2E3FC;\n",
              "    }\n",
              "\n",
              "    [theme=dark] .colab-df-convert:hover {\n",
              "      background-color: #434B5C;\n",
              "      box-shadow: 0px 1px 3px 1px rgba(0, 0, 0, 0.15);\n",
              "      filter: drop-shadow(0px 1px 2px rgba(0, 0, 0, 0.3));\n",
              "      fill: #FFFFFF;\n",
              "    }\n",
              "  </style>\n",
              "\n",
              "    <script>\n",
              "      const buttonEl =\n",
              "        document.querySelector('#df-85303f3e-240e-4b0c-afc2-26ea9f0f5b0f button.colab-df-convert');\n",
              "      buttonEl.style.display =\n",
              "        google.colab.kernel.accessAllowed ? 'block' : 'none';\n",
              "\n",
              "      async function convertToInteractive(key) {\n",
              "        const element = document.querySelector('#df-85303f3e-240e-4b0c-afc2-26ea9f0f5b0f');\n",
              "        const dataTable =\n",
              "          await google.colab.kernel.invokeFunction('convertToInteractive',\n",
              "                                                    [key], {});\n",
              "        if (!dataTable) return;\n",
              "\n",
              "        const docLinkHtml = 'Like what you see? Visit the ' +\n",
              "          '<a target=\"_blank\" href=https://colab.research.google.com/notebooks/data_table.ipynb>data table notebook</a>'\n",
              "          + ' to learn more about interactive tables.';\n",
              "        element.innerHTML = '';\n",
              "        dataTable['output_type'] = 'display_data';\n",
              "        await google.colab.output.renderOutput(dataTable, element);\n",
              "        const docLink = document.createElement('div');\n",
              "        docLink.innerHTML = docLinkHtml;\n",
              "        element.appendChild(docLink);\n",
              "      }\n",
              "    </script>\n",
              "  </div>\n",
              "\n",
              "\n",
              "    <div id=\"df-ee63bc49-e554-46ea-a79d-25919ab03649\">\n",
              "      <button class=\"colab-df-quickchart\" onclick=\"quickchart('df-ee63bc49-e554-46ea-a79d-25919ab03649')\"\n",
              "                title=\"Suggest charts\"\n",
              "                style=\"display:none;\">\n",
              "\n",
              "<svg xmlns=\"http://www.w3.org/2000/svg\" height=\"24px\"viewBox=\"0 0 24 24\"\n",
              "     width=\"24px\">\n",
              "    <g>\n",
              "        <path d=\"M19 3H5c-1.1 0-2 .9-2 2v14c0 1.1.9 2 2 2h14c1.1 0 2-.9 2-2V5c0-1.1-.9-2-2-2zM9 17H7v-7h2v7zm4 0h-2V7h2v10zm4 0h-2v-4h2v4z\"/>\n",
              "    </g>\n",
              "</svg>\n",
              "      </button>\n",
              "\n",
              "<style>\n",
              "  .colab-df-quickchart {\n",
              "      --bg-color: #E8F0FE;\n",
              "      --fill-color: #1967D2;\n",
              "      --hover-bg-color: #E2EBFA;\n",
              "      --hover-fill-color: #174EA6;\n",
              "      --disabled-fill-color: #AAA;\n",
              "      --disabled-bg-color: #DDD;\n",
              "  }\n",
              "\n",
              "  [theme=dark] .colab-df-quickchart {\n",
              "      --bg-color: #3B4455;\n",
              "      --fill-color: #D2E3FC;\n",
              "      --hover-bg-color: #434B5C;\n",
              "      --hover-fill-color: #FFFFFF;\n",
              "      --disabled-bg-color: #3B4455;\n",
              "      --disabled-fill-color: #666;\n",
              "  }\n",
              "\n",
              "  .colab-df-quickchart {\n",
              "    background-color: var(--bg-color);\n",
              "    border: none;\n",
              "    border-radius: 50%;\n",
              "    cursor: pointer;\n",
              "    display: none;\n",
              "    fill: var(--fill-color);\n",
              "    height: 32px;\n",
              "    padding: 0;\n",
              "    width: 32px;\n",
              "  }\n",
              "\n",
              "  .colab-df-quickchart:hover {\n",
              "    background-color: var(--hover-bg-color);\n",
              "    box-shadow: 0 1px 2px rgba(60, 64, 67, 0.3), 0 1px 3px 1px rgba(60, 64, 67, 0.15);\n",
              "    fill: var(--button-hover-fill-color);\n",
              "  }\n",
              "\n",
              "  .colab-df-quickchart-complete:disabled,\n",
              "  .colab-df-quickchart-complete:disabled:hover {\n",
              "    background-color: var(--disabled-bg-color);\n",
              "    fill: var(--disabled-fill-color);\n",
              "    box-shadow: none;\n",
              "  }\n",
              "\n",
              "  .colab-df-spinner {\n",
              "    border: 2px solid var(--fill-color);\n",
              "    border-color: transparent;\n",
              "    border-bottom-color: var(--fill-color);\n",
              "    animation:\n",
              "      spin 1s steps(1) infinite;\n",
              "  }\n",
              "\n",
              "  @keyframes spin {\n",
              "    0% {\n",
              "      border-color: transparent;\n",
              "      border-bottom-color: var(--fill-color);\n",
              "      border-left-color: var(--fill-color);\n",
              "    }\n",
              "    20% {\n",
              "      border-color: transparent;\n",
              "      border-left-color: var(--fill-color);\n",
              "      border-top-color: var(--fill-color);\n",
              "    }\n",
              "    30% {\n",
              "      border-color: transparent;\n",
              "      border-left-color: var(--fill-color);\n",
              "      border-top-color: var(--fill-color);\n",
              "      border-right-color: var(--fill-color);\n",
              "    }\n",
              "    40% {\n",
              "      border-color: transparent;\n",
              "      border-right-color: var(--fill-color);\n",
              "      border-top-color: var(--fill-color);\n",
              "    }\n",
              "    60% {\n",
              "      border-color: transparent;\n",
              "      border-right-color: var(--fill-color);\n",
              "    }\n",
              "    80% {\n",
              "      border-color: transparent;\n",
              "      border-right-color: var(--fill-color);\n",
              "      border-bottom-color: var(--fill-color);\n",
              "    }\n",
              "    90% {\n",
              "      border-color: transparent;\n",
              "      border-bottom-color: var(--fill-color);\n",
              "    }\n",
              "  }\n",
              "</style>\n",
              "\n",
              "      <script>\n",
              "        async function quickchart(key) {\n",
              "          const quickchartButtonEl =\n",
              "            document.querySelector('#' + key + ' button');\n",
              "          quickchartButtonEl.disabled = true;  // To prevent multiple clicks.\n",
              "          quickchartButtonEl.classList.add('colab-df-spinner');\n",
              "          try {\n",
              "            const charts = await google.colab.kernel.invokeFunction(\n",
              "                'suggestCharts', [key], {});\n",
              "          } catch (error) {\n",
              "            console.error('Error during call to suggestCharts:', error);\n",
              "          }\n",
              "          quickchartButtonEl.classList.remove('colab-df-spinner');\n",
              "          quickchartButtonEl.classList.add('colab-df-quickchart-complete');\n",
              "        }\n",
              "        (() => {\n",
              "          let quickchartButtonEl =\n",
              "            document.querySelector('#df-ee63bc49-e554-46ea-a79d-25919ab03649 button');\n",
              "          quickchartButtonEl.style.display =\n",
              "            google.colab.kernel.accessAllowed ? 'block' : 'none';\n",
              "        })();\n",
              "      </script>\n",
              "    </div>\n",
              "\n",
              "    </div>\n",
              "  </div>\n"
            ],
            "application/vnd.google.colaboratory.intrinsic+json": {
              "type": "dataframe",
              "variable_name": "df",
              "summary": "{\n  \"name\": \"df\",\n  \"rows\": 13390,\n  \"fields\": [\n    {\n      \"column\": \"Unnamed: 0\",\n      \"properties\": {\n        \"dtype\": \"number\",\n        \"std\": 3865,\n        \"min\": 0,\n        \"max\": 13389,\n        \"num_unique_values\": 13390,\n        \"samples\": [\n          11009,\n          5493,\n          4015\n        ],\n        \"semantic_type\": \"\",\n        \"description\": \"\"\n      }\n    },\n    {\n      \"column\": \"name\",\n      \"properties\": {\n        \"dtype\": \"string\",\n        \"num_unique_values\": 13390,\n        \"samples\": [\n          \"Farming Simulator 20\",\n          \"Sly Cooper: Thieves in Time\",\n          \"Mega Man Zero Collection\"\n        ],\n        \"semantic_type\": \"\",\n        \"description\": \"\"\n      }\n    },\n    {\n      \"column\": \"metacritic_review_count\",\n      \"properties\": {\n        \"dtype\": \"category\",\n        \"num_unique_values\": 135,\n        \"samples\": [\n          \"Based on 47 Critic Reviews\",\n          \"Based on 77 Critic Reviews\",\n          \"Based on 63 Critic Reviews\"\n        ],\n        \"semantic_type\": \"\",\n        \"description\": \"\"\n      }\n    },\n    {\n      \"column\": \"metacritic_review_score\",\n      \"properties\": {\n        \"dtype\": \"category\",\n        \"num_unique_values\": 85,\n        \"samples\": [\n          \"22\",\n          \"99\",\n          \"32\"\n        ],\n        \"semantic_type\": \"\",\n        \"description\": \"\"\n      }\n    },\n    {\n      \"column\": \"user_review_count\",\n      \"properties\": {\n        \"dtype\": \"category\",\n        \"num_unique_values\": 1289,\n        \"samples\": [\n          \"Based on 1,458 User Ratings\",\n          \"Based on 648 User Ratings\",\n          \"Based on 3,394 User Ratings\"\n        ],\n        \"semantic_type\": \"\",\n        \"description\": \"\"\n      }\n    },\n    {\n      \"column\": \"user_review_score\",\n      \"properties\": {\n        \"dtype\": \"category\",\n        \"num_unique_values\": 94,\n        \"samples\": [\n          \"tbd\",\n          \"7.4\",\n          \"4.3\"\n        ],\n        \"semantic_type\": \"\",\n        \"description\": \"\"\n      }\n    },\n    {\n      \"column\": \"developer\",\n      \"properties\": {\n        \"dtype\": \"category\",\n        \"num_unique_values\": 4515,\n        \"samples\": [\n          \"Developer:           Skunkape Games\",\n          \"Developer:           8bit Games\",\n          \"Developer:           Probe Entertainment Limited\"\n        ],\n        \"semantic_type\": \"\",\n        \"description\": \"\"\n      }\n    },\n    {\n      \"column\": \"publisher\",\n      \"properties\": {\n        \"dtype\": \"category\",\n        \"num_unique_values\": 2033,\n        \"samples\": [\n          \"Publisher: Fabled Game\",\n          \"Publisher: Powerhoof\",\n          \"Publisher: Global Star Software\"\n        ],\n        \"semantic_type\": \"\",\n        \"description\": \"\"\n      }\n    },\n    {\n      \"column\": \"platforms\",\n      \"properties\": {\n        \"dtype\": \"category\",\n        \"num_unique_values\": 2758,\n        \"samples\": [\n          \"['PC', 'PlayStation 5']\",\n          \"['PC', 'PlayStation 4', 'PlayStation 3', 'Xbox One', 'Xbox 360', 'iOS (iPhone/iPad)', 'PlayStation Vita']\",\n          \"['Nintendo Switch', 'PlayStation 4', 'Xbox One', 'PC', 'iOS (iPhone/iPad)']\"\n        ],\n        \"semantic_type\": \"\",\n        \"description\": \"\"\n      }\n    },\n    {\n      \"column\": \"genres\",\n      \"properties\": {\n        \"dtype\": \"category\",\n        \"num_unique_values\": 119,\n        \"samples\": [\n          \"['Action']\",\n          \"['Football']\",\n          \"['FPS']\"\n        ],\n        \"semantic_type\": \"\",\n        \"description\": \"\"\n      }\n    },\n    {\n      \"column\": \"esrb\",\n      \"properties\": {\n        \"dtype\": \"category\",\n        \"num_unique_values\": 6,\n        \"samples\": [\n          \"Rated E                           for Everyone\",\n          \"Rated T                           for Teen\",\n          \"Rated AO                           for Adults Only\"\n        ],\n        \"semantic_type\": \"\",\n        \"description\": \"\"\n      }\n    },\n    {\n      \"column\": \"must_play\",\n      \"properties\": {\n        \"dtype\": \"number\",\n        \"std\": 0,\n        \"min\": 0,\n        \"max\": 1,\n        \"num_unique_values\": 2,\n        \"samples\": [\n          0,\n          1\n        ],\n        \"semantic_type\": \"\",\n        \"description\": \"\"\n      }\n    }\n  ]\n}"
            }
          },
          "metadata": {},
          "execution_count": 4
        }
      ]
    },
    {
      "cell_type": "markdown",
      "source": [
        "Mengambil dataset menggunakan library bawaan kaagle, agar projek bisa di running tanpa perlu input dataset\n",
        "\n",
        "\n",
        "---\n",
        "KaggleDatasetAdapter.PANDAS akan memanggil fungsi pandas\n",
        "file_path, mengambil nama file dari link dataset\n"
      ],
      "metadata": {
        "id": "Q8D9Lk6sg_er"
      }
    },
    {
      "cell_type": "markdown",
      "source": [
        "# Univariate Exploratory Data Analysis"
      ],
      "metadata": {
        "id": "QqeYDc-RKF30"
      }
    },
    {
      "cell_type": "markdown",
      "source": [
        "## melihat dimensi data"
      ],
      "metadata": {
        "id": "GrHh2mYVRJ64"
      }
    },
    {
      "cell_type": "code",
      "source": [
        "df.shape"
      ],
      "metadata": {
        "colab": {
          "base_uri": "https://localhost:8080/"
        },
        "id": "TBe2x_CHRSfN",
        "outputId": "984dce05-081a-4162-a8f8-aa49ec5a24f9"
      },
      "execution_count": 5,
      "outputs": [
        {
          "output_type": "execute_result",
          "data": {
            "text/plain": [
              "(13390, 12)"
            ]
          },
          "metadata": {},
          "execution_count": 5
        }
      ]
    },
    {
      "cell_type": "markdown",
      "source": [
        "Melihat baris dan kolom yang dimiliki dataset"
      ],
      "metadata": {
        "id": "A1eJInQghTL4"
      }
    },
    {
      "cell_type": "markdown",
      "source": [
        "## Melihat informasi dataset"
      ],
      "metadata": {
        "id": "9HbMnIFpRctR"
      }
    },
    {
      "cell_type": "code",
      "source": [
        "df.info()"
      ],
      "metadata": {
        "colab": {
          "base_uri": "https://localhost:8080/"
        },
        "id": "Ru93jENvRgaE",
        "outputId": "7cdaf23d-1b85-4655-9330-f3404be43661"
      },
      "execution_count": 6,
      "outputs": [
        {
          "output_type": "stream",
          "name": "stdout",
          "text": [
            "<class 'pandas.core.frame.DataFrame'>\n",
            "RangeIndex: 13390 entries, 0 to 13389\n",
            "Data columns (total 12 columns):\n",
            " #   Column                   Non-Null Count  Dtype \n",
            "---  ------                   --------------  ----- \n",
            " 0   Unnamed: 0               13390 non-null  int64 \n",
            " 1   name                     13390 non-null  object\n",
            " 2   metacritic_review_count  13384 non-null  object\n",
            " 3   metacritic_review_score  13390 non-null  object\n",
            " 4   user_review_count        11833 non-null  object\n",
            " 5   user_review_score        13390 non-null  object\n",
            " 6   developer                13380 non-null  object\n",
            " 7   publisher                13380 non-null  object\n",
            " 8   platforms                13390 non-null  object\n",
            " 9   genres                   13390 non-null  object\n",
            " 10  esrb                     11287 non-null  object\n",
            " 11  must_play                13390 non-null  int64 \n",
            "dtypes: int64(2), object(10)\n",
            "memory usage: 1.2+ MB\n"
          ]
        }
      ]
    },
    {
      "cell_type": "markdown",
      "source": [
        "Dataset mentah memiliki total 13390 baris, kebanyakan bertype object, dan dua kolom bertype int64"
      ],
      "metadata": {
        "id": "ifn979tDhilg"
      }
    },
    {
      "cell_type": "markdown",
      "source": [
        "# Data Preparation"
      ],
      "metadata": {
        "id": "Yiw_xHcEKYPd"
      }
    },
    {
      "cell_type": "markdown",
      "source": [
        "## Mengatasi missing value"
      ],
      "metadata": {
        "id": "hFzku_ujqkTx"
      }
    },
    {
      "cell_type": "code",
      "source": [
        "df.isnull().sum()"
      ],
      "metadata": {
        "colab": {
          "base_uri": "https://localhost:8080/",
          "height": 460
        },
        "id": "5iEU1XRtqqNi",
        "outputId": "ea902340-a1b8-4a3a-f59a-6845c95cc6c3"
      },
      "execution_count": 7,
      "outputs": [
        {
          "output_type": "execute_result",
          "data": {
            "text/plain": [
              "Unnamed: 0                    0\n",
              "name                          0\n",
              "metacritic_review_count       6\n",
              "metacritic_review_score       0\n",
              "user_review_count          1557\n",
              "user_review_score             0\n",
              "developer                    10\n",
              "publisher                    10\n",
              "platforms                     0\n",
              "genres                        0\n",
              "esrb                       2103\n",
              "must_play                     0\n",
              "dtype: int64"
            ],
            "text/html": [
              "<div>\n",
              "<style scoped>\n",
              "    .dataframe tbody tr th:only-of-type {\n",
              "        vertical-align: middle;\n",
              "    }\n",
              "\n",
              "    .dataframe tbody tr th {\n",
              "        vertical-align: top;\n",
              "    }\n",
              "\n",
              "    .dataframe thead th {\n",
              "        text-align: right;\n",
              "    }\n",
              "</style>\n",
              "<table border=\"1\" class=\"dataframe\">\n",
              "  <thead>\n",
              "    <tr style=\"text-align: right;\">\n",
              "      <th></th>\n",
              "      <th>0</th>\n",
              "    </tr>\n",
              "  </thead>\n",
              "  <tbody>\n",
              "    <tr>\n",
              "      <th>Unnamed: 0</th>\n",
              "      <td>0</td>\n",
              "    </tr>\n",
              "    <tr>\n",
              "      <th>name</th>\n",
              "      <td>0</td>\n",
              "    </tr>\n",
              "    <tr>\n",
              "      <th>metacritic_review_count</th>\n",
              "      <td>6</td>\n",
              "    </tr>\n",
              "    <tr>\n",
              "      <th>metacritic_review_score</th>\n",
              "      <td>0</td>\n",
              "    </tr>\n",
              "    <tr>\n",
              "      <th>user_review_count</th>\n",
              "      <td>1557</td>\n",
              "    </tr>\n",
              "    <tr>\n",
              "      <th>user_review_score</th>\n",
              "      <td>0</td>\n",
              "    </tr>\n",
              "    <tr>\n",
              "      <th>developer</th>\n",
              "      <td>10</td>\n",
              "    </tr>\n",
              "    <tr>\n",
              "      <th>publisher</th>\n",
              "      <td>10</td>\n",
              "    </tr>\n",
              "    <tr>\n",
              "      <th>platforms</th>\n",
              "      <td>0</td>\n",
              "    </tr>\n",
              "    <tr>\n",
              "      <th>genres</th>\n",
              "      <td>0</td>\n",
              "    </tr>\n",
              "    <tr>\n",
              "      <th>esrb</th>\n",
              "      <td>2103</td>\n",
              "    </tr>\n",
              "    <tr>\n",
              "      <th>must_play</th>\n",
              "      <td>0</td>\n",
              "    </tr>\n",
              "  </tbody>\n",
              "</table>\n",
              "</div><br><label><b>dtype:</b> int64</label>"
            ]
          },
          "metadata": {},
          "execution_count": 7
        }
      ]
    },
    {
      "cell_type": "markdown",
      "source": [
        "Terdapat 2 kolom yang memiliki missing value, yaitu user_review_count dan esrb.\n",
        "\n",
        "\n",
        "---\n",
        "mengunakan perintah isnull untuk mengetahui kolom yang memiliki nilai null, dan sum() untuk menjumlahkan nilai null dalam satu kolom\n"
      ],
      "metadata": {
        "id": "3c4r36gWh2_X"
      }
    },
    {
      "cell_type": "code",
      "source": [
        "df_clean = df.dropna()\n",
        "df_clean"
      ],
      "metadata": {
        "colab": {
          "base_uri": "https://localhost:8080/",
          "height": 894
        },
        "id": "P_vZ_umsrANc",
        "outputId": "e1614b2a-d213-44f8-c5d4-40c2af99d9b5"
      },
      "execution_count": 8,
      "outputs": [
        {
          "output_type": "execute_result",
          "data": {
            "text/plain": [
              "       Unnamed: 0                                     name  \\\n",
              "0               0     The Legend of Zelda: Ocarina of Time   \n",
              "1               1                              SoulCalibur   \n",
              "2               2                      Grand Theft Auto IV   \n",
              "3               3                       Super Mario Galaxy   \n",
              "4               4                     Super Mario Galaxy 2   \n",
              "...           ...                                      ...   \n",
              "13384       13384                Ride to Hell: Retribution   \n",
              "13385       13385                             SPOGS Racing   \n",
              "13386       13386  Double Dragon II: Wander of the Dragons   \n",
              "13387       13387                   Vroom in the Night Sky   \n",
              "13388       13388                                    Yaris   \n",
              "\n",
              "          metacritic_review_count metacritic_review_score  \\\n",
              "0      Based on 22 Critic Reviews                      99   \n",
              "1      Based on 24 Critic Reviews                      98   \n",
              "2      Based on 86 Critic Reviews                      98   \n",
              "3      Based on 73 Critic Reviews                      97   \n",
              "4      Based on 87 Critic Reviews                      97   \n",
              "...                           ...                     ...   \n",
              "13384  Based on 14 Critic Reviews                      19   \n",
              "13385   Based on 7 Critic Reviews                      18   \n",
              "13386  Based on 19 Critic Reviews                      17   \n",
              "13387  Based on 15 Critic Reviews                      17   \n",
              "13388   Based on 7 Critic Reviews                      17   \n",
              "\n",
              "                  user_review_count user_review_score  \\\n",
              "0      Based on 10,273 User Ratings               9.1   \n",
              "1         Based on 574 User Ratings               7.8   \n",
              "2       Based on 4,462 User Ratings               8.3   \n",
              "3       Based on 4,027 User Ratings               9.1   \n",
              "4       Based on 2,857 User Ratings               9.0   \n",
              "...                             ...               ...   \n",
              "13384     Based on 468 User Ratings               1.4   \n",
              "13385      Based on 10 User Ratings               6.1   \n",
              "13386      Based on 65 User Ratings               1.6   \n",
              "13387     Based on 122 User Ratings               3.2   \n",
              "13388      Based on 60 User Ratings               5.0   \n",
              "\n",
              "                                         developer  \\\n",
              "0                    Developer:           Nintendo   \n",
              "1                       Developer:           Namco   \n",
              "2              Developer:           Rockstar North   \n",
              "3                    Developer:           Nintendo   \n",
              "4          Developer:           Nintendo EAD Tokyo   \n",
              "...                                            ...   \n",
              "13384               Developer:           Eutechnyx   \n",
              "13385            Developer:           Pronto Games   \n",
              "13386                 Developer:           Gravity   \n",
              "13387                 Developer:           Poisoft   \n",
              "13388  Developer:           Backbone Entertainment   \n",
              "\n",
              "                               publisher  \\\n",
              "0                    Publisher: Nintendo   \n",
              "1                       Publisher: Namco   \n",
              "2              Publisher: Rockstar Games   \n",
              "3                    Publisher: Nintendo   \n",
              "4                    Publisher: Nintendo   \n",
              "...                                  ...   \n",
              "13384             Publisher: Deep Silver   \n",
              "13385               Publisher: D2C Games   \n",
              "13386                     Publisher: CFK   \n",
              "13387                 Publisher: Poisoft   \n",
              "13388  Publisher: Backbone Entertainment   \n",
              "\n",
              "                                            platforms                 genres  \\\n",
              "0                                     ['Nintendo 64']  ['Open-World Action']   \n",
              "1      ['Dreamcast', 'iOS (iPhone/iPad)', 'Xbox 360']        ['3D Fighting']   \n",
              "2                 ['PlayStation 3', 'Xbox 360', 'PC']  ['Open-World Action']   \n",
              "3                                             ['Wii']      ['3D Platformer']   \n",
              "4                                             ['Wii']      ['3D Platformer']   \n",
              "...                                               ...                    ...   \n",
              "13384             ['PlayStation 3', 'PC', 'Xbox 360']   ['Action Adventure']   \n",
              "13385                                   ['Wii', 'PC']        ['Auto Racing']   \n",
              "13386                                    ['Xbox 360']     [\"2D Beat-'Em-Up\"]   \n",
              "13387                             ['Nintendo Switch']             ['Biking']   \n",
              "13388                                    ['Xbox 360']        ['Auto Racing']   \n",
              "\n",
              "                                                    esrb  must_play  \n",
              "0         Rated E                           for Everyone          1  \n",
              "1             Rated T                           for Teen          1  \n",
              "2           Rated M                           for Mature          1  \n",
              "3         Rated E                           for Everyone          1  \n",
              "4         Rated E                           for Everyone          1  \n",
              "...                                                  ...        ...  \n",
              "13384       Rated M                           for Mature          0  \n",
              "13385     Rated E                           for Everyone          0  \n",
              "13386         Rated T                           for Teen          0  \n",
              "13387     Rated E                           for Everyone          0  \n",
              "13388  Rated E +10                           for Ever...          0  \n",
              "\n",
              "[9902 rows x 12 columns]"
            ],
            "text/html": [
              "\n",
              "  <div id=\"df-c11d7d24-b6d0-4004-ba0f-4686a92c6af1\" class=\"colab-df-container\">\n",
              "    <div>\n",
              "<style scoped>\n",
              "    .dataframe tbody tr th:only-of-type {\n",
              "        vertical-align: middle;\n",
              "    }\n",
              "\n",
              "    .dataframe tbody tr th {\n",
              "        vertical-align: top;\n",
              "    }\n",
              "\n",
              "    .dataframe thead th {\n",
              "        text-align: right;\n",
              "    }\n",
              "</style>\n",
              "<table border=\"1\" class=\"dataframe\">\n",
              "  <thead>\n",
              "    <tr style=\"text-align: right;\">\n",
              "      <th></th>\n",
              "      <th>Unnamed: 0</th>\n",
              "      <th>name</th>\n",
              "      <th>metacritic_review_count</th>\n",
              "      <th>metacritic_review_score</th>\n",
              "      <th>user_review_count</th>\n",
              "      <th>user_review_score</th>\n",
              "      <th>developer</th>\n",
              "      <th>publisher</th>\n",
              "      <th>platforms</th>\n",
              "      <th>genres</th>\n",
              "      <th>esrb</th>\n",
              "      <th>must_play</th>\n",
              "    </tr>\n",
              "  </thead>\n",
              "  <tbody>\n",
              "    <tr>\n",
              "      <th>0</th>\n",
              "      <td>0</td>\n",
              "      <td>The Legend of Zelda: Ocarina of Time</td>\n",
              "      <td>Based on 22 Critic Reviews</td>\n",
              "      <td>99</td>\n",
              "      <td>Based on 10,273 User Ratings</td>\n",
              "      <td>9.1</td>\n",
              "      <td>Developer:           Nintendo</td>\n",
              "      <td>Publisher: Nintendo</td>\n",
              "      <td>['Nintendo 64']</td>\n",
              "      <td>['Open-World Action']</td>\n",
              "      <td>Rated E                           for Everyone</td>\n",
              "      <td>1</td>\n",
              "    </tr>\n",
              "    <tr>\n",
              "      <th>1</th>\n",
              "      <td>1</td>\n",
              "      <td>SoulCalibur</td>\n",
              "      <td>Based on 24 Critic Reviews</td>\n",
              "      <td>98</td>\n",
              "      <td>Based on 574 User Ratings</td>\n",
              "      <td>7.8</td>\n",
              "      <td>Developer:           Namco</td>\n",
              "      <td>Publisher: Namco</td>\n",
              "      <td>['Dreamcast', 'iOS (iPhone/iPad)', 'Xbox 360']</td>\n",
              "      <td>['3D Fighting']</td>\n",
              "      <td>Rated T                           for Teen</td>\n",
              "      <td>1</td>\n",
              "    </tr>\n",
              "    <tr>\n",
              "      <th>2</th>\n",
              "      <td>2</td>\n",
              "      <td>Grand Theft Auto IV</td>\n",
              "      <td>Based on 86 Critic Reviews</td>\n",
              "      <td>98</td>\n",
              "      <td>Based on 4,462 User Ratings</td>\n",
              "      <td>8.3</td>\n",
              "      <td>Developer:           Rockstar North</td>\n",
              "      <td>Publisher: Rockstar Games</td>\n",
              "      <td>['PlayStation 3', 'Xbox 360', 'PC']</td>\n",
              "      <td>['Open-World Action']</td>\n",
              "      <td>Rated M                           for Mature</td>\n",
              "      <td>1</td>\n",
              "    </tr>\n",
              "    <tr>\n",
              "      <th>3</th>\n",
              "      <td>3</td>\n",
              "      <td>Super Mario Galaxy</td>\n",
              "      <td>Based on 73 Critic Reviews</td>\n",
              "      <td>97</td>\n",
              "      <td>Based on 4,027 User Ratings</td>\n",
              "      <td>9.1</td>\n",
              "      <td>Developer:           Nintendo</td>\n",
              "      <td>Publisher: Nintendo</td>\n",
              "      <td>['Wii']</td>\n",
              "      <td>['3D Platformer']</td>\n",
              "      <td>Rated E                           for Everyone</td>\n",
              "      <td>1</td>\n",
              "    </tr>\n",
              "    <tr>\n",
              "      <th>4</th>\n",
              "      <td>4</td>\n",
              "      <td>Super Mario Galaxy 2</td>\n",
              "      <td>Based on 87 Critic Reviews</td>\n",
              "      <td>97</td>\n",
              "      <td>Based on 2,857 User Ratings</td>\n",
              "      <td>9.0</td>\n",
              "      <td>Developer:           Nintendo EAD Tokyo</td>\n",
              "      <td>Publisher: Nintendo</td>\n",
              "      <td>['Wii']</td>\n",
              "      <td>['3D Platformer']</td>\n",
              "      <td>Rated E                           for Everyone</td>\n",
              "      <td>1</td>\n",
              "    </tr>\n",
              "    <tr>\n",
              "      <th>...</th>\n",
              "      <td>...</td>\n",
              "      <td>...</td>\n",
              "      <td>...</td>\n",
              "      <td>...</td>\n",
              "      <td>...</td>\n",
              "      <td>...</td>\n",
              "      <td>...</td>\n",
              "      <td>...</td>\n",
              "      <td>...</td>\n",
              "      <td>...</td>\n",
              "      <td>...</td>\n",
              "      <td>...</td>\n",
              "    </tr>\n",
              "    <tr>\n",
              "      <th>13384</th>\n",
              "      <td>13384</td>\n",
              "      <td>Ride to Hell: Retribution</td>\n",
              "      <td>Based on 14 Critic Reviews</td>\n",
              "      <td>19</td>\n",
              "      <td>Based on 468 User Ratings</td>\n",
              "      <td>1.4</td>\n",
              "      <td>Developer:           Eutechnyx</td>\n",
              "      <td>Publisher: Deep Silver</td>\n",
              "      <td>['PlayStation 3', 'PC', 'Xbox 360']</td>\n",
              "      <td>['Action Adventure']</td>\n",
              "      <td>Rated M                           for Mature</td>\n",
              "      <td>0</td>\n",
              "    </tr>\n",
              "    <tr>\n",
              "      <th>13385</th>\n",
              "      <td>13385</td>\n",
              "      <td>SPOGS Racing</td>\n",
              "      <td>Based on 7 Critic Reviews</td>\n",
              "      <td>18</td>\n",
              "      <td>Based on 10 User Ratings</td>\n",
              "      <td>6.1</td>\n",
              "      <td>Developer:           Pronto Games</td>\n",
              "      <td>Publisher: D2C Games</td>\n",
              "      <td>['Wii', 'PC']</td>\n",
              "      <td>['Auto Racing']</td>\n",
              "      <td>Rated E                           for Everyone</td>\n",
              "      <td>0</td>\n",
              "    </tr>\n",
              "    <tr>\n",
              "      <th>13386</th>\n",
              "      <td>13386</td>\n",
              "      <td>Double Dragon II: Wander of the Dragons</td>\n",
              "      <td>Based on 19 Critic Reviews</td>\n",
              "      <td>17</td>\n",
              "      <td>Based on 65 User Ratings</td>\n",
              "      <td>1.6</td>\n",
              "      <td>Developer:           Gravity</td>\n",
              "      <td>Publisher: CFK</td>\n",
              "      <td>['Xbox 360']</td>\n",
              "      <td>[\"2D Beat-'Em-Up\"]</td>\n",
              "      <td>Rated T                           for Teen</td>\n",
              "      <td>0</td>\n",
              "    </tr>\n",
              "    <tr>\n",
              "      <th>13387</th>\n",
              "      <td>13387</td>\n",
              "      <td>Vroom in the Night Sky</td>\n",
              "      <td>Based on 15 Critic Reviews</td>\n",
              "      <td>17</td>\n",
              "      <td>Based on 122 User Ratings</td>\n",
              "      <td>3.2</td>\n",
              "      <td>Developer:           Poisoft</td>\n",
              "      <td>Publisher: Poisoft</td>\n",
              "      <td>['Nintendo Switch']</td>\n",
              "      <td>['Biking']</td>\n",
              "      <td>Rated E                           for Everyone</td>\n",
              "      <td>0</td>\n",
              "    </tr>\n",
              "    <tr>\n",
              "      <th>13388</th>\n",
              "      <td>13388</td>\n",
              "      <td>Yaris</td>\n",
              "      <td>Based on 7 Critic Reviews</td>\n",
              "      <td>17</td>\n",
              "      <td>Based on 60 User Ratings</td>\n",
              "      <td>5.0</td>\n",
              "      <td>Developer:           Backbone Entertainment</td>\n",
              "      <td>Publisher: Backbone Entertainment</td>\n",
              "      <td>['Xbox 360']</td>\n",
              "      <td>['Auto Racing']</td>\n",
              "      <td>Rated E +10                           for Ever...</td>\n",
              "      <td>0</td>\n",
              "    </tr>\n",
              "  </tbody>\n",
              "</table>\n",
              "<p>9902 rows × 12 columns</p>\n",
              "</div>\n",
              "    <div class=\"colab-df-buttons\">\n",
              "\n",
              "  <div class=\"colab-df-container\">\n",
              "    <button class=\"colab-df-convert\" onclick=\"convertToInteractive('df-c11d7d24-b6d0-4004-ba0f-4686a92c6af1')\"\n",
              "            title=\"Convert this dataframe to an interactive table.\"\n",
              "            style=\"display:none;\">\n",
              "\n",
              "  <svg xmlns=\"http://www.w3.org/2000/svg\" height=\"24px\" viewBox=\"0 -960 960 960\">\n",
              "    <path d=\"M120-120v-720h720v720H120Zm60-500h600v-160H180v160Zm220 220h160v-160H400v160Zm0 220h160v-160H400v160ZM180-400h160v-160H180v160Zm440 0h160v-160H620v160ZM180-180h160v-160H180v160Zm440 0h160v-160H620v160Z\"/>\n",
              "  </svg>\n",
              "    </button>\n",
              "\n",
              "  <style>\n",
              "    .colab-df-container {\n",
              "      display:flex;\n",
              "      gap: 12px;\n",
              "    }\n",
              "\n",
              "    .colab-df-convert {\n",
              "      background-color: #E8F0FE;\n",
              "      border: none;\n",
              "      border-radius: 50%;\n",
              "      cursor: pointer;\n",
              "      display: none;\n",
              "      fill: #1967D2;\n",
              "      height: 32px;\n",
              "      padding: 0 0 0 0;\n",
              "      width: 32px;\n",
              "    }\n",
              "\n",
              "    .colab-df-convert:hover {\n",
              "      background-color: #E2EBFA;\n",
              "      box-shadow: 0px 1px 2px rgba(60, 64, 67, 0.3), 0px 1px 3px 1px rgba(60, 64, 67, 0.15);\n",
              "      fill: #174EA6;\n",
              "    }\n",
              "\n",
              "    .colab-df-buttons div {\n",
              "      margin-bottom: 4px;\n",
              "    }\n",
              "\n",
              "    [theme=dark] .colab-df-convert {\n",
              "      background-color: #3B4455;\n",
              "      fill: #D2E3FC;\n",
              "    }\n",
              "\n",
              "    [theme=dark] .colab-df-convert:hover {\n",
              "      background-color: #434B5C;\n",
              "      box-shadow: 0px 1px 3px 1px rgba(0, 0, 0, 0.15);\n",
              "      filter: drop-shadow(0px 1px 2px rgba(0, 0, 0, 0.3));\n",
              "      fill: #FFFFFF;\n",
              "    }\n",
              "  </style>\n",
              "\n",
              "    <script>\n",
              "      const buttonEl =\n",
              "        document.querySelector('#df-c11d7d24-b6d0-4004-ba0f-4686a92c6af1 button.colab-df-convert');\n",
              "      buttonEl.style.display =\n",
              "        google.colab.kernel.accessAllowed ? 'block' : 'none';\n",
              "\n",
              "      async function convertToInteractive(key) {\n",
              "        const element = document.querySelector('#df-c11d7d24-b6d0-4004-ba0f-4686a92c6af1');\n",
              "        const dataTable =\n",
              "          await google.colab.kernel.invokeFunction('convertToInteractive',\n",
              "                                                    [key], {});\n",
              "        if (!dataTable) return;\n",
              "\n",
              "        const docLinkHtml = 'Like what you see? Visit the ' +\n",
              "          '<a target=\"_blank\" href=https://colab.research.google.com/notebooks/data_table.ipynb>data table notebook</a>'\n",
              "          + ' to learn more about interactive tables.';\n",
              "        element.innerHTML = '';\n",
              "        dataTable['output_type'] = 'display_data';\n",
              "        await google.colab.output.renderOutput(dataTable, element);\n",
              "        const docLink = document.createElement('div');\n",
              "        docLink.innerHTML = docLinkHtml;\n",
              "        element.appendChild(docLink);\n",
              "      }\n",
              "    </script>\n",
              "  </div>\n",
              "\n",
              "\n",
              "    <div id=\"df-f87b2cde-fafd-40e0-8c8e-4b4fa9ad305a\">\n",
              "      <button class=\"colab-df-quickchart\" onclick=\"quickchart('df-f87b2cde-fafd-40e0-8c8e-4b4fa9ad305a')\"\n",
              "                title=\"Suggest charts\"\n",
              "                style=\"display:none;\">\n",
              "\n",
              "<svg xmlns=\"http://www.w3.org/2000/svg\" height=\"24px\"viewBox=\"0 0 24 24\"\n",
              "     width=\"24px\">\n",
              "    <g>\n",
              "        <path d=\"M19 3H5c-1.1 0-2 .9-2 2v14c0 1.1.9 2 2 2h14c1.1 0 2-.9 2-2V5c0-1.1-.9-2-2-2zM9 17H7v-7h2v7zm4 0h-2V7h2v10zm4 0h-2v-4h2v4z\"/>\n",
              "    </g>\n",
              "</svg>\n",
              "      </button>\n",
              "\n",
              "<style>\n",
              "  .colab-df-quickchart {\n",
              "      --bg-color: #E8F0FE;\n",
              "      --fill-color: #1967D2;\n",
              "      --hover-bg-color: #E2EBFA;\n",
              "      --hover-fill-color: #174EA6;\n",
              "      --disabled-fill-color: #AAA;\n",
              "      --disabled-bg-color: #DDD;\n",
              "  }\n",
              "\n",
              "  [theme=dark] .colab-df-quickchart {\n",
              "      --bg-color: #3B4455;\n",
              "      --fill-color: #D2E3FC;\n",
              "      --hover-bg-color: #434B5C;\n",
              "      --hover-fill-color: #FFFFFF;\n",
              "      --disabled-bg-color: #3B4455;\n",
              "      --disabled-fill-color: #666;\n",
              "  }\n",
              "\n",
              "  .colab-df-quickchart {\n",
              "    background-color: var(--bg-color);\n",
              "    border: none;\n",
              "    border-radius: 50%;\n",
              "    cursor: pointer;\n",
              "    display: none;\n",
              "    fill: var(--fill-color);\n",
              "    height: 32px;\n",
              "    padding: 0;\n",
              "    width: 32px;\n",
              "  }\n",
              "\n",
              "  .colab-df-quickchart:hover {\n",
              "    background-color: var(--hover-bg-color);\n",
              "    box-shadow: 0 1px 2px rgba(60, 64, 67, 0.3), 0 1px 3px 1px rgba(60, 64, 67, 0.15);\n",
              "    fill: var(--button-hover-fill-color);\n",
              "  }\n",
              "\n",
              "  .colab-df-quickchart-complete:disabled,\n",
              "  .colab-df-quickchart-complete:disabled:hover {\n",
              "    background-color: var(--disabled-bg-color);\n",
              "    fill: var(--disabled-fill-color);\n",
              "    box-shadow: none;\n",
              "  }\n",
              "\n",
              "  .colab-df-spinner {\n",
              "    border: 2px solid var(--fill-color);\n",
              "    border-color: transparent;\n",
              "    border-bottom-color: var(--fill-color);\n",
              "    animation:\n",
              "      spin 1s steps(1) infinite;\n",
              "  }\n",
              "\n",
              "  @keyframes spin {\n",
              "    0% {\n",
              "      border-color: transparent;\n",
              "      border-bottom-color: var(--fill-color);\n",
              "      border-left-color: var(--fill-color);\n",
              "    }\n",
              "    20% {\n",
              "      border-color: transparent;\n",
              "      border-left-color: var(--fill-color);\n",
              "      border-top-color: var(--fill-color);\n",
              "    }\n",
              "    30% {\n",
              "      border-color: transparent;\n",
              "      border-left-color: var(--fill-color);\n",
              "      border-top-color: var(--fill-color);\n",
              "      border-right-color: var(--fill-color);\n",
              "    }\n",
              "    40% {\n",
              "      border-color: transparent;\n",
              "      border-right-color: var(--fill-color);\n",
              "      border-top-color: var(--fill-color);\n",
              "    }\n",
              "    60% {\n",
              "      border-color: transparent;\n",
              "      border-right-color: var(--fill-color);\n",
              "    }\n",
              "    80% {\n",
              "      border-color: transparent;\n",
              "      border-right-color: var(--fill-color);\n",
              "      border-bottom-color: var(--fill-color);\n",
              "    }\n",
              "    90% {\n",
              "      border-color: transparent;\n",
              "      border-bottom-color: var(--fill-color);\n",
              "    }\n",
              "  }\n",
              "</style>\n",
              "\n",
              "      <script>\n",
              "        async function quickchart(key) {\n",
              "          const quickchartButtonEl =\n",
              "            document.querySelector('#' + key + ' button');\n",
              "          quickchartButtonEl.disabled = true;  // To prevent multiple clicks.\n",
              "          quickchartButtonEl.classList.add('colab-df-spinner');\n",
              "          try {\n",
              "            const charts = await google.colab.kernel.invokeFunction(\n",
              "                'suggestCharts', [key], {});\n",
              "          } catch (error) {\n",
              "            console.error('Error during call to suggestCharts:', error);\n",
              "          }\n",
              "          quickchartButtonEl.classList.remove('colab-df-spinner');\n",
              "          quickchartButtonEl.classList.add('colab-df-quickchart-complete');\n",
              "        }\n",
              "        (() => {\n",
              "          let quickchartButtonEl =\n",
              "            document.querySelector('#df-f87b2cde-fafd-40e0-8c8e-4b4fa9ad305a button');\n",
              "          quickchartButtonEl.style.display =\n",
              "            google.colab.kernel.accessAllowed ? 'block' : 'none';\n",
              "        })();\n",
              "      </script>\n",
              "    </div>\n",
              "\n",
              "  <div id=\"id_0c38ab54-13ed-48b7-8cd8-b13d7c806ce1\">\n",
              "    <style>\n",
              "      .colab-df-generate {\n",
              "        background-color: #E8F0FE;\n",
              "        border: none;\n",
              "        border-radius: 50%;\n",
              "        cursor: pointer;\n",
              "        display: none;\n",
              "        fill: #1967D2;\n",
              "        height: 32px;\n",
              "        padding: 0 0 0 0;\n",
              "        width: 32px;\n",
              "      }\n",
              "\n",
              "      .colab-df-generate:hover {\n",
              "        background-color: #E2EBFA;\n",
              "        box-shadow: 0px 1px 2px rgba(60, 64, 67, 0.3), 0px 1px 3px 1px rgba(60, 64, 67, 0.15);\n",
              "        fill: #174EA6;\n",
              "      }\n",
              "\n",
              "      [theme=dark] .colab-df-generate {\n",
              "        background-color: #3B4455;\n",
              "        fill: #D2E3FC;\n",
              "      }\n",
              "\n",
              "      [theme=dark] .colab-df-generate:hover {\n",
              "        background-color: #434B5C;\n",
              "        box-shadow: 0px 1px 3px 1px rgba(0, 0, 0, 0.15);\n",
              "        filter: drop-shadow(0px 1px 2px rgba(0, 0, 0, 0.3));\n",
              "        fill: #FFFFFF;\n",
              "      }\n",
              "    </style>\n",
              "    <button class=\"colab-df-generate\" onclick=\"generateWithVariable('df_clean')\"\n",
              "            title=\"Generate code using this dataframe.\"\n",
              "            style=\"display:none;\">\n",
              "\n",
              "  <svg xmlns=\"http://www.w3.org/2000/svg\" height=\"24px\"viewBox=\"0 0 24 24\"\n",
              "       width=\"24px\">\n",
              "    <path d=\"M7,19H8.4L18.45,9,17,7.55,7,17.6ZM5,21V16.75L18.45,3.32a2,2,0,0,1,2.83,0l1.4,1.43a1.91,1.91,0,0,1,.58,1.4,1.91,1.91,0,0,1-.58,1.4L9.25,21ZM18.45,9,17,7.55Zm-12,3A5.31,5.31,0,0,0,4.9,8.1,5.31,5.31,0,0,0,1,6.5,5.31,5.31,0,0,0,4.9,4.9,5.31,5.31,0,0,0,6.5,1,5.31,5.31,0,0,0,8.1,4.9,5.31,5.31,0,0,0,12,6.5,5.46,5.46,0,0,0,6.5,12Z\"/>\n",
              "  </svg>\n",
              "    </button>\n",
              "    <script>\n",
              "      (() => {\n",
              "      const buttonEl =\n",
              "        document.querySelector('#id_0c38ab54-13ed-48b7-8cd8-b13d7c806ce1 button.colab-df-generate');\n",
              "      buttonEl.style.display =\n",
              "        google.colab.kernel.accessAllowed ? 'block' : 'none';\n",
              "\n",
              "      buttonEl.onclick = () => {\n",
              "        google.colab.notebook.generateWithVariable('df_clean');\n",
              "      }\n",
              "      })();\n",
              "    </script>\n",
              "  </div>\n",
              "\n",
              "    </div>\n",
              "  </div>\n"
            ],
            "application/vnd.google.colaboratory.intrinsic+json": {
              "type": "dataframe",
              "variable_name": "df_clean",
              "summary": "{\n  \"name\": \"df_clean\",\n  \"rows\": 9902,\n  \"fields\": [\n    {\n      \"column\": \"Unnamed: 0\",\n      \"properties\": {\n        \"dtype\": \"number\",\n        \"std\": 3909,\n        \"min\": 0,\n        \"max\": 13388,\n        \"num_unique_values\": 9902,\n        \"samples\": [\n          3730,\n          10897,\n          1755\n        ],\n        \"semantic_type\": \"\",\n        \"description\": \"\"\n      }\n    },\n    {\n      \"column\": \"name\",\n      \"properties\": {\n        \"dtype\": \"string\",\n        \"num_unique_values\": 9902,\n        \"samples\": [\n          \"Shadow of Destiny\",\n          \"Ninja Assault\",\n          \"Lumines: Electronic Symphony\"\n        ],\n        \"semantic_type\": \"\",\n        \"description\": \"\"\n      }\n    },\n    {\n      \"column\": \"metacritic_review_count\",\n      \"properties\": {\n        \"dtype\": \"category\",\n        \"num_unique_values\": 135,\n        \"samples\": [\n          \"Based on 51 Critic Reviews\",\n          \"Based on 106 Critic Reviews\",\n          \"Based on 63 Critic Reviews\"\n        ],\n        \"semantic_type\": \"\",\n        \"description\": \"\"\n      }\n    },\n    {\n      \"column\": \"metacritic_review_score\",\n      \"properties\": {\n        \"dtype\": \"category\",\n        \"num_unique_values\": 83,\n        \"samples\": [\n          \"70\",\n          \"99\",\n          \"78\"\n        ],\n        \"semantic_type\": \"\",\n        \"description\": \"\"\n      }\n    },\n    {\n      \"column\": \"user_review_count\",\n      \"properties\": {\n        \"dtype\": \"category\",\n        \"num_unique_values\": 1240,\n        \"samples\": [\n          \"Based on 4,631 User Ratings\",\n          \"Based on 397 User Ratings\",\n          \"Based on 942 User Ratings\"\n        ],\n        \"semantic_type\": \"\",\n        \"description\": \"\"\n      }\n    },\n    {\n      \"column\": \"user_review_score\",\n      \"properties\": {\n        \"dtype\": \"category\",\n        \"num_unique_values\": 91,\n        \"samples\": [\n          \"5.5\",\n          \"7.4\",\n          \"5.3\"\n        ],\n        \"semantic_type\": \"\",\n        \"description\": \"\"\n      }\n    },\n    {\n      \"column\": \"developer\",\n      \"properties\": {\n        \"dtype\": \"category\",\n        \"num_unique_values\": 3053,\n        \"samples\": [\n          \"Developer:           TimeGate Studios\",\n          \"Developer:           Stainless Games\",\n          \"Developer:           Secret Location\"\n        ],\n        \"semantic_type\": \"\",\n        \"description\": \"\"\n      }\n    },\n    {\n      \"column\": \"publisher\",\n      \"properties\": {\n        \"dtype\": \"category\",\n        \"num_unique_values\": 1271,\n        \"samples\": [\n          \"Publisher: Spiral Game Studios\",\n          \"Publisher: RedBedlam\",\n          \"Publisher: Blizzard Classic Arcade\"\n        ],\n        \"semantic_type\": \"\",\n        \"description\": \"\"\n      }\n    },\n    {\n      \"column\": \"platforms\",\n      \"properties\": {\n        \"dtype\": \"category\",\n        \"num_unique_values\": 2384,\n        \"samples\": [\n          \"['PC', 'Wii U', 'Xbox One', 'PlayStation 4', 'PlayStation Vita', 'Nintendo Switch']\",\n          \"['PC', 'iOS (iPhone/iPad)', 'Nintendo Switch', 'PlayStation 5', 'Xbox Series X']\",\n          \"['PSP', 'Xbox 360', 'PlayStation 2', 'Xbox', 'Wii']\"\n        ],\n        \"semantic_type\": \"\",\n        \"description\": \"\"\n      }\n    },\n    {\n      \"column\": \"genres\",\n      \"properties\": {\n        \"dtype\": \"category\",\n        \"num_unique_values\": 118,\n        \"samples\": [\n          \"['Card Battle']\",\n          \"['Simulation']\",\n          \"['FPS']\"\n        ],\n        \"semantic_type\": \"\",\n        \"description\": \"\"\n      }\n    },\n    {\n      \"column\": \"esrb\",\n      \"properties\": {\n        \"dtype\": \"category\",\n        \"num_unique_values\": 6,\n        \"samples\": [\n          \"Rated E                           for Everyone\",\n          \"Rated T                           for Teen\",\n          \"Rated AO                           for Adults Only\"\n        ],\n        \"semantic_type\": \"\",\n        \"description\": \"\"\n      }\n    },\n    {\n      \"column\": \"must_play\",\n      \"properties\": {\n        \"dtype\": \"number\",\n        \"std\": 0,\n        \"min\": 0,\n        \"max\": 1,\n        \"num_unique_values\": 2,\n        \"samples\": [\n          0,\n          1\n        ],\n        \"semantic_type\": \"\",\n        \"description\": \"\"\n      }\n    }\n  ]\n}"
            }
          },
          "metadata": {},
          "execution_count": 8
        }
      ]
    },
    {
      "cell_type": "markdown",
      "source": [
        "baris yang memiliki nilai nan saya hapus untuk meningkatkan performa model\n",
        "\n",
        "\n",
        "---\n",
        "fungsi dropna mengambil baris mana yang memiliki nilai nan, kemudian menghapusnya\n"
      ],
      "metadata": {
        "id": "qtHqzqqdiJwi"
      }
    },
    {
      "cell_type": "code",
      "source": [
        "df_clean.isnull().sum()"
      ],
      "metadata": {
        "colab": {
          "base_uri": "https://localhost:8080/",
          "height": 460
        },
        "id": "Fy_XZDdfre2W",
        "outputId": "785c0e75-20da-445e-b8ea-d80ec697196e"
      },
      "execution_count": 9,
      "outputs": [
        {
          "output_type": "execute_result",
          "data": {
            "text/plain": [
              "Unnamed: 0                 0\n",
              "name                       0\n",
              "metacritic_review_count    0\n",
              "metacritic_review_score    0\n",
              "user_review_count          0\n",
              "user_review_score          0\n",
              "developer                  0\n",
              "publisher                  0\n",
              "platforms                  0\n",
              "genres                     0\n",
              "esrb                       0\n",
              "must_play                  0\n",
              "dtype: int64"
            ],
            "text/html": [
              "<div>\n",
              "<style scoped>\n",
              "    .dataframe tbody tr th:only-of-type {\n",
              "        vertical-align: middle;\n",
              "    }\n",
              "\n",
              "    .dataframe tbody tr th {\n",
              "        vertical-align: top;\n",
              "    }\n",
              "\n",
              "    .dataframe thead th {\n",
              "        text-align: right;\n",
              "    }\n",
              "</style>\n",
              "<table border=\"1\" class=\"dataframe\">\n",
              "  <thead>\n",
              "    <tr style=\"text-align: right;\">\n",
              "      <th></th>\n",
              "      <th>0</th>\n",
              "    </tr>\n",
              "  </thead>\n",
              "  <tbody>\n",
              "    <tr>\n",
              "      <th>Unnamed: 0</th>\n",
              "      <td>0</td>\n",
              "    </tr>\n",
              "    <tr>\n",
              "      <th>name</th>\n",
              "      <td>0</td>\n",
              "    </tr>\n",
              "    <tr>\n",
              "      <th>metacritic_review_count</th>\n",
              "      <td>0</td>\n",
              "    </tr>\n",
              "    <tr>\n",
              "      <th>metacritic_review_score</th>\n",
              "      <td>0</td>\n",
              "    </tr>\n",
              "    <tr>\n",
              "      <th>user_review_count</th>\n",
              "      <td>0</td>\n",
              "    </tr>\n",
              "    <tr>\n",
              "      <th>user_review_score</th>\n",
              "      <td>0</td>\n",
              "    </tr>\n",
              "    <tr>\n",
              "      <th>developer</th>\n",
              "      <td>0</td>\n",
              "    </tr>\n",
              "    <tr>\n",
              "      <th>publisher</th>\n",
              "      <td>0</td>\n",
              "    </tr>\n",
              "    <tr>\n",
              "      <th>platforms</th>\n",
              "      <td>0</td>\n",
              "    </tr>\n",
              "    <tr>\n",
              "      <th>genres</th>\n",
              "      <td>0</td>\n",
              "    </tr>\n",
              "    <tr>\n",
              "      <th>esrb</th>\n",
              "      <td>0</td>\n",
              "    </tr>\n",
              "    <tr>\n",
              "      <th>must_play</th>\n",
              "      <td>0</td>\n",
              "    </tr>\n",
              "  </tbody>\n",
              "</table>\n",
              "</div><br><label><b>dtype:</b> int64</label>"
            ]
          },
          "metadata": {},
          "execution_count": 9
        }
      ]
    },
    {
      "cell_type": "markdown",
      "source": [
        "Terlihat tidak adanya lagi missing value disetiap kolom"
      ],
      "metadata": {
        "id": "ualQ8LjLiZgF"
      }
    },
    {
      "cell_type": "markdown",
      "source": [
        "## Mengecek duplikasi"
      ],
      "metadata": {
        "id": "HUD9yKaEsBy1"
      }
    },
    {
      "cell_type": "code",
      "source": [
        "df_clean.duplicated().sum()"
      ],
      "metadata": {
        "colab": {
          "base_uri": "https://localhost:8080/"
        },
        "id": "uqvJEDnKr-MF",
        "outputId": "2d1c34b6-3d3a-4703-c5fe-a9ad911a5b00"
      },
      "execution_count": 10,
      "outputs": [
        {
          "output_type": "execute_result",
          "data": {
            "text/plain": [
              "np.int64(0)"
            ]
          },
          "metadata": {},
          "execution_count": 10
        }
      ]
    },
    {
      "cell_type": "markdown",
      "source": [
        "tidak terdapat baris dengan nilai yang sama\n",
        "\n",
        "---\n",
        "\n",
        "fungsi duplicated mengambil baris yang memiliki duplikasi, dan sum menghitung jumlah duplikasi yang ada"
      ],
      "metadata": {
        "id": "1Cj8Z7FEigQm"
      }
    },
    {
      "cell_type": "markdown",
      "source": [
        "## Menghapus kolom"
      ],
      "metadata": {
        "id": "GjTvOVFnskmU"
      }
    },
    {
      "cell_type": "code",
      "source": [
        "df_clean = df_clean.drop('Unnamed: 0', axis=1)"
      ],
      "metadata": {
        "id": "9vGgbV8LsnVd"
      },
      "execution_count": 11,
      "outputs": []
    },
    {
      "cell_type": "markdown",
      "source": [
        "saya menghapus kolom Unnamed:0 yang tidak sengaja terbuat ketika memanggil file csv\n",
        "\n",
        "---\n",
        "fungsi drop akan langsung menghapus nama kolom dalam argumen, dalam hal ini 'Unnamed: 0'\n"
      ],
      "metadata": {
        "id": "jmVQYqnhirwh"
      }
    },
    {
      "cell_type": "markdown",
      "source": [
        "## Mengecek Nama Unik"
      ],
      "metadata": {
        "id": "Ybkop5yMuCn7"
      }
    },
    {
      "cell_type": "code",
      "source": [
        "df_clean['genres'].unique()"
      ],
      "metadata": {
        "colab": {
          "base_uri": "https://localhost:8080/"
        },
        "id": "vAcDXf28uGZw",
        "outputId": "9d2420d1-7151-4a56-8fc7-4c91df4684f4"
      },
      "execution_count": 12,
      "outputs": [
        {
          "output_type": "execute_result",
          "data": {
            "text/plain": [
              "array([\"['Open-World Action']\", \"['3D Fighting']\", \"['3D Platformer']\",\n",
              "       \"['Skating']\", \"['FPS']\", \"['Football Sim']\",\n",
              "       \"['Linear Action Adventure']\", \"['Survival']\", \"['Western RPG']\",\n",
              "       \"['Compilation']\", \"['Visual Novel']\", \"['Action RPG']\",\n",
              "       \"['Auto Racing Sim']\", \"['Action Adventure']\", \"['2D Platformer']\",\n",
              "       \"['JRPG']\", \"['Third Person Shooter']\", \"['Auto Racing']\",\n",
              "       \"['4X Strategy']\", \"['2D Fighting']\", \"['Real-Time Strategy']\",\n",
              "       \"['Arcade']\", \"['Command RTS']\", \"['Skiing']\", \"['Sandbox']\",\n",
              "       \"['Soccer Sim']\", \"['Rhythm']\", '[\"2D Beat-\\'Em-Up\"]',\n",
              "       \"['Basketball Sim']\", \"['Roguelike']\", \"['MMORPG']\",\n",
              "       \"['Hockey Sim']\", \"['Virtual Life']\", \"['Turn-Based Tactics']\",\n",
              "       \"['Tactical FPS']\", \"['Tennis']\", \"['Metroidvania']\",\n",
              "       \"['Aircraft Sim']\", \"['Aircraft Combat Sim']\",\n",
              "       \"['Vehicle Combat Sim']\", \"['Baseball Sim']\",\n",
              "       \"['Point-and-Click']\", \"['Golf']\", \"['Action Puzzle']\",\n",
              "       \"['Basketball']\", \"['Dancing']\", \"['Space Combat Sim']\",\n",
              "       \"['Rail Shooter']\", \"['Wrestling']\", \"['Marine Combat Sim']\",\n",
              "       '[\"Top-Down Shoot-\\'Em-Up\"]', \"['First-Person Adventure']\",\n",
              "       \"['Turn-Based Strategy']\", \"['Future Racing']\", \"['Golf Sim']\",\n",
              "       \"['Soccer Management']\", \"['Card Battle']\", \"['RPG']\",\n",
              "       \"['Stacking Puzzle']\", \"['Exercise']\",\n",
              "       '[\"Horizontal Shoot-\\'Em-Up\"]', \"['Matching Puzzle']\", \"['Party']\",\n",
              "       \"['Application']\", \"['Tycoon']\", \"['Adventure']\",\n",
              "       \"['Arcade Racing']\", \"['Combat Sport']\", \"['Pinball']\",\n",
              "       \"['Trainer RPG']\", \"['Strategy']\", \"['Puzzle']\", \"['Defense']\",\n",
              "       \"['Tactical Third Person Shooter']\", \"['Third-Person Adventure']\",\n",
              "       '[\"Vertical Shoot-\\'Em-Up\"]', \"['Miscellaneous']\",\n",
              "       \"['Real-Time Tactics']\", \"['Management']\", \"['Logic Puzzle']\",\n",
              "       \"['MOBA']\", \"['Soccer']\", \"['Board']\", \"['Light Gun']\",\n",
              "       \"['Baseball']\", '[\"3D Beat-\\'Em-Up\"]', \"['Football']\",\n",
              "       \"['Biking']\", \"['Train Sim']\", \"['Simulation']\", \"['Virtual Pet']\",\n",
              "       \"['Future Sport']\", \"['Trivia']\", \"['Virtual Career']\",\n",
              "       \"['Edutainment']\", \"['Billiards']\", \"['Hidden Object']\",\n",
              "       \"['Space Sim']\", \"['Hockey']\", \"['Individual Sports']\",\n",
              "       \"['Vehicle Sim']\", \"['Action']\", \"['Athletics']\", \"['Artillery']\",\n",
              "       \"['Team Sports']\", \"['Racing Sim']\", \"['Gambling']\", \"['Surfing']\",\n",
              "       \"['Fishing']\", \"['Volleyball']\", \"['Sports']\", \"['Rugby']\",\n",
              "       \"['Cricket']\", \"['Racing']\", \"['Horse Racing']\", \"['Bowling']\",\n",
              "       \"['Hunting']\", \"['Marine Sim']\"], dtype=object)"
            ]
          },
          "metadata": {},
          "execution_count": 12
        }
      ]
    },
    {
      "cell_type": "markdown",
      "source": [
        "Menjabarkan nilai unique dari genres, sebagai pertimbangan masukan untuk fungsi rekomendasi nanti"
      ],
      "metadata": {
        "id": "CL5UjfOli4z0"
      }
    },
    {
      "cell_type": "code",
      "source": [
        "df_clean['publisher'].unique()"
      ],
      "metadata": {
        "colab": {
          "base_uri": "https://localhost:8080/"
        },
        "id": "24jTS2zdudlL",
        "outputId": "a6cdf9ce-ee9d-40b5-f2bd-fd566d333ea8"
      },
      "execution_count": 13,
      "outputs": [
        {
          "output_type": "execute_result",
          "data": {
            "text/plain": [
              "array(['Publisher: Nintendo', 'Publisher: Namco',\n",
              "       'Publisher: Rockstar Games', ..., 'Publisher: CFK',\n",
              "       'Publisher: Poisoft', 'Publisher: Backbone Entertainment'],\n",
              "      dtype=object)"
            ]
          },
          "metadata": {},
          "execution_count": 13
        }
      ]
    },
    {
      "cell_type": "markdown",
      "source": [
        "Mengecek nilai unique dari publisher, untuk pertimbangan masukan fungsi rekomendasi nanti\n",
        "\n",
        "---\n",
        "fungsi unique mengambil nilai unik dari setiap kolom yang disebutkan\n"
      ],
      "metadata": {
        "id": "dPQ2efCijEgG"
      }
    },
    {
      "cell_type": "markdown",
      "source": [
        "## Mengurutkan berdasarkan Genre Games"
      ],
      "metadata": {
        "id": "dxUCeYAgu9Ci"
      }
    },
    {
      "cell_type": "code",
      "source": [
        "df_clean.sort_values(by='genres', inplace=True)"
      ],
      "metadata": {
        "id": "UdNkg5MXvCZy"
      },
      "execution_count": 14,
      "outputs": []
    },
    {
      "cell_type": "markdown",
      "source": [
        "Mengurutkan berdasarkan genre, untuk mempermudah menemukan game dengan genre yang sama\n",
        "\n",
        "---\n",
        "fungsi sort.values akan mengurutkan values berdasarkan kolom yang dipilih, dalam hal ini genres\n"
      ],
      "metadata": {
        "id": "9WNzL8rqjOtR"
      }
    },
    {
      "cell_type": "markdown",
      "source": [
        "## Menormalisasi Data"
      ],
      "metadata": {
        "id": "j-XooDUftmP5"
      }
    },
    {
      "cell_type": "code",
      "source": [
        "# Menormalisasi kolom metacritic_review_count\n",
        "df_clean['metacritic_review_count'] = df_clean['metacritic_review_count'].str.replace('Based on', '')\n",
        "df_clean['metacritic_review_count'] = df_clean['metacritic_review_count'].str.replace('Critic Reviews', '')\n",
        "\n",
        "# Menormalisasi kolom user_review_count\n",
        "df_clean['user_review_count'] = df_clean['user_review_count'].str.replace('Based on', '')\n",
        "df_clean['user_review_count'] = df_clean['user_review_count'].str.replace('User Ratings', '')\n",
        "\n",
        "#Menormalisasi kolom Developer\n",
        "df_clean['developer'] = df_clean['developer'].str.replace('Developer: ', '')\n",
        "\n",
        "# Menormalisasi kolom publiser\n",
        "df_clean['publisher'] = df_clean['publisher'].str.replace('Publisher: ', '')\n",
        "\n",
        "# Menormalisasi Kolom esrb\n",
        "df_clean['esrb'] = df_clean['esrb'].str.replace('Rated', '')"
      ],
      "metadata": {
        "id": "2H6D2D3DuAJv"
      },
      "execution_count": 15,
      "outputs": []
    },
    {
      "cell_type": "markdown",
      "source": [
        "Membersihkan kolom dari string, berfungsi agar kolom hanya memiliki nilai numeric, untuk mempersiapkan analysis. Jikalau kolom tersebut akan dipakai nantinya\n",
        "\n",
        "---\n",
        "fungsi str.replace menganti value strin menjadi value yang lain. dalam hal ini menganti kata dengan nilai kosong\n"
      ],
      "metadata": {
        "id": "uf8_0dlrkCJy"
      }
    },
    {
      "cell_type": "markdown",
      "source": [
        "## Merubah Type Data"
      ],
      "metadata": {
        "id": "pmExr4_JyJgX"
      }
    },
    {
      "cell_type": "code",
      "source": [
        "# Merubah type data metacritic_review_count\n",
        "df_clean['metacritic_review_count']=df_clean['metacritic_review_count'].astype(int)\n",
        "\n",
        "# merubah type data metacritic_review_score\n",
        "df_clean['metacritic_review_score']=df_clean['metacritic_review_score'].astype(int)\n",
        "\n",
        "# merubah type data user_review_count\n",
        "df_clean['user_review_count'] = df_clean['user_review_count'].str.replace(',', '').astype(float)\n",
        "\n",
        "# merubah type data user_review_score\n",
        "df_clean['user_review_score']=df_clean['user_review_score'].astype(float)"
      ],
      "metadata": {
        "id": "ZIf1OKllvPoF"
      },
      "execution_count": 16,
      "outputs": []
    },
    {
      "cell_type": "markdown",
      "source": [
        "Mengubah type data kolom menjadi int dan float, agar lebih sesuai dengan isi kolom sekarang\n",
        "\n",
        "---\n",
        "fungsi astype menganti type kolom menjadi type yang kita inginkan\n"
      ],
      "metadata": {
        "id": "z5y8DtPNkXow"
      }
    },
    {
      "cell_type": "code",
      "source": [
        "df_clean.info()"
      ],
      "metadata": {
        "colab": {
          "base_uri": "https://localhost:8080/"
        },
        "id": "nB4x4YmOzZod",
        "outputId": "d850939d-3dc9-4a0e-a2f8-84b9ab3a1c18"
      },
      "execution_count": 17,
      "outputs": [
        {
          "output_type": "stream",
          "name": "stdout",
          "text": [
            "<class 'pandas.core.frame.DataFrame'>\n",
            "Index: 9902 entries, 7265 to 8704\n",
            "Data columns (total 11 columns):\n",
            " #   Column                   Non-Null Count  Dtype  \n",
            "---  ------                   --------------  -----  \n",
            " 0   name                     9902 non-null   object \n",
            " 1   metacritic_review_count  9902 non-null   int64  \n",
            " 2   metacritic_review_score  9902 non-null   int64  \n",
            " 3   user_review_count        9902 non-null   float64\n",
            " 4   user_review_score        9902 non-null   float64\n",
            " 5   developer                9902 non-null   object \n",
            " 6   publisher                9902 non-null   object \n",
            " 7   platforms                9902 non-null   object \n",
            " 8   genres                   9902 non-null   object \n",
            " 9   esrb                     9902 non-null   object \n",
            " 10  must_play                9902 non-null   int64  \n",
            "dtypes: float64(2), int64(3), object(6)\n",
            "memory usage: 928.3+ KB\n"
          ]
        }
      ]
    },
    {
      "cell_type": "markdown",
      "source": [
        "Menampilkan informasi dataset yang sudah dibersihkan, terlihat kalau dataset hanya memiliki 9902 baris yang tersisa.\n",
        "metacritic_review_count dan metacritic_review_score sudah berubah menjadi int.\n",
        "user_review_count dan user_review_score sudah berubah menjadi float"
      ],
      "metadata": {
        "id": "5ec6zS5aklug"
      }
    },
    {
      "cell_type": "markdown",
      "source": [
        "## Membuat kolom Combinasi\n"
      ],
      "metadata": {
        "id": "ZYlvuiT82tu8"
      }
    },
    {
      "cell_type": "code",
      "source": [
        "df_clean['combined_features']= df_clean['name'].fillna('') + '' + df_clean['developer'].fillna('') + '' + df_clean['publisher'].fillna('') + '' + df_clean['genres'].fillna('') + '' + df_clean['esrb'].fillna('')"
      ],
      "metadata": {
        "id": "pV5nAek6NBxB"
      },
      "execution_count": 18,
      "outputs": []
    },
    {
      "cell_type": "markdown",
      "source": [
        "kolom kombinasi berguna untuk menghitung nilai cosine_similarity nantinya.\n",
        "\n",
        "---\n",
        "kolom combined_features akan berisi value kombinasi dari kolom yang dipilih, setiap value akan dipisahkan dengan '' melalui fungsi fillna\n"
      ],
      "metadata": {
        "id": "hSZWKHowlN8d"
      }
    },
    {
      "cell_type": "markdown",
      "source": [
        "## menormalisasi kolom kombinasi"
      ],
      "metadata": {
        "id": "1lGPEkGoNVm7"
      }
    },
    {
      "cell_type": "code",
      "source": [
        "def clean_text(text):\n",
        "    text = text.lower()\n",
        "    text = re.sub(r'[^\\w\\s]', '', text)  # hapus tanda baca\n",
        "    text = re.sub(r'\\d+', '', text)      # hapus angka\n",
        "    return text\n",
        "\n",
        "df_clean['combined_features']=df_clean['combined_features'].apply(clean_text)"
      ],
      "metadata": {
        "id": "Z8lZ6UPoNFut"
      },
      "execution_count": 19,
      "outputs": []
    },
    {
      "cell_type": "markdown",
      "source": [
        "Melakukan normalisasi terhadap kolom combined_features, dengan mengubah menjadi lower case, membersihkan tanda baca, dan angka untuk mempersiapkan untuk digunakan dalam tf idf nantinya.\n",
        "\n",
        "---\n",
        "\n",
        "fungsi text.lower mengubah setiap text menjadi lower case.\n",
        "fungsi re.sub menghapus tanda baca dan angka untuk setiap text"
      ],
      "metadata": {
        "id": "4N_1Tm4olZ4w"
      }
    },
    {
      "cell_type": "markdown",
      "source": [
        "# Model Development dengan Content Based Filtering"
      ],
      "metadata": {
        "id": "8PrZb2GiKciv"
      }
    },
    {
      "cell_type": "markdown",
      "source": [
        "## TF-IDF Vectorizer"
      ],
      "metadata": {
        "id": "f5ynZ4bOPFG2"
      }
    },
    {
      "cell_type": "code",
      "source": [
        "tfidf = TfidfVectorizer(stop_words='english')\n",
        "tfidf_matrix = tfidf.fit_transform(df_clean['combined_features'])"
      ],
      "metadata": {
        "id": "DNZX3ALRPE11"
      },
      "execution_count": 20,
      "outputs": []
    },
    {
      "cell_type": "markdown",
      "source": [
        "Mempersiapkan agar kolom bisa digunakan dalam sistem rekomendasi menggunakan tf-idf\n",
        "\n",
        "\n",
        "---\n",
        "\n",
        "**TfidfVectorizer(stop_words='english'**) memanggil object tf-idf dari library sklearn. **TF-IDF** berguna untuk mengetahui seberapa penting suatu kata dalam setiap dokumen, **stop_words=english** membuat model mengabaikan stop words umum dalam bahasa inggriss\n",
        "fungsi **fit** belajar mengenail vocabulary dari kolom combined_features, untuk mengetahui nilai unique dan distribusi didalam kolom\n",
        "fungsi **transform**, untuk mengconvert data kedalam tf-idf matriks."
      ],
      "metadata": {
        "id": "8hCu2juDmBzr"
      }
    },
    {
      "cell_type": "markdown",
      "source": [
        "## Menghitung cosine similarity"
      ],
      "metadata": {
        "id": "diZYQYW_P-Pp"
      }
    },
    {
      "cell_type": "code",
      "metadata": {
        "colab": {
          "base_uri": "https://localhost:8080/"
        },
        "id": "5759da7e",
        "outputId": "30d0f4ca-4253-4538-feba-fdab3505d085"
      },
      "source": [
        "cosine_sim = cosine_similarity(tfidf_matrix, tfidf_matrix)\n",
        "print('Ukuran matriks cosine similarity:', cosine_sim.shape)"
      ],
      "execution_count": 21,
      "outputs": [
        {
          "output_type": "stream",
          "name": "stdout",
          "text": [
            "Ukuran matriks cosine similarity: (9902, 9902)\n"
          ]
        }
      ]
    },
    {
      "cell_type": "markdown",
      "source": [
        "cosine_sim, berfungsi untuk menghitung similarity antara 2 arrays, dalam hal ini, saya menghitung cosine similarity dalam setiap permainan.\n",
        "fungsi **shape** mencetak ukuran dari matriks dalam hal ini kesamaan antara setiap game dengan game yang lain, karena tfidf_matrix dipanggil 2 kali.\n",
        "nilai 9902 mewakili baris dan kolom, juga dapat berarti jumlah game dalam dataset yang sudah dibersihkan"
      ],
      "metadata": {
        "id": "bptH_GfloLgI"
      }
    },
    {
      "cell_type": "markdown",
      "source": [
        "## Membuat fungsi rekomendasi berdasarkan genre"
      ],
      "metadata": {
        "id": "gtyVTp_XQG08"
      }
    },
    {
      "cell_type": "code",
      "source": [
        "def recommend_games_by_genre(genre, top_n=5):\n",
        "    # Filter the dataframe by the specified genre\n",
        "    genre_games = df_clean[df_clean['genres'].str.lower().str.contains(genre.lower(), na=False)]\n",
        "\n",
        "    if genre_games.empty:\n",
        "        print(f\"No games found for genre: {genre}\")\n",
        "        return pd.DataFrame(columns=['genres', 'name'])\n",
        "\n",
        "    # Sort the games by metacritic_review_score in descending order\n",
        "    recommended_games = genre_games.sort_values(by='metacritic_review_score', ascending=False).head(top_n)\n",
        "\n",
        "    return recommended_games[['genres', 'name']]"
      ],
      "metadata": {
        "id": "tfWqEMRMQN3E"
      },
      "execution_count": 22,
      "outputs": []
    },
    {
      "cell_type": "markdown",
      "source": [
        "fungsi rekomendasi menggunakan 2 parameter, variabel yang akan digunakan untuk menampung inputan, dan top_n=5 akan menampilkan 5 data teratas dari inputan.\n",
        "fungsi **str.lower** mengubah value dari kolom genres menjadi huruf kecil.\n",
        "fungsi **str.lower** mengecek apakah string yang dimasukkan tersedia di kolom genres. yang juga sudah diubah ke huruf kecil.\n",
        "fungsi na=False akan mengangap valued nan sebagai tidak ada\n",
        "**if genre_games.empty** mengecek apakah data yang dimasukkan tidak ada didalam kolom\n",
        "**recommended_games** mengurutkan variabel genre_games berdasrkan kolom metacritic_review_score secara Menurun\n",
        "**fungsi return** akan mengembalikan nilai value, dalam hal ini genres dan name"
      ],
      "metadata": {
        "id": "EPysneSePtoq"
      }
    },
    {
      "cell_type": "code",
      "metadata": {
        "colab": {
          "base_uri": "https://localhost:8080/",
          "height": 206
        },
        "id": "0f9c85ad",
        "outputId": "ea3433b5-ddd2-4626-fa91-da0866ce7f3b"
      },
      "source": [
        "recommend_games_by_genre(\"JRPG\", top_n=5)"
      ],
      "execution_count": 23,
      "outputs": [
        {
          "output_type": "execute_result",
          "data": {
            "text/plain": [
              "       genres                  name\n",
              "46   ['JRPG']       Persona 5 Royal\n",
              "60   ['JRPG']          Chrono Cross\n",
              "50   ['JRPG']      Final Fantasy IX\n",
              "63   ['JRPG']  Metaphor: ReFantazio\n",
              "104  ['JRPG']             Persona 5"
            ],
            "text/html": [
              "\n",
              "  <div id=\"df-ab9a8bcf-4263-4cde-9be5-2ea18a42d5f4\" class=\"colab-df-container\">\n",
              "    <div>\n",
              "<style scoped>\n",
              "    .dataframe tbody tr th:only-of-type {\n",
              "        vertical-align: middle;\n",
              "    }\n",
              "\n",
              "    .dataframe tbody tr th {\n",
              "        vertical-align: top;\n",
              "    }\n",
              "\n",
              "    .dataframe thead th {\n",
              "        text-align: right;\n",
              "    }\n",
              "</style>\n",
              "<table border=\"1\" class=\"dataframe\">\n",
              "  <thead>\n",
              "    <tr style=\"text-align: right;\">\n",
              "      <th></th>\n",
              "      <th>genres</th>\n",
              "      <th>name</th>\n",
              "    </tr>\n",
              "  </thead>\n",
              "  <tbody>\n",
              "    <tr>\n",
              "      <th>46</th>\n",
              "      <td>['JRPG']</td>\n",
              "      <td>Persona 5 Royal</td>\n",
              "    </tr>\n",
              "    <tr>\n",
              "      <th>60</th>\n",
              "      <td>['JRPG']</td>\n",
              "      <td>Chrono Cross</td>\n",
              "    </tr>\n",
              "    <tr>\n",
              "      <th>50</th>\n",
              "      <td>['JRPG']</td>\n",
              "      <td>Final Fantasy IX</td>\n",
              "    </tr>\n",
              "    <tr>\n",
              "      <th>63</th>\n",
              "      <td>['JRPG']</td>\n",
              "      <td>Metaphor: ReFantazio</td>\n",
              "    </tr>\n",
              "    <tr>\n",
              "      <th>104</th>\n",
              "      <td>['JRPG']</td>\n",
              "      <td>Persona 5</td>\n",
              "    </tr>\n",
              "  </tbody>\n",
              "</table>\n",
              "</div>\n",
              "    <div class=\"colab-df-buttons\">\n",
              "\n",
              "  <div class=\"colab-df-container\">\n",
              "    <button class=\"colab-df-convert\" onclick=\"convertToInteractive('df-ab9a8bcf-4263-4cde-9be5-2ea18a42d5f4')\"\n",
              "            title=\"Convert this dataframe to an interactive table.\"\n",
              "            style=\"display:none;\">\n",
              "\n",
              "  <svg xmlns=\"http://www.w3.org/2000/svg\" height=\"24px\" viewBox=\"0 -960 960 960\">\n",
              "    <path d=\"M120-120v-720h720v720H120Zm60-500h600v-160H180v160Zm220 220h160v-160H400v160Zm0 220h160v-160H400v160ZM180-400h160v-160H180v160Zm440 0h160v-160H620v160ZM180-180h160v-160H180v160Zm440 0h160v-160H620v160Z\"/>\n",
              "  </svg>\n",
              "    </button>\n",
              "\n",
              "  <style>\n",
              "    .colab-df-container {\n",
              "      display:flex;\n",
              "      gap: 12px;\n",
              "    }\n",
              "\n",
              "    .colab-df-convert {\n",
              "      background-color: #E8F0FE;\n",
              "      border: none;\n",
              "      border-radius: 50%;\n",
              "      cursor: pointer;\n",
              "      display: none;\n",
              "      fill: #1967D2;\n",
              "      height: 32px;\n",
              "      padding: 0 0 0 0;\n",
              "      width: 32px;\n",
              "    }\n",
              "\n",
              "    .colab-df-convert:hover {\n",
              "      background-color: #E2EBFA;\n",
              "      box-shadow: 0px 1px 2px rgba(60, 64, 67, 0.3), 0px 1px 3px 1px rgba(60, 64, 67, 0.15);\n",
              "      fill: #174EA6;\n",
              "    }\n",
              "\n",
              "    .colab-df-buttons div {\n",
              "      margin-bottom: 4px;\n",
              "    }\n",
              "\n",
              "    [theme=dark] .colab-df-convert {\n",
              "      background-color: #3B4455;\n",
              "      fill: #D2E3FC;\n",
              "    }\n",
              "\n",
              "    [theme=dark] .colab-df-convert:hover {\n",
              "      background-color: #434B5C;\n",
              "      box-shadow: 0px 1px 3px 1px rgba(0, 0, 0, 0.15);\n",
              "      filter: drop-shadow(0px 1px 2px rgba(0, 0, 0, 0.3));\n",
              "      fill: #FFFFFF;\n",
              "    }\n",
              "  </style>\n",
              "\n",
              "    <script>\n",
              "      const buttonEl =\n",
              "        document.querySelector('#df-ab9a8bcf-4263-4cde-9be5-2ea18a42d5f4 button.colab-df-convert');\n",
              "      buttonEl.style.display =\n",
              "        google.colab.kernel.accessAllowed ? 'block' : 'none';\n",
              "\n",
              "      async function convertToInteractive(key) {\n",
              "        const element = document.querySelector('#df-ab9a8bcf-4263-4cde-9be5-2ea18a42d5f4');\n",
              "        const dataTable =\n",
              "          await google.colab.kernel.invokeFunction('convertToInteractive',\n",
              "                                                    [key], {});\n",
              "        if (!dataTable) return;\n",
              "\n",
              "        const docLinkHtml = 'Like what you see? Visit the ' +\n",
              "          '<a target=\"_blank\" href=https://colab.research.google.com/notebooks/data_table.ipynb>data table notebook</a>'\n",
              "          + ' to learn more about interactive tables.';\n",
              "        element.innerHTML = '';\n",
              "        dataTable['output_type'] = 'display_data';\n",
              "        await google.colab.output.renderOutput(dataTable, element);\n",
              "        const docLink = document.createElement('div');\n",
              "        docLink.innerHTML = docLinkHtml;\n",
              "        element.appendChild(docLink);\n",
              "      }\n",
              "    </script>\n",
              "  </div>\n",
              "\n",
              "\n",
              "    <div id=\"df-24acb919-53da-4567-8143-df9b3737384e\">\n",
              "      <button class=\"colab-df-quickchart\" onclick=\"quickchart('df-24acb919-53da-4567-8143-df9b3737384e')\"\n",
              "                title=\"Suggest charts\"\n",
              "                style=\"display:none;\">\n",
              "\n",
              "<svg xmlns=\"http://www.w3.org/2000/svg\" height=\"24px\"viewBox=\"0 0 24 24\"\n",
              "     width=\"24px\">\n",
              "    <g>\n",
              "        <path d=\"M19 3H5c-1.1 0-2 .9-2 2v14c0 1.1.9 2 2 2h14c1.1 0 2-.9 2-2V5c0-1.1-.9-2-2-2zM9 17H7v-7h2v7zm4 0h-2V7h2v10zm4 0h-2v-4h2v4z\"/>\n",
              "    </g>\n",
              "</svg>\n",
              "      </button>\n",
              "\n",
              "<style>\n",
              "  .colab-df-quickchart {\n",
              "      --bg-color: #E8F0FE;\n",
              "      --fill-color: #1967D2;\n",
              "      --hover-bg-color: #E2EBFA;\n",
              "      --hover-fill-color: #174EA6;\n",
              "      --disabled-fill-color: #AAA;\n",
              "      --disabled-bg-color: #DDD;\n",
              "  }\n",
              "\n",
              "  [theme=dark] .colab-df-quickchart {\n",
              "      --bg-color: #3B4455;\n",
              "      --fill-color: #D2E3FC;\n",
              "      --hover-bg-color: #434B5C;\n",
              "      --hover-fill-color: #FFFFFF;\n",
              "      --disabled-bg-color: #3B4455;\n",
              "      --disabled-fill-color: #666;\n",
              "  }\n",
              "\n",
              "  .colab-df-quickchart {\n",
              "    background-color: var(--bg-color);\n",
              "    border: none;\n",
              "    border-radius: 50%;\n",
              "    cursor: pointer;\n",
              "    display: none;\n",
              "    fill: var(--fill-color);\n",
              "    height: 32px;\n",
              "    padding: 0;\n",
              "    width: 32px;\n",
              "  }\n",
              "\n",
              "  .colab-df-quickchart:hover {\n",
              "    background-color: var(--hover-bg-color);\n",
              "    box-shadow: 0 1px 2px rgba(60, 64, 67, 0.3), 0 1px 3px 1px rgba(60, 64, 67, 0.15);\n",
              "    fill: var(--button-hover-fill-color);\n",
              "  }\n",
              "\n",
              "  .colab-df-quickchart-complete:disabled,\n",
              "  .colab-df-quickchart-complete:disabled:hover {\n",
              "    background-color: var(--disabled-bg-color);\n",
              "    fill: var(--disabled-fill-color);\n",
              "    box-shadow: none;\n",
              "  }\n",
              "\n",
              "  .colab-df-spinner {\n",
              "    border: 2px solid var(--fill-color);\n",
              "    border-color: transparent;\n",
              "    border-bottom-color: var(--fill-color);\n",
              "    animation:\n",
              "      spin 1s steps(1) infinite;\n",
              "  }\n",
              "\n",
              "  @keyframes spin {\n",
              "    0% {\n",
              "      border-color: transparent;\n",
              "      border-bottom-color: var(--fill-color);\n",
              "      border-left-color: var(--fill-color);\n",
              "    }\n",
              "    20% {\n",
              "      border-color: transparent;\n",
              "      border-left-color: var(--fill-color);\n",
              "      border-top-color: var(--fill-color);\n",
              "    }\n",
              "    30% {\n",
              "      border-color: transparent;\n",
              "      border-left-color: var(--fill-color);\n",
              "      border-top-color: var(--fill-color);\n",
              "      border-right-color: var(--fill-color);\n",
              "    }\n",
              "    40% {\n",
              "      border-color: transparent;\n",
              "      border-right-color: var(--fill-color);\n",
              "      border-top-color: var(--fill-color);\n",
              "    }\n",
              "    60% {\n",
              "      border-color: transparent;\n",
              "      border-right-color: var(--fill-color);\n",
              "    }\n",
              "    80% {\n",
              "      border-color: transparent;\n",
              "      border-right-color: var(--fill-color);\n",
              "      border-bottom-color: var(--fill-color);\n",
              "    }\n",
              "    90% {\n",
              "      border-color: transparent;\n",
              "      border-bottom-color: var(--fill-color);\n",
              "    }\n",
              "  }\n",
              "</style>\n",
              "\n",
              "      <script>\n",
              "        async function quickchart(key) {\n",
              "          const quickchartButtonEl =\n",
              "            document.querySelector('#' + key + ' button');\n",
              "          quickchartButtonEl.disabled = true;  // To prevent multiple clicks.\n",
              "          quickchartButtonEl.classList.add('colab-df-spinner');\n",
              "          try {\n",
              "            const charts = await google.colab.kernel.invokeFunction(\n",
              "                'suggestCharts', [key], {});\n",
              "          } catch (error) {\n",
              "            console.error('Error during call to suggestCharts:', error);\n",
              "          }\n",
              "          quickchartButtonEl.classList.remove('colab-df-spinner');\n",
              "          quickchartButtonEl.classList.add('colab-df-quickchart-complete');\n",
              "        }\n",
              "        (() => {\n",
              "          let quickchartButtonEl =\n",
              "            document.querySelector('#df-24acb919-53da-4567-8143-df9b3737384e button');\n",
              "          quickchartButtonEl.style.display =\n",
              "            google.colab.kernel.accessAllowed ? 'block' : 'none';\n",
              "        })();\n",
              "      </script>\n",
              "    </div>\n",
              "\n",
              "    </div>\n",
              "  </div>\n"
            ],
            "application/vnd.google.colaboratory.intrinsic+json": {
              "type": "dataframe",
              "summary": "{\n  \"name\": \"recommend_games_by_genre(\\\"JRPG\\\", top_n=5)\",\n  \"rows\": 5,\n  \"fields\": [\n    {\n      \"column\": \"genres\",\n      \"properties\": {\n        \"dtype\": \"category\",\n        \"num_unique_values\": 1,\n        \"samples\": [\n          \"['JRPG']\"\n        ],\n        \"semantic_type\": \"\",\n        \"description\": \"\"\n      }\n    },\n    {\n      \"column\": \"name\",\n      \"properties\": {\n        \"dtype\": \"string\",\n        \"num_unique_values\": 5,\n        \"samples\": [\n          \"Chrono Cross\"\n        ],\n        \"semantic_type\": \"\",\n        \"description\": \"\"\n      }\n    }\n  ]\n}"
            }
          },
          "metadata": {},
          "execution_count": 23
        }
      ]
    },
    {
      "cell_type": "markdown",
      "source": [
        "fungsi recommend_games_by_genre akan mengirimkan 2 parameter, yakni input string, dan berapa jumlah baris yang ditampilkan"
      ],
      "metadata": {
        "id": "35m73ClISJ6u"
      }
    },
    {
      "cell_type": "markdown",
      "source": [
        "## Membuat fungsi rekomendasi berdasarkan publisher"
      ],
      "metadata": {
        "id": "vfVY7QlDU3zH"
      }
    },
    {
      "cell_type": "code",
      "source": [
        "def recommend_games_by_publisher(publisher, top_n=5):\n",
        "    # Filter the dataframe by the specified publisher\n",
        "    publisher_games = df_clean[df_clean['publisher'].str.lower().str.contains(publisher.lower(), na=False)]\n",
        "\n",
        "    if publisher_games.empty:\n",
        "        print(f\"No games found for publisher: {publisher}\")\n",
        "        return pd.DataFrame(columns=['publisher', 'name'])\n",
        "\n",
        "    # Sort the games by metacritic_review_score in descending order\n",
        "    recommended_games = publisher_games.sort_values(by='metacritic_review_score', ascending=False).head(top_n)\n",
        "\n",
        "    return recommended_games[['publisher', 'name']]"
      ],
      "metadata": {
        "id": "UXedrKrHU-Eo"
      },
      "execution_count": 24,
      "outputs": []
    },
    {
      "cell_type": "markdown",
      "source": [
        "fungsi **str.lower** mengubah value dari kolom publisher menjadi huruf kecil.\n",
        "fungsi **str.lower** mengecek apakah string yang dimasukkan tersedia di kolom publisher. yang juga sudah diubah ke huruf kecil.\n",
        "fungsi na=False akan mengangap valued NAN sebagai tidak ada\n",
        "**if publisher_games.empty** mengecek apakah data yang dimasukkan tidak ada didalam kolom publisher\n",
        "**recommended_games** mengurutkan variabel publisher_games berdasarkan kolom metacritic_review_score secara Menurun\n",
        "**fungsi return** akan mengembalikan nilai value, dalam hal ini publisher dan name"
      ],
      "metadata": {
        "id": "aHHbmvjvSiXL"
      }
    },
    {
      "cell_type": "code",
      "source": [
        "recommend_games_by_publisher(\"Adult Swim\", top_n=5)"
      ],
      "metadata": {
        "colab": {
          "base_uri": "https://localhost:8080/",
          "height": 206
        },
        "id": "DPbYkXiWVZPi",
        "outputId": "69038382-4c04-4ff9-da68-27eb79c9cb9b"
      },
      "execution_count": 25,
      "outputs": [
        {
          "output_type": "execute_result",
          "data": {
            "text/plain": [
              "       publisher                 name\n",
              "1747  Adult Swim            Duck Game\n",
              "2751  Adult Swim  Battle Chef Brigade\n",
              "4528  Adult Swim           Headlander\n",
              "7026  Adult Swim       Death's Gambit\n",
              "7136  Adult Swim           Pool Panic"
            ],
            "text/html": [
              "\n",
              "  <div id=\"df-b4b1522e-b3a3-493c-845b-7802464b295c\" class=\"colab-df-container\">\n",
              "    <div>\n",
              "<style scoped>\n",
              "    .dataframe tbody tr th:only-of-type {\n",
              "        vertical-align: middle;\n",
              "    }\n",
              "\n",
              "    .dataframe tbody tr th {\n",
              "        vertical-align: top;\n",
              "    }\n",
              "\n",
              "    .dataframe thead th {\n",
              "        text-align: right;\n",
              "    }\n",
              "</style>\n",
              "<table border=\"1\" class=\"dataframe\">\n",
              "  <thead>\n",
              "    <tr style=\"text-align: right;\">\n",
              "      <th></th>\n",
              "      <th>publisher</th>\n",
              "      <th>name</th>\n",
              "    </tr>\n",
              "  </thead>\n",
              "  <tbody>\n",
              "    <tr>\n",
              "      <th>1747</th>\n",
              "      <td>Adult Swim</td>\n",
              "      <td>Duck Game</td>\n",
              "    </tr>\n",
              "    <tr>\n",
              "      <th>2751</th>\n",
              "      <td>Adult Swim</td>\n",
              "      <td>Battle Chef Brigade</td>\n",
              "    </tr>\n",
              "    <tr>\n",
              "      <th>4528</th>\n",
              "      <td>Adult Swim</td>\n",
              "      <td>Headlander</td>\n",
              "    </tr>\n",
              "    <tr>\n",
              "      <th>7026</th>\n",
              "      <td>Adult Swim</td>\n",
              "      <td>Death's Gambit</td>\n",
              "    </tr>\n",
              "    <tr>\n",
              "      <th>7136</th>\n",
              "      <td>Adult Swim</td>\n",
              "      <td>Pool Panic</td>\n",
              "    </tr>\n",
              "  </tbody>\n",
              "</table>\n",
              "</div>\n",
              "    <div class=\"colab-df-buttons\">\n",
              "\n",
              "  <div class=\"colab-df-container\">\n",
              "    <button class=\"colab-df-convert\" onclick=\"convertToInteractive('df-b4b1522e-b3a3-493c-845b-7802464b295c')\"\n",
              "            title=\"Convert this dataframe to an interactive table.\"\n",
              "            style=\"display:none;\">\n",
              "\n",
              "  <svg xmlns=\"http://www.w3.org/2000/svg\" height=\"24px\" viewBox=\"0 -960 960 960\">\n",
              "    <path d=\"M120-120v-720h720v720H120Zm60-500h600v-160H180v160Zm220 220h160v-160H400v160Zm0 220h160v-160H400v160ZM180-400h160v-160H180v160Zm440 0h160v-160H620v160ZM180-180h160v-160H180v160Zm440 0h160v-160H620v160Z\"/>\n",
              "  </svg>\n",
              "    </button>\n",
              "\n",
              "  <style>\n",
              "    .colab-df-container {\n",
              "      display:flex;\n",
              "      gap: 12px;\n",
              "    }\n",
              "\n",
              "    .colab-df-convert {\n",
              "      background-color: #E8F0FE;\n",
              "      border: none;\n",
              "      border-radius: 50%;\n",
              "      cursor: pointer;\n",
              "      display: none;\n",
              "      fill: #1967D2;\n",
              "      height: 32px;\n",
              "      padding: 0 0 0 0;\n",
              "      width: 32px;\n",
              "    }\n",
              "\n",
              "    .colab-df-convert:hover {\n",
              "      background-color: #E2EBFA;\n",
              "      box-shadow: 0px 1px 2px rgba(60, 64, 67, 0.3), 0px 1px 3px 1px rgba(60, 64, 67, 0.15);\n",
              "      fill: #174EA6;\n",
              "    }\n",
              "\n",
              "    .colab-df-buttons div {\n",
              "      margin-bottom: 4px;\n",
              "    }\n",
              "\n",
              "    [theme=dark] .colab-df-convert {\n",
              "      background-color: #3B4455;\n",
              "      fill: #D2E3FC;\n",
              "    }\n",
              "\n",
              "    [theme=dark] .colab-df-convert:hover {\n",
              "      background-color: #434B5C;\n",
              "      box-shadow: 0px 1px 3px 1px rgba(0, 0, 0, 0.15);\n",
              "      filter: drop-shadow(0px 1px 2px rgba(0, 0, 0, 0.3));\n",
              "      fill: #FFFFFF;\n",
              "    }\n",
              "  </style>\n",
              "\n",
              "    <script>\n",
              "      const buttonEl =\n",
              "        document.querySelector('#df-b4b1522e-b3a3-493c-845b-7802464b295c button.colab-df-convert');\n",
              "      buttonEl.style.display =\n",
              "        google.colab.kernel.accessAllowed ? 'block' : 'none';\n",
              "\n",
              "      async function convertToInteractive(key) {\n",
              "        const element = document.querySelector('#df-b4b1522e-b3a3-493c-845b-7802464b295c');\n",
              "        const dataTable =\n",
              "          await google.colab.kernel.invokeFunction('convertToInteractive',\n",
              "                                                    [key], {});\n",
              "        if (!dataTable) return;\n",
              "\n",
              "        const docLinkHtml = 'Like what you see? Visit the ' +\n",
              "          '<a target=\"_blank\" href=https://colab.research.google.com/notebooks/data_table.ipynb>data table notebook</a>'\n",
              "          + ' to learn more about interactive tables.';\n",
              "        element.innerHTML = '';\n",
              "        dataTable['output_type'] = 'display_data';\n",
              "        await google.colab.output.renderOutput(dataTable, element);\n",
              "        const docLink = document.createElement('div');\n",
              "        docLink.innerHTML = docLinkHtml;\n",
              "        element.appendChild(docLink);\n",
              "      }\n",
              "    </script>\n",
              "  </div>\n",
              "\n",
              "\n",
              "    <div id=\"df-83e6a85e-61c9-47eb-8993-a27523008299\">\n",
              "      <button class=\"colab-df-quickchart\" onclick=\"quickchart('df-83e6a85e-61c9-47eb-8993-a27523008299')\"\n",
              "                title=\"Suggest charts\"\n",
              "                style=\"display:none;\">\n",
              "\n",
              "<svg xmlns=\"http://www.w3.org/2000/svg\" height=\"24px\"viewBox=\"0 0 24 24\"\n",
              "     width=\"24px\">\n",
              "    <g>\n",
              "        <path d=\"M19 3H5c-1.1 0-2 .9-2 2v14c0 1.1.9 2 2 2h14c1.1 0 2-.9 2-2V5c0-1.1-.9-2-2-2zM9 17H7v-7h2v7zm4 0h-2V7h2v10zm4 0h-2v-4h2v4z\"/>\n",
              "    </g>\n",
              "</svg>\n",
              "      </button>\n",
              "\n",
              "<style>\n",
              "  .colab-df-quickchart {\n",
              "      --bg-color: #E8F0FE;\n",
              "      --fill-color: #1967D2;\n",
              "      --hover-bg-color: #E2EBFA;\n",
              "      --hover-fill-color: #174EA6;\n",
              "      --disabled-fill-color: #AAA;\n",
              "      --disabled-bg-color: #DDD;\n",
              "  }\n",
              "\n",
              "  [theme=dark] .colab-df-quickchart {\n",
              "      --bg-color: #3B4455;\n",
              "      --fill-color: #D2E3FC;\n",
              "      --hover-bg-color: #434B5C;\n",
              "      --hover-fill-color: #FFFFFF;\n",
              "      --disabled-bg-color: #3B4455;\n",
              "      --disabled-fill-color: #666;\n",
              "  }\n",
              "\n",
              "  .colab-df-quickchart {\n",
              "    background-color: var(--bg-color);\n",
              "    border: none;\n",
              "    border-radius: 50%;\n",
              "    cursor: pointer;\n",
              "    display: none;\n",
              "    fill: var(--fill-color);\n",
              "    height: 32px;\n",
              "    padding: 0;\n",
              "    width: 32px;\n",
              "  }\n",
              "\n",
              "  .colab-df-quickchart:hover {\n",
              "    background-color: var(--hover-bg-color);\n",
              "    box-shadow: 0 1px 2px rgba(60, 64, 67, 0.3), 0 1px 3px 1px rgba(60, 64, 67, 0.15);\n",
              "    fill: var(--button-hover-fill-color);\n",
              "  }\n",
              "\n",
              "  .colab-df-quickchart-complete:disabled,\n",
              "  .colab-df-quickchart-complete:disabled:hover {\n",
              "    background-color: var(--disabled-bg-color);\n",
              "    fill: var(--disabled-fill-color);\n",
              "    box-shadow: none;\n",
              "  }\n",
              "\n",
              "  .colab-df-spinner {\n",
              "    border: 2px solid var(--fill-color);\n",
              "    border-color: transparent;\n",
              "    border-bottom-color: var(--fill-color);\n",
              "    animation:\n",
              "      spin 1s steps(1) infinite;\n",
              "  }\n",
              "\n",
              "  @keyframes spin {\n",
              "    0% {\n",
              "      border-color: transparent;\n",
              "      border-bottom-color: var(--fill-color);\n",
              "      border-left-color: var(--fill-color);\n",
              "    }\n",
              "    20% {\n",
              "      border-color: transparent;\n",
              "      border-left-color: var(--fill-color);\n",
              "      border-top-color: var(--fill-color);\n",
              "    }\n",
              "    30% {\n",
              "      border-color: transparent;\n",
              "      border-left-color: var(--fill-color);\n",
              "      border-top-color: var(--fill-color);\n",
              "      border-right-color: var(--fill-color);\n",
              "    }\n",
              "    40% {\n",
              "      border-color: transparent;\n",
              "      border-right-color: var(--fill-color);\n",
              "      border-top-color: var(--fill-color);\n",
              "    }\n",
              "    60% {\n",
              "      border-color: transparent;\n",
              "      border-right-color: var(--fill-color);\n",
              "    }\n",
              "    80% {\n",
              "      border-color: transparent;\n",
              "      border-right-color: var(--fill-color);\n",
              "      border-bottom-color: var(--fill-color);\n",
              "    }\n",
              "    90% {\n",
              "      border-color: transparent;\n",
              "      border-bottom-color: var(--fill-color);\n",
              "    }\n",
              "  }\n",
              "</style>\n",
              "\n",
              "      <script>\n",
              "        async function quickchart(key) {\n",
              "          const quickchartButtonEl =\n",
              "            document.querySelector('#' + key + ' button');\n",
              "          quickchartButtonEl.disabled = true;  // To prevent multiple clicks.\n",
              "          quickchartButtonEl.classList.add('colab-df-spinner');\n",
              "          try {\n",
              "            const charts = await google.colab.kernel.invokeFunction(\n",
              "                'suggestCharts', [key], {});\n",
              "          } catch (error) {\n",
              "            console.error('Error during call to suggestCharts:', error);\n",
              "          }\n",
              "          quickchartButtonEl.classList.remove('colab-df-spinner');\n",
              "          quickchartButtonEl.classList.add('colab-df-quickchart-complete');\n",
              "        }\n",
              "        (() => {\n",
              "          let quickchartButtonEl =\n",
              "            document.querySelector('#df-83e6a85e-61c9-47eb-8993-a27523008299 button');\n",
              "          quickchartButtonEl.style.display =\n",
              "            google.colab.kernel.accessAllowed ? 'block' : 'none';\n",
              "        })();\n",
              "      </script>\n",
              "    </div>\n",
              "\n",
              "    </div>\n",
              "  </div>\n"
            ],
            "application/vnd.google.colaboratory.intrinsic+json": {
              "type": "dataframe",
              "summary": "{\n  \"name\": \"recommend_games_by_publisher(\\\"Adult Swim\\\", top_n=5)\",\n  \"rows\": 5,\n  \"fields\": [\n    {\n      \"column\": \"publisher\",\n      \"properties\": {\n        \"dtype\": \"category\",\n        \"num_unique_values\": 1,\n        \"samples\": [\n          \"Adult Swim\"\n        ],\n        \"semantic_type\": \"\",\n        \"description\": \"\"\n      }\n    },\n    {\n      \"column\": \"name\",\n      \"properties\": {\n        \"dtype\": \"string\",\n        \"num_unique_values\": 5,\n        \"samples\": [\n          \"Battle Chef Brigade\"\n        ],\n        \"semantic_type\": \"\",\n        \"description\": \"\"\n      }\n    }\n  ]\n}"
            }
          },
          "metadata": {},
          "execution_count": 25
        }
      ]
    },
    {
      "cell_type": "markdown",
      "source": [
        "fungsi diatas bekerja dengan cara yang sama seperti genre.\n",
        "contohnya ketika saya mengetikkan Adult Swim, maka fungsi akan mencari 5 games teratas yang memiliki publisher yang sama, yakni Adult Swim"
      ],
      "metadata": {
        "id": "p55cVnB7S342"
      }
    },
    {
      "cell_type": "markdown",
      "metadata": {
        "id": "9dfcaa59"
      },
      "source": [
        "# Evaluasi"
      ]
    },
    {
      "cell_type": "markdown",
      "metadata": {
        "id": "f7f3f977"
      },
      "source": [
        "## Pilih Genre\n"
      ]
    },
    {
      "cell_type": "code",
      "metadata": {
        "id": "4f8c96eb"
      },
      "source": [
        "selected_genre = 'FPS'"
      ],
      "execution_count": 31,
      "outputs": []
    },
    {
      "cell_type": "markdown",
      "source": [
        "Memilih genre yang ingin kita check kemiripannya"
      ],
      "metadata": {
        "id": "OqPiOQPtij5l"
      }
    },
    {
      "cell_type": "code",
      "metadata": {
        "id": "5cb55a54"
      },
      "source": [
        "game_index = df_clean[df_clean['genres'].str.contains(selected_genre, case=False, na=False)].index[0]"
      ],
      "execution_count": 33,
      "outputs": []
    },
    {
      "cell_type": "markdown",
      "source": [
        "fungsi **str.contains()** mencari konten yang mengandung string tertentu. ini diperlukan karena kolom genre berbentuk list. karena itu tidak bisa jika hanya memasukkan input saya, sistem harus mencari content string didalam list"
      ],
      "metadata": {
        "id": "nDZYSYm4iq0K"
      }
    },
    {
      "cell_type": "markdown",
      "metadata": {
        "id": "3dbe3a3c"
      },
      "source": [
        "## Dapatkan Skor Kemiripan"
      ]
    },
    {
      "cell_type": "code",
      "metadata": {
        "id": "eca11014"
      },
      "source": [
        "similarity_scores = list(enumerate(cosine_sim[game_index]))"
      ],
      "execution_count": 34,
      "outputs": []
    },
    {
      "cell_type": "markdown",
      "source": [
        "mengambil skor kemiripan dari matriks, dan merubahnya menjadi pasangan indeks dan skor\n",
        "cosine_sim = merupakan matriks similarity yang telah dihitung.\n",
        "\n",
        "[game_index] : mengakses baris dalam cosine_sim berdasarkan indeks.\n",
        "\n",
        "enumarate():mengembalikan objek enumerasi, yang akan menghasilkan pasangan indeks dan nilai"
      ],
      "metadata": {
        "id": "wpw2klp9jy8H"
      }
    },
    {
      "cell_type": "markdown",
      "source": [
        "## Urutkan Skor Kemiripan"
      ],
      "metadata": {
        "id": "Jt4LHoTqiEss"
      }
    },
    {
      "cell_type": "code",
      "metadata": {
        "id": "4ab0f93a"
      },
      "source": [
        "sorted_similar_games = sorted(similarity_scores, key=lambda x: x[1], reverse=True)"
      ],
      "execution_count": 35,
      "outputs": []
    },
    {
      "cell_type": "markdown",
      "source": [
        "berfungsi untuk mengurutkan games berdasarkan scores similarity yang didapatkan\n",
        "\n",
        "\n",
        "---\n",
        "sorted() mengembalikan list baru yang berisi semua item\n",
        "\n",
        "key=lambda x: x[1]: berfungsi sebagai skor indeks untuk melakukan pengurutan\n",
        "\n",
        "reverse=True: berfungsi mengembalikan nilai secara Descending, dari besar ke kecil\n"
      ],
      "metadata": {
        "id": "p9LHYvMMm8w4"
      }
    },
    {
      "cell_type": "markdown",
      "metadata": {
        "id": "bd08d5f2"
      },
      "source": [
        "## Tampilkan Genre yang Mirip"
      ]
    },
    {
      "cell_type": "code",
      "metadata": {
        "colab": {
          "base_uri": "https://localhost:8080/"
        },
        "id": "3c5f3344",
        "outputId": "8ae3630c-b288-40f9-f9d3-bea783e4d431"
      },
      "source": [
        "print(f\"Top 10 similar genre for '{selected_genre}':\")\n",
        "for i, (index, score) in enumerate(sorted_similar_games[1:11]):\n",
        "    game_name = df_clean.iloc[index]['name']\n",
        "    print(f\"{i+1}. {game_name} (Similarity Score: {score:.4f})\")"
      ],
      "execution_count": 40,
      "outputs": [
        {
          "output_type": "stream",
          "name": "stdout",
          "text": [
            "Top 10 similar genre for 'FPS':\n",
            "1. Diablo II: Lord of Destruction (Similarity Score: 0.8478)\n",
            "2. Diablo (Similarity Score: 0.6771)\n",
            "3. Diablo III (Similarity Score: 0.6327)\n",
            "4. Diablo IV (Similarity Score: 0.6187)\n",
            "5. Diablo III: Ultimate Evil Edition (Similarity Score: 0.5338)\n",
            "6. Diablo III: Rise of the Necromancer (Similarity Score: 0.5081)\n",
            "7. Diablo III: Reaper of Souls (Similarity Score: 0.5078)\n",
            "8. Diablo II: Resurrected (Similarity Score: 0.5027)\n",
            "9. Diablo III: Eternal Collection (Similarity Score: 0.3438)\n",
            "10. Starcraft II: Legacy of the Void (Similarity Score: 0.2100)\n"
          ]
        }
      ]
    },
    {
      "cell_type": "markdown",
      "source": [
        "fungsi print diatas mengembalikan isi berdasarkan inputan yang diberikan\n",
        "\n",
        "Perintah for akan melakukan pengulangan berdasarkan daftar game yang sudah diurutkan\n",
        "\n",
        "df_clean.iloc[index]['name'] berfungsi untuk mengambil nama game dari dataset\n",
        "\n",
        "print(f\"{i+1}. {game_name} (Similarity Score: {score:.4f})\") berfungsi menampilkan nama games apa saja yang memiliki kemiripan genre"
      ],
      "metadata": {
        "id": "5LW8n57Xn-xU"
      }
    }
  ]
}